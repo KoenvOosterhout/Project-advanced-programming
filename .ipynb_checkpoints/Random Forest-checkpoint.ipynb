{
 "cells": [
  {
   "cell_type": "code",
   "execution_count": 183,
   "id": "6f071de5",
   "metadata": {},
   "outputs": [],
   "source": [
    "# Import the required libraries\n",
    "import pandas as pd\n",
    "import numpy as np\n",
    "import csv\n",
    "import sklearn.model_selection\n",
    "import sklearn.ensemble\n",
    "import rdkit.Chem.Descriptors\n",
    "from rdkit import Chem"
   ]
  },
  {
   "cell_type": "code",
   "execution_count": 184,
   "id": "82384d6b",
   "metadata": {},
   "outputs": [],
   "source": [
    "# load the data into a dataframe\n",
    "DataFrame = pd.read_csv('tested_molecules_1.csv')\n",
    "original_df = DataFrame.copy()"
   ]
  },
  {
   "cell_type": "code",
   "execution_count": 185,
   "id": "c7679483",
   "metadata": {},
   "outputs": [],
   "source": [
    "# Split the column\n",
    "original_df[['SMILES', 'ALDH1_inhibition']] = original_df['SMILES,\"ALDH1_inhibition\"'].str.split(',', expand=True)\n",
    "original_df.drop('SMILES,\"ALDH1_inhibition\"', axis=1, inplace=True)\n",
    "\n",
    "original_df['ALDH1_inhibition'] = original_df['ALDH1_inhibition'].str.strip('\"')\n",
    "# Read file for original_df_test\n",
    "original_df_test = pd.read_csv('tested_molecules_2.csv')\n",
    "\n",
    "original_df_test = pd.read_csv('tested_molecules_2.csv')\n",
    "original_df_test[['SMILES', 'ALDH1_inhibition']] = original_df_test['SMILES;ALDH1_inhibition'].str.split(';', expand=True)\n",
    "original_df_test.drop('SMILES;ALDH1_inhibition', axis=1, inplace=True)\n",
    "\n",
    "combined_df = pd.concat([original_df, original_df_test], ignore_index=True)\n",
    "\n",
    "DataFrame = combined_df.copy()"
   ]
  },
  {
   "cell_type": "code",
   "execution_count": 186,
   "id": "b2c0d8b2",
   "metadata": {},
   "outputs": [],
   "source": [
    "# create lists for your true positives, true negatives, false positives and false negatives. Only run before the first iteration.\n",
    "TP_list = []\n",
    "TN_list = []\n",
    "FP_list = []\n",
    "FN_list = []"
   ]
  },
  {
   "cell_type": "code",
   "execution_count": 187,
   "id": "80b83d77",
   "metadata": {},
   "outputs": [
    {
     "name": "stdout",
     "output_type": "stream",
     "text": [
      "1914        CC1CCCN(C(=O)c2sc3cc([N+](=O)[O-])ccc3c2Cl)C1\n",
      "757     Cc1ccc2c(c1)N1C(=O)c3ccccc3C1C1=C(O)CC(C)(C)CC...\n",
      "814                       COc1cc(S(=O)(=O)Nc2cccnc2)ccc1F\n",
      "363             CC(C)NC(=O)CSc1nnc(-c2ccc(F)cc2)c2ccccc12\n",
      "1504                         FC(c1nc2ccccc2[nH]1)C(F)(F)F\n",
      "                              ...                        \n",
      "354     COc1ccccc1NS(=O)(=O)c1ccc([O-])c(C(=O)OCc2cccc...\n",
      "1308                         [S-]c1ncnc2sc(Nc3ccccc3)nc12\n",
      "571                          CCNC(=O)CCSc1nnc(-c2ccco2)o1\n",
      "324     COc1ccccc1N1CC[NH+](CCn2c(=O)[nH]c3c([nH]c4ccc...\n",
      "391             Cc1ccc(C2=NN(CC(=O)NCc3cccs3)C(=O)CC2)cc1\n",
      "Name: SMILES, Length: 1600, dtype: object\n",
      "1914    1\n",
      "757     0\n",
      "814     0\n",
      "363     0\n",
      "1504    0\n",
      "       ..\n",
      "354     0\n",
      "1308    0\n",
      "571     0\n",
      "324     0\n",
      "391     0\n",
      "Name: ALDH1_inhibition, Length: 1600, dtype: object\n"
     ]
    }
   ],
   "source": [
    "# Randomly select 20% of the data to be the test set. The other 80% will be the training set.\n",
    "# Devide the training set into the molecules (X) and the labels (y). \n",
    "Train, Test = sklearn.model_selection.train_test_split(DataFrame, test_size = 0.2)\n",
    "X = Train['SMILES']\n",
    "y = Train['ALDH1_inhibition']\n",
    "print(X)\n",
    "print(y)"
   ]
  },
  {
   "cell_type": "code",
   "execution_count": 188,
   "id": "15ea2ef7",
   "metadata": {},
   "outputs": [],
   "source": [
    "# Create a matrix and add the descriptors for the training set.\n",
    "\n",
    "# descriptor ... : MaxEStateIndex\n",
    "\n",
    "feature_matrix_train = pd.DataFrame()\n",
    "X_train = Train['SMILES']\n",
    "descripted_X_train = []\n",
    "for molecule in X_train:\n",
    "    mol = rdkit.Chem.MolFromSmiles(molecule)\n",
    "    desc_value = rdkit.Chem.Descriptors.MaxEStateIndex(mol)\n",
    "    descripted_X_train.append(desc_value)\n",
    "feature_matrix_train['MaxEStateIndex'] = descripted_X_train"
   ]
  },
  {
   "cell_type": "code",
   "execution_count": 189,
   "id": "eedb0632",
   "metadata": {},
   "outputs": [],
   "source": [
    "\n",
    "# descriptor 1: qed\n",
    "feature_matrix_train = pd.DataFrame()\n",
    "X_train = Train['SMILES']\n",
    "descripted_X_train = []\n",
    "for molecule in X_train:\n",
    "    mol = rdkit.Chem.MolFromSmiles(molecule)\n",
    "    desc_value = rdkit.Chem.Descriptors.qed(mol)\n",
    "    descripted_X_train.append(desc_value)\n",
    "feature_matrix_train['qed'] = descripted_X_train"
   ]
  },
  {
   "cell_type": "code",
   "execution_count": 190,
   "id": "955f3a83",
   "metadata": {},
   "outputs": [],
   "source": [
    "# descriptor 2: MolWt\n",
    "descripted_X_train = []\n",
    "for molecule in X_train:\n",
    "    mol = Chem.MolFromSmiles(molecule)\n",
    "    desc_value = rdkit.Chem.Descriptors.MolWt(mol)\n",
    "    descripted_X_train.append(desc_value)\n",
    "feature_matrix_train['MolWt'] = descripted_X_train"
   ]
  },
  {
   "cell_type": "code",
   "execution_count": 191,
   "id": "dc6a07e7",
   "metadata": {},
   "outputs": [],
   "source": [
    "# descriptor 2: MaxPartialCharge\n",
    "descripted_X_train = []\n",
    "for molecule in X_train:\n",
    "    mol = Chem.MolFromSmiles(molecule)\n",
    "    desc_value = rdkit.Chem.Descriptors.MaxPartialCharge(mol)\n",
    "    descripted_X_train.append(desc_value)\n",
    "feature_matrix_train['MaxPartialCharge'] = descripted_X_train"
   ]
  },
  {
   "cell_type": "code",
   "execution_count": 192,
   "id": "1276cd6f",
   "metadata": {},
   "outputs": [],
   "source": [
    "# descriptor 2: MinPartialCharge\n",
    "descripted_X_train = []\n",
    "for molecule in X_train:\n",
    "    mol = Chem.MolFromSmiles(molecule)\n",
    "    desc_value = rdkit.Chem.Descriptors.MinPartialCharge(mol)\n",
    "    descripted_X_train.append(desc_value)\n",
    "feature_matrix_train['MinPartialCharge'] = descripted_X_train"
   ]
  },
  {
   "cell_type": "code",
   "execution_count": 193,
   "id": "16ba77f8",
   "metadata": {},
   "outputs": [],
   "source": [
    "# descriptor 3: BCUT2D_CHGHI\n",
    "descripted_X_train = []\n",
    "for molecule in X_train:\n",
    "    mol = Chem.MolFromSmiles(molecule)\n",
    "    desc_value = rdkit.Chem.Descriptors.BCUT2D_CHGHI(mol)\n",
    "    descripted_X_train.append(desc_value)\n",
    "feature_matrix_train['BCUT2D_CHGHI'] = descripted_X_train"
   ]
  },
  {
   "cell_type": "code",
   "execution_count": 194,
   "id": "41a81da1",
   "metadata": {},
   "outputs": [],
   "source": [
    "# descriptor 3: BCUT2D_CHGLO\n",
    "descripted_X_train = []\n",
    "for molecule in X_train:\n",
    "    mol = Chem.MolFromSmiles(molecule)\n",
    "    desc_value = rdkit.Chem.Descriptors.BCUT2D_CHGLO(mol)\n",
    "    descripted_X_train.append(desc_value)\n",
    "feature_matrix_train['BCUT2D_CHGLO'] = descripted_X_train"
   ]
  },
  {
   "cell_type": "code",
   "execution_count": 195,
   "id": "76faf1f0",
   "metadata": {},
   "outputs": [],
   "source": [
    "# descriptor 4: BCUT2D_LOGPHI\n",
    "descripted_X_train = []\n",
    "for molecule in X_train:\n",
    "    mol = Chem.MolFromSmiles(molecule)\n",
    "    desc_value = rdkit.Chem.Descriptors.BCUT2D_LOGPHI(mol)\n",
    "    descripted_X_train.append(desc_value)\n",
    "feature_matrix_train['BCUT2D_LOGPHI'] = descripted_X_train"
   ]
  },
  {
   "cell_type": "code",
   "execution_count": 196,
   "id": "e02f7467",
   "metadata": {},
   "outputs": [],
   "source": [
    "# descriptor 5: BCUT2D_MRHI\n",
    "descripted_X_train = []\n",
    "for molecule in X_train:\n",
    "    mol = Chem.MolFromSmiles(molecule)\n",
    "    desc_value = rdkit.Chem.Descriptors.BCUT2D_MRHI(mol)\n",
    "    descripted_X_train.append(desc_value)\n",
    "feature_matrix_train['BCUT2D_MRHI'] = descripted_X_train"
   ]
  },
  {
   "cell_type": "code",
   "execution_count": 197,
   "id": "015d0bf4",
   "metadata": {},
   "outputs": [],
   "source": [
    "# descriptor 5: BalabanJ\n",
    "descripted_X_train = []\n",
    "for molecule in X_train:\n",
    "    mol = Chem.MolFromSmiles(molecule)\n",
    "    desc_value = rdkit.Chem.Descriptors.BalabanJ(mol)\n",
    "    descripted_X_train.append(desc_value)\n",
    "feature_matrix_train['BalabanJ'] = descripted_X_train"
   ]
  },
  {
   "cell_type": "markdown",
   "id": "6fc564e2",
   "metadata": {},
   "source": [
    "# descriptor 6: AvgIpc\n",
    "descripted_X_train = []\n",
    "for molecule in X_train:\n",
    "    mol = Chem.MolFromSmiles(molecule)\n",
    "    desc_value = rdkit.Chem.Descriptors.AvgIpc(mol)\n",
    "    descripted_X_train.append(desc_value)\n",
    "feature_matrix_train['AvgIpc'] = descripted_X_train"
   ]
  },
  {
   "cell_type": "code",
   "execution_count": 198,
   "id": "876432fa",
   "metadata": {},
   "outputs": [],
   "source": [
    "# descriptor 7: BertzCT\n",
    "descripted_X_train = []\n",
    "for molecule in X_train:\n",
    "    mol = Chem.MolFromSmiles(molecule)\n",
    "    desc_value = rdkit.Chem.Descriptors.BertzCT(mol)\n",
    "    descripted_X_train.append(desc_value)\n",
    "feature_matrix_train['BertzCT'] = descripted_X_train"
   ]
  },
  {
   "cell_type": "code",
   "execution_count": 199,
   "id": "3742f6ef",
   "metadata": {},
   "outputs": [],
   "source": [
    "# descriptor 7: Kappa2\n",
    "descripted_X_train = []\n",
    "for molecule in X_train:\n",
    "    mol = Chem.MolFromSmiles(molecule)\n",
    "    desc_value = rdkit.Chem.Descriptors.Kappa2(mol)\n",
    "    descripted_X_train.append(desc_value)\n",
    "feature_matrix_train['Kappa2'] = descripted_X_train"
   ]
  },
  {
   "cell_type": "code",
   "execution_count": 200,
   "id": "06ddcd40",
   "metadata": {},
   "outputs": [],
   "source": [
    "# descriptor 7: PEOE_VSA7\n",
    "descripted_X_train = []\n",
    "for molecule in X_train:\n",
    "    mol = Chem.MolFromSmiles(molecule)\n",
    "    desc_value = rdkit.Chem.Descriptors.PEOE_VSA7(mol)\n",
    "    descripted_X_train.append(desc_value)\n",
    "feature_matrix_train['PEOE_VSA7'] = descripted_X_train"
   ]
  },
  {
   "cell_type": "code",
   "execution_count": 201,
   "id": "ca9b3999",
   "metadata": {},
   "outputs": [],
   "source": [
    "# descriptor 8: SMR_VSA1\n",
    "descripted_X_train = []\n",
    "for molecule in X_train:\n",
    "    mol = Chem.MolFromSmiles(molecule)\n",
    "    desc_value = rdkit.Chem.Descriptors.SMR_VSA1(mol)\n",
    "    descripted_X_train.append(desc_value)\n",
    "feature_matrix_train['SMR_VSA1'] = descripted_X_train"
   ]
  },
  {
   "cell_type": "code",
   "execution_count": 202,
   "id": "934d7c4e",
   "metadata": {},
   "outputs": [],
   "source": [
    "# descriptor 8: SMR_VSA10\n",
    "descripted_X_train = []\n",
    "for molecule in X_train:\n",
    "    mol = Chem.MolFromSmiles(molecule)\n",
    "    desc_value = rdkit.Chem.Descriptors.SMR_VSA10(mol)\n",
    "    descripted_X_train.append(desc_value)\n",
    "feature_matrix_train['SMR_VSA10'] = descripted_X_train"
   ]
  },
  {
   "cell_type": "markdown",
   "id": "a5aa293a",
   "metadata": {},
   "source": [
    "# descriptor 9: SlogP_VSA12\n",
    "descripted_X_train = []\n",
    "for molecule in X_train:\n",
    "    mol = Chem.MolFromSmiles(molecule)\n",
    "    desc_value = rdkit.Chem.Descriptors.SlogP_VSA12(mol)\n",
    "    descripted_X_train.append(desc_value)\n",
    "feature_matrix_train['SlogP_VSA12'] = descripted_X_train"
   ]
  },
  {
   "cell_type": "markdown",
   "id": "98748fb8",
   "metadata": {},
   "source": [
    "# descriptor 10: NumHAcceptors\n",
    "descripted_X_train = []\n",
    "for molecule in X_train:\n",
    "    mol = Chem.MolFromSmiles(molecule)\n",
    "    desc_value = rdkit.Chem.Descriptors.NumHAcceptors(mol)\n",
    "    descripted_X_train.append(desc_value)\n",
    "feature_matrix_train['NumHAcceptors'] = descripted_X_train"
   ]
  },
  {
   "cell_type": "markdown",
   "id": "3d280310",
   "metadata": {},
   "source": [
    "# descriptor 11: NumHeteroatoms\n",
    "descripted_X_train = []\n",
    "for molecule in X_train:\n",
    "    mol = Chem.MolFromSmiles(molecule)\n",
    "    desc_value = rdkit.Chem.Descriptors.NumHeteroatoms(mol)\n",
    "    descripted_X_train.append(desc_value)\n",
    "feature_matrix_train['NumHeteroatoms'] = descripted_X_train"
   ]
  },
  {
   "cell_type": "markdown",
   "id": "f733d272",
   "metadata": {},
   "source": [
    "# descriptor 12: RingCount\n",
    "descripted_X_train = []\n",
    "for molecule in X_train:\n",
    "    mol = Chem.MolFromSmiles(molecule)\n",
    "    desc_value = rdkit.Chem.Descriptors.RingCount(mol)\n",
    "    descripted_X_train.append(desc_value)\n",
    "feature_matrix_train['RingCount'] = descripted_X_train"
   ]
  },
  {
   "cell_type": "markdown",
   "id": "8836e8c6",
   "metadata": {},
   "source": [
    "# descriptor 13: fr_C_S\n",
    "descripted_X_train = []\n",
    "for molecule in X_train:\n",
    "    mol = Chem.MolFromSmiles(molecule)\n",
    "    desc_value = rdkit.Chem.Descriptors.fr_C_S(mol)\n",
    "    descripted_X_train.append(desc_value)\n",
    "feature_matrix_train['fr_C_S'] = descripted_X_train"
   ]
  },
  {
   "cell_type": "markdown",
   "id": "78d70ee6",
   "metadata": {},
   "source": [
    "# descriptor 14: fr_furan\n",
    "descripted_X_train = []\n",
    "for molecule in X_train:\n",
    "    mol = Chem.MolFromSmiles(molecule)\n",
    "    desc_value = rdkit.Chem.Descriptors.fr_furan(mol)\n",
    "    descripted_X_train.append(desc_value)\n",
    "feature_matrix_train['fr_furan'] = descripted_X_train\n",
    "print(feature_matrix_train)"
   ]
  },
  {
   "cell_type": "code",
   "execution_count": 203,
   "id": "1d18009b",
   "metadata": {},
   "outputs": [],
   "source": [
    "# descriptor 14: SlogP_VSA5\n",
    "descripted_X_train = []\n",
    "for molecule in X_train:\n",
    "    mol = Chem.MolFromSmiles(molecule)\n",
    "    desc_value = rdkit.Chem.Descriptors.SlogP_VSA5(mol)\n",
    "    descripted_X_train.append(desc_value)\n",
    "feature_matrix_train['SlogP_VSA5'] = descripted_X_train"
   ]
  },
  {
   "cell_type": "code",
   "execution_count": 204,
   "id": "ceb61ed4",
   "metadata": {},
   "outputs": [],
   "source": [
    "# descriptor 14: VSA_EState8\n",
    "descripted_X_train = []\n",
    "for molecule in X_train:\n",
    "    mol = Chem.MolFromSmiles(molecule)\n",
    "    desc_value = rdkit.Chem.Descriptors.VSA_EState8(mol)\n",
    "    descripted_X_train.append(desc_value)\n",
    "feature_matrix_train['VSA_EState8'] = descripted_X_train"
   ]
  },
  {
   "cell_type": "code",
   "execution_count": 205,
   "id": "4543e148",
   "metadata": {},
   "outputs": [
    {
     "name": "stdout",
     "output_type": "stream",
     "text": [
      "           qed    MolWt  MaxPartialCharge  MinPartialCharge  BCUT2D_CHGHI  \\\n",
      "0     0.604215  338.816          0.270383         -0.337639      2.261252   \n",
      "1     0.683971  358.441          0.259066         -0.511850      2.465127   \n",
      "2     0.931294  282.296          0.261583         -0.493640      2.163720   \n",
      "3     0.701619  355.438          0.230117         -0.353202      2.127215   \n",
      "4     0.731601  218.153          0.426518         -0.339206      2.429003   \n",
      "...        ...      ...               ...               ...           ...   \n",
      "1595  0.308365  457.440          0.337373         -0.871876      2.194345   \n",
      "1596  0.566230  259.339          0.189299         -0.757928      2.044497   \n",
      "1597  0.805523  267.310          0.283774         -0.459227      2.109591   \n",
      "1598  0.440990  420.493          0.328647         -0.494586      2.223963   \n",
      "1599  0.908778  341.436          0.243046         -0.349597      2.227686   \n",
      "\n",
      "      BCUT2D_CHGLO  BCUT2D_LOGPHI  BCUT2D_MRHI  BalabanJ      BertzCT  \\\n",
      "0        -2.301876       2.378236     7.212323  1.977612   758.570671   \n",
      "1        -2.346947       2.515939     6.175667  1.854774  1061.798074   \n",
      "2        -2.087846       2.224463     7.923324  2.346257   674.628781   \n",
      "3        -2.101860       2.311454     7.996453  1.933128   896.814723   \n",
      "4        -2.080394       2.344533     5.742850  2.450677   441.162234   \n",
      "...            ...            ...          ...       ...          ...   \n",
      "1595     -2.157607       2.275057     7.923455  1.806204  1274.296209   \n",
      "1596     -2.014089       2.270359     7.585606  1.993317   650.885130   \n",
      "1597     -1.986249       2.229799     7.986158  1.823077   495.366328   \n",
      "1598     -2.338532       2.268307     6.037177  1.301580  1344.835684   \n",
      "1599     -2.228760       2.155464     7.094339  1.640978   751.080879   \n",
      "\n",
      "        Kappa2  PEOE_VSA7   SMR_VSA1  SMR_VSA10  SlogP_VSA5  VSA_EState8  \\\n",
      "0     5.852264  24.825916   9.717848  44.618436   29.437065     3.617837   \n",
      "1     5.318381  48.085553   9.901065  22.993637   54.215850     6.317336   \n",
      "2     5.230715  24.265468  17.545075  15.710677    0.000000     0.000000   \n",
      "3     7.610773  38.112943   9.184952  28.441513   13.847474     3.851704   \n",
      "4     3.217061  12.132734  17.561660  11.033401   11.996080     0.000000   \n",
      "...        ...        ...        ...        ...         ...          ...   \n",
      "1595  9.350279  29.828920  32.715899  27.367369   15.921440    -0.336910   \n",
      "1596  4.230680  12.132734   0.000000  45.131617    0.000000     0.000000   \n",
      "1597  6.247919  19.056471  13.628839  17.669065   13.344559     2.533119   \n",
      "1598  7.957646  18.199101   9.636773  27.623713    0.000000     4.820091   \n",
      "1599  7.399891  23.933619   9.589074  28.862830   28.845693     2.465133   \n",
      "\n",
      "      MolLogP  \n",
      "0     4.33500  \n",
      "1     5.41472  \n",
      "2     2.03010  \n",
      "3     4.05260  \n",
      "4     3.13580  \n",
      "...       ...  \n",
      "1595  2.83480  \n",
      "1596  2.73570  \n",
      "1597  1.94790  \n",
      "1598  0.58480  \n",
      "1599  2.69942  \n",
      "\n",
      "[1600 rows x 17 columns]\n"
     ]
    }
   ],
   "source": [
    "# descriptor 14: MolLogP\n",
    "descripted_X_train = []\n",
    "for molecule in X_train:\n",
    "    mol = Chem.MolFromSmiles(molecule)\n",
    "    desc_value = rdkit.Chem.Descriptors.MolLogP(mol)\n",
    "    descripted_X_train.append(desc_value)\n",
    "feature_matrix_train['MolLogP'] = descripted_X_train\n",
    "print(feature_matrix_train)"
   ]
  },
  {
   "cell_type": "code",
   "execution_count": 206,
   "id": "d9670d37",
   "metadata": {},
   "outputs": [],
   "source": [
    "# Train a random forest using the feature matrix and the labels.\n",
    "forest = sklearn.ensemble.RandomForestClassifier()\n",
    "predictor = forest.fit(feature_matrix_train, y)"
   ]
  },
  {
   "cell_type": "code",
   "execution_count": 207,
   "id": "0f3c6bf9",
   "metadata": {},
   "outputs": [
    {
     "name": "stdout",
     "output_type": "stream",
     "text": [
      "['0', '0', '0', '1', '0', '0', '0', '0', '1', '0', '1', '1', '0', '0', '0', '1', '0', '1', '1', '0', '0', '1', '1', '0', '0', '0', '0', '0', '0', '0', '1', '0', '1', '0', '1', '0', '0', '0', '0', '0', '1', '1', '0', '1', '1', '1', '0', '0', '1', '1', '1', '1', '0', '1', '1', '0', '0', '0', '0', '0', '1', '0', '0', '0', '1', '1', '0', '0', '0', '0', '0', '1', '0', '0', '0', '1', '1', '1', '0', '1', '1', '0', '0', '1', '1', '0', '1', '1', '0', '1', '1', '0', '0', '1', '1', '1', '0', '1', '0', '1', '0', '0', '0', '1', '0', '1', '0', '1', '0', '1', '0', '1', '1', '0', '0', '0', '0', '0', '0', '0', '1', '1', '0', '0', '0', '0', '1', '0', '1', '0', '0', '0', '0', '0', '0', '0', '0', '0', '1', '1', '1', '1', '0', '0', '1', '0', '0', '0', '0', '1', '1', '1', '0', '1', '0', '0', '0', '1', '0', '0', '0', '1', '0', '0', '0', '0', '0', '0', '1', '0', '0', '0', '1', '0', '1', '0', '1', '1', '0', '1', '1', '0', '0', '0', '0', '0', '1', '0', '1', '0', '0', '0', '0', '1', '1', '0', '1', '0', '1', '0', '0', '0', '0', '0', '0', '0', '0', '0', '1', '0', '0', '1', '1', '0', '0', '1', '0', '0', '1', '0', '1', '0', '1', '0', '0', '0', '0', '1', '0', '0', '0', '0', '0', '0', '0', '0', '0', '0', '0', '0', '0', '0', '1', '1', '0', '0', '1', '0', '0', '0', '0', '0', '0', '0', '1', '0', '0', '0', '0', '0', '0', '0', '0', '0', '1', '1', '0', '0', '0', '1', '0', '0', '1', '1', '1', '0', '0', '0', '1', '0', '0', '1', '0', '1', '1', '0', '0', '0', '0', '0', '0', '0', '0', '0', '1', '0', '0', '1', '0', '1', '0', '0', '0', '0', '0', '0', '0', '0', '0', '0', '0', '0', '0', '1', '0', '0', '0', '0', '0', '0', '0', '0', '1', '0', '1', '0', '0', '0', '0', '0', '1', '0', '0', '1', '0', '0', '0', '0', '1', '0', '0', '0', '0', '0', '1', '0', '0', '1', '0', '1', '1', '0', '0', '0', '1', '0', '0', '0', '1', '0', '0', '1', '0', '0', '0', '1', '0', '0', '0', '0', '0', '0', '0', '0', '0', '0', '0', '0', '0', '0', '0', '1', '0', '1', '1', '1', '1', '1', '0', '1', '1', '0', '0', '0', '0', '0', '1', '0', '0', '0']\n"
     ]
    }
   ],
   "source": [
    "# Store the correct labels for the test set in an array.\n",
    "y_test = Test['ALDH1_inhibition']\n",
    "test_correct_values = []\n",
    "for y in y_test:\n",
    "    test_correct_values.append(y)\n",
    "print(test_correct_values)"
   ]
  },
  {
   "cell_type": "code",
   "execution_count": 208,
   "id": "96708375",
   "metadata": {},
   "outputs": [],
   "source": [
    "# Create a matrix and add the descriptors for the training set.\n",
    "\n",
    "# descriptor ... : MaxEStateIndex\n",
    "\n",
    "feature_matrix_test = pd.DataFrame()\n",
    "X_train = Train['SMILES']\n",
    "descripted_X_test = []\n",
    "for molecule in X_test:\n",
    "    mol = rdkit.Chem.MolFromSmiles(molecule)\n",
    "    desc_value = rdkit.Chem.Descriptors.MaxEStateIndex(mol)\n",
    "    descripted_X_test.append(desc_value)\n",
    "feature_matrix_test['MaxEStateIndex'] = descripted_X_test"
   ]
  },
  {
   "cell_type": "code",
   "execution_count": 209,
   "id": "491fb250",
   "metadata": {},
   "outputs": [],
   "source": [
    "# Create a matrix and add the descriptors for the test set.\n",
    "\n",
    "# descriptor 1: qed\n",
    "feature_matrix_test = pd.DataFrame()\n",
    "X_test = Test['SMILES']\n",
    "descripted_X_test = []\n",
    "for molecule in X_test:\n",
    "    mol = rdkit.Chem.MolFromSmiles(molecule)\n",
    "    desc_value = rdkit.Chem.Descriptors.qed(mol)\n",
    "    descripted_X_test.append(desc_value)\n",
    "feature_matrix_test['qed'] = descripted_X_test"
   ]
  },
  {
   "cell_type": "code",
   "execution_count": 210,
   "id": "b44101d1",
   "metadata": {},
   "outputs": [],
   "source": [
    "# descriptor 2: MolWt\n",
    "descripted_X_test = []\n",
    "for molecule in X_test:\n",
    "    mol = Chem.MolFromSmiles(molecule)\n",
    "    desc_value = rdkit.Chem.Descriptors.MolWt(mol)\n",
    "    descripted_X_test.append(desc_value)\n",
    "feature_matrix_test['MolWt'] = descripted_X_test"
   ]
  },
  {
   "cell_type": "code",
   "execution_count": 211,
   "id": "f0fa7d36",
   "metadata": {},
   "outputs": [],
   "source": [
    "# descriptor 2: MaxPartialCharge\n",
    "descripted_X_test = []\n",
    "for molecule in X_test:\n",
    "    mol = Chem.MolFromSmiles(molecule)\n",
    "    desc_value = rdkit.Chem.Descriptors.MaxPartialCharge(mol)\n",
    "    descripted_X_test.append(desc_value)\n",
    "feature_matrix_test['MaxPartialCharge'] = descripted_X_test"
   ]
  },
  {
   "cell_type": "code",
   "execution_count": 212,
   "id": "17cf3a39",
   "metadata": {},
   "outputs": [],
   "source": [
    "# descriptor 2: MinPartialCharge\n",
    "descripted_X_test = []\n",
    "for molecule in X_test:\n",
    "    mol = Chem.MolFromSmiles(molecule)\n",
    "    desc_value = rdkit.Chem.Descriptors.MinPartialCharge(mol)\n",
    "    descripted_X_test.append(desc_value)\n",
    "feature_matrix_test['MinPartialCharge'] = descripted_X_test"
   ]
  },
  {
   "cell_type": "code",
   "execution_count": 213,
   "id": "dfa11438",
   "metadata": {},
   "outputs": [],
   "source": [
    "# descriptor 3: BCUT2D_CHGHI\n",
    "descripted_X_test = []\n",
    "for molecule in X_test:\n",
    "    mol = Chem.MolFromSmiles(molecule)\n",
    "    desc_value = rdkit.Chem.Descriptors.BCUT2D_CHGHI(mol)\n",
    "    descripted_X_test.append(desc_value)\n",
    "feature_matrix_test['BCUT2D_CHGHI'] = descripted_X_test"
   ]
  },
  {
   "cell_type": "code",
   "execution_count": 214,
   "id": "15c804cd",
   "metadata": {},
   "outputs": [],
   "source": [
    "# descriptor 3: BCUT2D_CHGLO\n",
    "descripted_X_test = []\n",
    "for molecule in X_test:\n",
    "    mol = Chem.MolFromSmiles(molecule)\n",
    "    desc_value = rdkit.Chem.Descriptors.BCUT2D_CHGLO(mol)\n",
    "    descripted_X_test.append(desc_value)\n",
    "feature_matrix_test['BCUT2D_CHGLO'] = descripted_X_test"
   ]
  },
  {
   "cell_type": "code",
   "execution_count": 215,
   "id": "5f852c88",
   "metadata": {},
   "outputs": [],
   "source": [
    "# descriptor 4: BCUT2D_LOGPHI\n",
    "descripted_X_test = []\n",
    "for molecule in X_test:\n",
    "    mol = Chem.MolFromSmiles(molecule)\n",
    "    desc_value = rdkit.Chem.Descriptors.BCUT2D_LOGPHI(mol)\n",
    "    descripted_X_test.append(desc_value)\n",
    "feature_matrix_test['BCUT2D_LOGPHI'] = descripted_X_test"
   ]
  },
  {
   "cell_type": "code",
   "execution_count": 216,
   "id": "f7c0eb72",
   "metadata": {},
   "outputs": [],
   "source": [
    "# descriptor 5: BCUT2D_MRHI\n",
    "descripted_X_test = []\n",
    "for molecule in X_test:\n",
    "    mol = Chem.MolFromSmiles(molecule)\n",
    "    desc_value = rdkit.Chem.Descriptors.BCUT2D_MRHI(mol)\n",
    "    descripted_X_test.append(desc_value)\n",
    "feature_matrix_test['BCUT2D_MRHI'] = descripted_X_test"
   ]
  },
  {
   "cell_type": "code",
   "execution_count": 217,
   "id": "5dd17078",
   "metadata": {},
   "outputs": [],
   "source": [
    "# descriptor 5: BalabanJ\n",
    "descripted_X_test = []\n",
    "for molecule in X_test:\n",
    "    mol = Chem.MolFromSmiles(molecule)\n",
    "    desc_value = rdkit.Chem.Descriptors.BalabanJ(mol)\n",
    "    descripted_X_test.append(desc_value)\n",
    "feature_matrix_test['BalabanJ'] = descripted_X_test"
   ]
  },
  {
   "cell_type": "markdown",
   "id": "508240f3",
   "metadata": {},
   "source": [
    "# descriptor 6: AvgIpc\n",
    "descripted_X_test = []\n",
    "for molecule in X_test:\n",
    "    mol = Chem.MolFromSmiles(molecule)\n",
    "    desc_value = rdkit.Chem.Descriptors.AvgIpc(mol)\n",
    "    descripted_X_test.append(desc_value)\n",
    "feature_matrix_test['AvgIpc'] = descripted_X_test"
   ]
  },
  {
   "cell_type": "code",
   "execution_count": 218,
   "id": "37ce3e5b",
   "metadata": {},
   "outputs": [],
   "source": [
    "# descriptor 7: BertzCT\n",
    "descripted_X_test = []\n",
    "for molecule in X_test:\n",
    "    mol = Chem.MolFromSmiles(molecule)\n",
    "    desc_value = rdkit.Chem.Descriptors.BertzCT(mol)\n",
    "    descripted_X_test.append(desc_value)\n",
    "feature_matrix_test['BertzCT'] = descripted_X_test"
   ]
  },
  {
   "cell_type": "code",
   "execution_count": 219,
   "id": "06f23d2c",
   "metadata": {},
   "outputs": [],
   "source": [
    "# descriptor 7: Kappa2\n",
    "descripted_X_test = []\n",
    "for molecule in X_test:\n",
    "    mol = Chem.MolFromSmiles(molecule)\n",
    "    desc_value = rdkit.Chem.Descriptors.Kappa2(mol)\n",
    "    descripted_X_test.append(desc_value)\n",
    "feature_matrix_test['Kappa2'] = descripted_X_test"
   ]
  },
  {
   "cell_type": "code",
   "execution_count": 220,
   "id": "78a05ffa",
   "metadata": {},
   "outputs": [],
   "source": [
    "# descriptor 7: PEOE_VSA7\n",
    "descripted_X_test = []\n",
    "for molecule in X_test:\n",
    "    mol = Chem.MolFromSmiles(molecule)\n",
    "    desc_value = rdkit.Chem.Descriptors.PEOE_VSA7(mol)\n",
    "    descripted_X_test.append(desc_value)\n",
    "feature_matrix_test['PEOE_VSA7'] = descripted_X_test"
   ]
  },
  {
   "cell_type": "code",
   "execution_count": 221,
   "id": "67b30f79",
   "metadata": {},
   "outputs": [],
   "source": [
    "# descriptor 8: SMR_VSA1\n",
    "descripted_X_test = []\n",
    "for molecule in X_test:\n",
    "    mol = Chem.MolFromSmiles(molecule)\n",
    "    desc_value = rdkit.Chem.Descriptors.SMR_VSA1(mol)\n",
    "    descripted_X_test.append(desc_value)\n",
    "feature_matrix_test['SMR_VSA1'] = descripted_X_test"
   ]
  },
  {
   "cell_type": "code",
   "execution_count": 222,
   "id": "1269e81c",
   "metadata": {},
   "outputs": [],
   "source": [
    "# descriptor 8: SMR_VSA10\n",
    "descripted_X_test = []\n",
    "for molecule in X_test:\n",
    "    mol = Chem.MolFromSmiles(molecule)\n",
    "    desc_value = rdkit.Chem.Descriptors.SMR_VSA10(mol)\n",
    "    descripted_X_test.append(desc_value)\n",
    "feature_matrix_test['SMR_VSA10'] = descripted_X_test"
   ]
  },
  {
   "cell_type": "markdown",
   "id": "f88b15b5",
   "metadata": {},
   "source": [
    "# descriptor 9: SlogP_VSA12\n",
    "descripted_X_test = []\n",
    "for molecule in X_test:\n",
    "    mol = Chem.MolFromSmiles(molecule)\n",
    "    desc_value = rdkit.Chem.Descriptors.SlogP_VSA12(mol)\n",
    "    descripted_X_test.append(desc_value)\n",
    "feature_matrix_test['SlogP_VSA12'] = descripted_X_test"
   ]
  },
  {
   "cell_type": "markdown",
   "id": "1877d88d",
   "metadata": {},
   "source": [
    "# descriptor 10: NumHAcceptors\n",
    "descripted_X_test = []\n",
    "for molecule in X_test:\n",
    "    mol = Chem.MolFromSmiles(molecule)\n",
    "    desc_value = rdkit.Chem.Descriptors.NumHAcceptors(mol)\n",
    "    descripted_X_test.append(desc_value)\n",
    "feature_matrix_test['NumHAcceptors'] = descripted_X_test"
   ]
  },
  {
   "cell_type": "markdown",
   "id": "9621a231",
   "metadata": {},
   "source": [
    "# descriptor 11: NumHeteroatoms\n",
    "descripted_X_test = []\n",
    "for molecule in X_test:\n",
    "    mol = Chem.MolFromSmiles(molecule)\n",
    "    desc_value = rdkit.Chem.Descriptors.NumHeteroatoms(mol)\n",
    "    descripted_X_test.append(desc_value)\n",
    "feature_matrix_test['NumHeteroatoms'] = descripted_X_test"
   ]
  },
  {
   "cell_type": "markdown",
   "id": "68191f5e",
   "metadata": {},
   "source": [
    "# descriptor 12: RingCount\n",
    "descripted_X_test = []\n",
    "for molecule in X_test:\n",
    "    mol = Chem.MolFromSmiles(molecule)\n",
    "    desc_value = rdkit.Chem.Descriptors.RingCount(mol)\n",
    "    descripted_X_test.append(desc_value)\n",
    "feature_matrix_test['RingCount'] = descripted_X_test"
   ]
  },
  {
   "cell_type": "markdown",
   "id": "d942c414",
   "metadata": {},
   "source": [
    "# descriptor 13: fr_C_S\n",
    "descripted_X_test = []\n",
    "for molecule in X_test:\n",
    "    mol = Chem.MolFromSmiles(molecule)\n",
    "    desc_value = rdkit.Chem.Descriptors.fr_C_S(mol)\n",
    "    descripted_X_test.append(desc_value)\n",
    "feature_matrix_test['fr_C_S'] = descripted_X_test"
   ]
  },
  {
   "cell_type": "markdown",
   "id": "369851df",
   "metadata": {},
   "source": [
    "# descriptor 14: fr_furan\n",
    "descripted_X_test = []\n",
    "for molecule in X_test:\n",
    "    mol = Chem.MolFromSmiles(molecule)\n",
    "    desc_value = rdkit.Chem.Descriptors.fr_furan(mol)\n",
    "    descripted_X_test.append(desc_value)\n",
    "feature_matrix_test['fr_furan'] = descripted_X_test\n",
    "print(feature_matrix_test)"
   ]
  },
  {
   "cell_type": "code",
   "execution_count": 223,
   "id": "7bcbcecb",
   "metadata": {},
   "outputs": [],
   "source": [
    "# descriptor 14: SlogP_VSA5\n",
    "descripted_X_test = []\n",
    "for molecule in X_test:\n",
    "    mol = Chem.MolFromSmiles(molecule)\n",
    "    desc_value = rdkit.Chem.Descriptors.SlogP_VSA5(mol)\n",
    "    descripted_X_test.append(desc_value)\n",
    "feature_matrix_test['SlogP_VSA5'] = descripted_X_test"
   ]
  },
  {
   "cell_type": "code",
   "execution_count": 224,
   "id": "39b5b72f",
   "metadata": {},
   "outputs": [],
   "source": [
    "# descriptor 14: VSA_EState8\n",
    "descripted_X_test = []\n",
    "for molecule in X_test:\n",
    "    mol = Chem.MolFromSmiles(molecule)\n",
    "    desc_value = rdkit.Chem.Descriptors.VSA_EState8(mol)\n",
    "    descripted_X_test.append(desc_value)\n",
    "feature_matrix_test['VSA_EState8'] = descripted_X_test"
   ]
  },
  {
   "cell_type": "code",
   "execution_count": 225,
   "id": "b3637b42",
   "metadata": {},
   "outputs": [
    {
     "name": "stdout",
     "output_type": "stream",
     "text": [
      "          qed    MolWt  MaxPartialCharge  MinPartialCharge  BCUT2D_CHGHI  \\\n",
      "0    0.710201  212.174          0.417922         -0.305713      2.329193   \n",
      "1    0.829010  368.455          0.242693         -0.339739      2.296022   \n",
      "2    0.463175  309.350          0.329318         -0.369753      2.132511   \n",
      "3    0.622913  287.365          0.270389         -0.464963      2.327730   \n",
      "4    0.527106  309.350          0.256738         -0.431351      2.110325   \n",
      "..        ...      ...               ...               ...           ...   \n",
      "395  0.572371  335.363          0.252834         -0.435905      2.101796   \n",
      "396  0.757570  244.334          0.132754         -0.496757      2.435159   \n",
      "397  0.717381  326.372          0.166113         -0.544815      2.103491   \n",
      "398  0.491515  444.536          0.235595         -0.377733      2.232405   \n",
      "399  0.915551  273.376          0.286485         -0.455341      2.526505   \n",
      "\n",
      "     BCUT2D_CHGLO  BCUT2D_LOGPHI  BCUT2D_MRHI  BalabanJ      BertzCT  \\\n",
      "0       -2.119422       2.328289     5.421368  2.575906   445.941102   \n",
      "1       -2.335987       2.185983     7.887371  1.616780   796.357886   \n",
      "2       -2.230719       2.068237     5.718980  1.598333   755.201692   \n",
      "3       -2.132289       2.352649     8.270296  1.940825   647.350192   \n",
      "4       -1.908340       2.259283     7.978398  1.487217   868.813152   \n",
      "..            ...            ...          ...       ...          ...   \n",
      "395     -2.100828       2.198704     6.055737  1.788663   906.962539   \n",
      "396     -2.455819       2.491442     5.799202  2.061875   491.870370   \n",
      "397     -2.158736       2.316736     5.857066  2.137651   695.013018   \n",
      "398     -2.253424       2.325523     7.993710  1.440236  1013.308886   \n",
      "399     -2.554605       2.603415     5.909375  1.624389   495.563029   \n",
      "\n",
      "       Kappa2  PEOE_VSA7   SMR_VSA1  SMR_VSA10  SlogP_VSA5  VSA_EState8  \\\n",
      "0    3.416380  12.132734  13.171245   0.000000    5.563451     0.000000   \n",
      "1    7.000297  35.711898  17.602749  27.267257    4.877147     1.223261   \n",
      "2    6.323358   0.000000   9.636773  17.112217    6.420822     5.627203   \n",
      "3    5.028728  24.265468   9.211688  45.970879    5.760247     0.000000   \n",
      "4    5.650112  12.132734   8.940246  22.861606    5.890724     0.000000   \n",
      "..        ...        ...        ...        ...         ...          ...   \n",
      "395  7.003340  36.398202  14.006225  34.553552   16.248713     0.000000   \n",
      "396  4.113443  53.854999   9.531400   5.783245   43.733927     2.334861   \n",
      "397  8.622080  30.686290  19.374790  11.656692   22.845177     7.026221   \n",
      "398  9.951270  44.030849  13.708047  29.174314   49.730601     2.241730   \n",
      "399  4.372003  75.335119   9.211688   5.907180   61.763699     2.576452   \n",
      "\n",
      "     MolLogP  \n",
      "0    2.89110  \n",
      "1    1.96280  \n",
      "2   -2.33300  \n",
      "3    3.68540  \n",
      "4    4.17010  \n",
      "..       ...  \n",
      "395  3.18150  \n",
      "396  3.26830  \n",
      "397  2.62570  \n",
      "398  4.56172  \n",
      "399  3.49710  \n",
      "\n",
      "[400 rows x 17 columns]\n"
     ]
    }
   ],
   "source": [
    "# descriptor 14: MolLogP\n",
    "descripted_X_test = []\n",
    "for molecule in X_test:\n",
    "    mol = Chem.MolFromSmiles(molecule)\n",
    "    desc_value = rdkit.Chem.Descriptors.MolLogP(mol)\n",
    "    descripted_X_test.append(desc_value)\n",
    "feature_matrix_test['MolLogP'] = descripted_X_test\n",
    "print(feature_matrix_test)"
   ]
  },
  {
   "cell_type": "code",
   "execution_count": 232,
   "id": "ad4250ff",
   "metadata": {},
   "outputs": [
    {
     "name": "stdout",
     "output_type": "stream",
     "text": [
      "['0' '0' '0' '1' '0' '0' '0' '0' '1' '0' '1' '0' '0' '0' '1' '0' '0' '0'\n",
      " '1' '0' '0' '0' '1' '0' '0' '0' '1' '0' '0' '0' '1' '0' '1' '0' '0' '0'\n",
      " '0' '1' '1' '0' '0' '1' '0' '0' '1' '1' '0' '0' '0' '1' '1' '0' '0' '0'\n",
      " '0' '0' '0' '0' '0' '0' '0' '0' '0' '0' '1' '0' '0' '0' '1' '0' '1' '1'\n",
      " '0' '1' '0' '0' '1' '0' '0' '0' '1' '0' '0' '0' '1' '0' '0' '1' '0' '1'\n",
      " '1' '0' '0' '1' '0' '1' '0' '0' '0' '1' '0' '0' '1' '1' '1' '0' '0' '0'\n",
      " '1' '0' '0' '0' '0' '0' '0' '0' '1' '1' '0' '0' '0' '1' '0' '0' '0' '1'\n",
      " '1' '0' '0' '0' '0' '0' '0' '0' '0' '0' '0' '0' '1' '1' '0' '0' '0' '0'\n",
      " '0' '0' '0' '0' '0' '1' '0' '1' '0' '0' '0' '0' '0' '0' '1' '0' '0' '0'\n",
      " '0' '0' '0' '0' '0' '0' '1' '1' '0' '0' '1' '0' '0' '0' '0' '1' '0' '1'\n",
      " '1' '0' '0' '0' '1' '0' '1' '0' '0' '0' '0' '0' '0' '0' '1' '0' '1' '0'\n",
      " '1' '0' '0' '1' '0' '0' '0' '1' '0' '0' '1' '0' '0' '0' '0' '0' '0' '0'\n",
      " '0' '0' '0' '0' '1' '0' '0' '0' '1' '0' '0' '1' '0' '0' '0' '0' '0' '0'\n",
      " '0' '0' '0' '1' '0' '0' '0' '1' '1' '1' '0' '0' '0' '0' '0' '0' '0' '0'\n",
      " '0' '0' '1' '0' '0' '0' '0' '0' '0' '0' '0' '0' '1' '1' '0' '0' '0' '1'\n",
      " '1' '1' '0' '0' '1' '0' '0' '0' '0' '0' '0' '1' '0' '1' '0' '0' '0' '0'\n",
      " '0' '0' '0' '0' '0' '0' '1' '0' '0' '0' '0' '0' '0' '0' '0' '0' '1' '0'\n",
      " '0' '0' '0' '0' '1' '0' '1' '1' '0' '0' '0' '0' '0' '1' '0' '1' '1' '0'\n",
      " '1' '0' '0' '0' '0' '0' '0' '0' '0' '0' '0' '0' '0' '0' '1' '0' '1' '0'\n",
      " '0' '0' '0' '0' '0' '0' '0' '1' '1' '0' '0' '0' '0' '0' '0' '0' '1' '0'\n",
      " '0' '0' '1' '0' '0' '0' '0' '0' '0' '1' '0' '0' '0' '0' '0' '0' '0' '0'\n",
      " '0' '0' '0' '0' '0' '1' '0' '1' '1' '0' '0' '0' '0' '0' '0' '0' '1' '0'\n",
      " '0' '0' '1' '1']\n",
      "True positive: 0\n",
      "True negative: 0\n",
      "False positive: 0\n",
      "False negative: 0\n"
     ]
    }
   ],
   "source": [
    "# Apply the random forest to your test matrix and compare the predictions with the correct labels.\n",
    "predictions = forest.predict(feature_matrix_test)\n",
    "\n",
    "TP = 0\n",
    "TN = 0\n",
    "FP = 0\n",
    "FN = 0\n",
    "i = 0\n",
    "for prediction in predictions:\n",
    "    if prediction == 0:\n",
    "        if test_correct_values[i] == 0:\n",
    "            TN += 1\n",
    "            i += 1\n",
    "        elif test_correct_values[i] == 1:\n",
    "            FN += 1\n",
    "            i += 1\n",
    "    elif prediction == 1:\n",
    "        if test_correct_values[i] == 0:\n",
    "            FP += 1\n",
    "            i += 1\n",
    "        elif test_correct_values[i] == 1:\n",
    "            TP += 1\n",
    "            i += 1\n",
    "print('True positive:', TP)\n",
    "print('True negative:', TN)\n",
    "print('False positive:', FP)\n",
    "print('False negative:', FN)"
   ]
  },
  {
   "cell_type": "code",
   "execution_count": 227,
   "id": "5da08145",
   "metadata": {},
   "outputs": [],
   "source": [
    "# Add your TP, TN, FP an FN values to the lists created earlier. Repeat the process 5 times.\n",
    "TP_list.append(TP)\n",
    "TN_list.append(TN)\n",
    "FP_list.append(FP)\n",
    "FN_list.append(FN)"
   ]
  },
  {
   "cell_type": "code",
   "execution_count": 228,
   "id": "27882146",
   "metadata": {},
   "outputs": [
    {
     "name": "stdout",
     "output_type": "stream",
     "text": [
      "[0]\n",
      "[0]\n",
      "[0]\n",
      "[0]\n"
     ]
    }
   ],
   "source": [
    "# Check if there are 5 numbers in each list.\n",
    "print(TP_list)\n",
    "print(TN_list)\n",
    "print(FP_list)\n",
    "print(FN_list)"
   ]
  },
  {
   "cell_type": "code",
   "execution_count": 229,
   "id": "5afc9430",
   "metadata": {},
   "outputs": [
    {
     "name": "stdout",
     "output_type": "stream",
     "text": [
      "0.0 0.0 0.0 0.0\n"
     ]
    }
   ],
   "source": [
    "# After repeating the code above 5 times, compute the average TP, TN, FP and FN values\n",
    "average_TP = sum(TP_list)/5\n",
    "average_TN = sum(TN_list)/5\n",
    "average_FP = sum(FP_list)/5\n",
    "average_FN = sum(FN_list)/5\n",
    "print(average_TP, average_TN, average_FP, average_FN)"
   ]
  },
  {
   "cell_type": "code",
   "execution_count": 230,
   "id": "21490b62",
   "metadata": {},
   "outputs": [
    {
     "ename": "ZeroDivisionError",
     "evalue": "float division by zero",
     "output_type": "error",
     "traceback": [
      "\u001b[1;31m---------------------------------------------------------------------------\u001b[0m",
      "\u001b[1;31mZeroDivisionError\u001b[0m                         Traceback (most recent call last)",
      "Cell \u001b[1;32mIn[230], line 2\u001b[0m\n\u001b[0;32m      1\u001b[0m \u001b[38;5;66;03m# Calculate the performance metrics\u001b[39;00m\n\u001b[1;32m----> 2\u001b[0m recall_score \u001b[38;5;241m=\u001b[39m \u001b[43maverage_TP\u001b[49m\u001b[43m \u001b[49m\u001b[38;5;241;43m/\u001b[39;49m\u001b[43m \u001b[49m\u001b[43m(\u001b[49m\u001b[43maverage_TP\u001b[49m\u001b[43m \u001b[49m\u001b[38;5;241;43m+\u001b[39;49m\u001b[43m \u001b[49m\u001b[43maverage_FN\u001b[49m\u001b[43m)\u001b[49m\n\u001b[0;32m      3\u001b[0m precision_score \u001b[38;5;241m=\u001b[39m average_TP \u001b[38;5;241m/\u001b[39m (average_TP \u001b[38;5;241m+\u001b[39m average_FP)\n\u001b[0;32m      4\u001b[0m accuracy_score \u001b[38;5;241m=\u001b[39m (average_TP \u001b[38;5;241m+\u001b[39m average_TN) \u001b[38;5;241m/\u001b[39m \u001b[38;5;241m200\u001b[39m \u001b[38;5;66;03m# TP + TN + FP + FN is always 200.\u001b[39;00m\n",
      "\u001b[1;31mZeroDivisionError\u001b[0m: float division by zero"
     ]
    }
   ],
   "source": [
    "# Calculate the performance metrics\n",
    "recall_score = average_TP / (average_TP + average_FN)\n",
    "precision_score = average_TP / (average_TP + average_FP)\n",
    "accuracy_score = (average_TP + average_TN) / 200 # TP + TN + FP + FN is always 200.\n",
    "print('average recall score over 5 iterations:', recall_score)\n",
    "print('average precision score over 5 iterations:', precision_score)\n",
    "print('average accuracy score over 5 iterations:', accuracy_score)"
   ]
  },
  {
   "cell_type": "code",
   "execution_count": null,
   "id": "ea466c6d",
   "metadata": {},
   "outputs": [],
   "source": []
  }
 ],
 "metadata": {
  "kernelspec": {
   "display_name": "Python 3 (ipykernel)",
   "language": "python",
   "name": "python3"
  },
  "language_info": {
   "codemirror_mode": {
    "name": "ipython",
    "version": 3
   },
   "file_extension": ".py",
   "mimetype": "text/x-python",
   "name": "python",
   "nbconvert_exporter": "python",
   "pygments_lexer": "ipython3",
   "version": "3.9.13"
  }
 },
 "nbformat": 4,
 "nbformat_minor": 5
}
