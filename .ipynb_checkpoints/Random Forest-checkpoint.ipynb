{
 "cells": [
  {
   "cell_type": "code",
   "execution_count": 1,
   "id": "6f071de5",
   "metadata": {},
   "outputs": [],
   "source": [
    "# Import the required libraries\n",
    "import pandas as pd\n",
    "import numpy as np\n",
    "import csv\n",
    "import sklearn.model_selection\n",
    "import sklearn.ensemble\n",
    "import rdkit.Chem.Descriptors\n",
    "from rdkit import Chem"
   ]
  },
  {
   "cell_type": "code",
   "execution_count": 2,
   "id": "82384d6b",
   "metadata": {},
   "outputs": [],
   "source": [
    "# load the data into a dataframe\n",
    "DataFrame = pd.read_csv('tested_molecules-1.csv')"
   ]
  },
  {
   "cell_type": "code",
   "execution_count": 3,
   "id": "b2c0d8b2",
   "metadata": {},
   "outputs": [],
   "source": [
    "# create lists for your true positives, true negatives, false positives and false negatives. Only run before the first iteration.\n",
    "TP_list = []\n",
    "TN_list = []\n",
    "FP_list = []\n",
    "FN_list = []"
   ]
  },
  {
   "cell_type": "code",
   "execution_count": 148,
   "id": "80b83d77",
   "metadata": {},
   "outputs": [
    {
     "name": "stdout",
     "output_type": "stream",
     "text": [
      "216                Nc1nc(CSC(=S)N2CCCCC2)nc(Nc2ccccc2)n1\n",
      "557         CCc1cccc(C)c1NC(=O)COn1nnc2ccc(C(F)(F)F)cc21\n",
      "312     C=C1O[C@@](CO)(n2cnc3c(N)ncnc32)[C@H](O)[C@@H]1O\n",
      "530    O=C(C1=C[C@@H](c2csc3ccccc23)C[C@@H](OCCCCO)O1...\n",
      "455            CCc1nnc(NC(=O)CSc2nnc(-c3ccc(O)cc3)n2C)s1\n",
      "                             ...                        \n",
      "808             Cc1ccc(NC(=O)COc2ccc3oc4c(c3c2)CCCC4)nc1\n",
      "280       CC1(C)C(=O)Nc2ccccc2N1C(=O)Cn1ncc(Cl)c(Cl)c1=O\n",
      "703    CC1(C)CC(=O)C2=C(C1)OC1=C(C(=O)CC(C)(C)C1)C2c1...\n",
      "720    CC1(C)N=C(SCC(=O)Nc2ccc(Cl)cc2)C(c2ccc(Cl)cc2)=N1\n",
      "396        COC(OC)c1ccnc(-c2ccc(OC(=O)c3ccc(F)cc3)cc2)n1\n",
      "Name: SMILES, Length: 800, dtype: object\n",
      "216    1\n",
      "557    0\n",
      "312    0\n",
      "530    0\n",
      "455    0\n",
      "      ..\n",
      "808    0\n",
      "280    1\n",
      "703    0\n",
      "720    0\n",
      "396    0\n",
      "Name: ALDH1_inhibition, Length: 800, dtype: int64\n"
     ]
    }
   ],
   "source": [
    "# Randomly select 20% of the data to be the test set. The other 80% will be the training set.\n",
    "# Devide the training set into the molecules (X) and the labels (y). \n",
    "Train, Test = sklearn.model_selection.train_test_split(DataFrame, test_size = 0.2)\n",
    "X = Train['SMILES']\n",
    "y = Train['ALDH1_inhibition']\n",
    "print(X)\n",
    "print(y)"
   ]
  },
  {
   "cell_type": "code",
   "execution_count": 149,
   "id": "eedb0632",
   "metadata": {},
   "outputs": [],
   "source": [
    "# Create a matrix and add the descriptors for the training set.\n",
    "\n",
    "# descriptor 1: qed\n",
    "feature_matrix_train = pd.DataFrame()\n",
    "X_train = Train['SMILES']\n",
    "descripted_X_train = []\n",
    "for molecule in X_train:\n",
    "    mol = rdkit.Chem.MolFromSmiles(molecule)\n",
    "    desc_value = rdkit.Chem.Descriptors.qed(mol)\n",
    "    descripted_X_train.append(desc_value)\n",
    "feature_matrix_train['qed'] = descripted_X_train"
   ]
  },
  {
   "cell_type": "code",
   "execution_count": 150,
   "id": "955f3a83",
   "metadata": {},
   "outputs": [],
   "source": [
    "# descriptor 2: MolWt\n",
    "descripted_X_train = []\n",
    "for molecule in X_train:\n",
    "    mol = Chem.MolFromSmiles(molecule)\n",
    "    desc_value = rdkit.Chem.Descriptors.MolWt(mol)\n",
    "    descripted_X_train.append(desc_value)\n",
    "feature_matrix_train['MolWt'] = descripted_X_train"
   ]
  },
  {
   "cell_type": "code",
   "execution_count": 151,
   "id": "16ba77f8",
   "metadata": {},
   "outputs": [],
   "source": [
    "# descriptor 3: BCUT2D_CHGHI\n",
    "descripted_X_train = []\n",
    "for molecule in X_train:\n",
    "    mol = Chem.MolFromSmiles(molecule)\n",
    "    desc_value = rdkit.Chem.Descriptors.BCUT2D_CHGHI(mol)\n",
    "    descripted_X_train.append(desc_value)\n",
    "feature_matrix_train['BCUT2D_CHGHI'] = descripted_X_train"
   ]
  },
  {
   "cell_type": "code",
   "execution_count": 152,
   "id": "76faf1f0",
   "metadata": {},
   "outputs": [],
   "source": [
    "# descriptor 4: BCUT2D_LOGPHI\n",
    "descripted_X_train = []\n",
    "for molecule in X_train:\n",
    "    mol = Chem.MolFromSmiles(molecule)\n",
    "    desc_value = rdkit.Chem.Descriptors.BCUT2D_LOGPHI(mol)\n",
    "    descripted_X_train.append(desc_value)\n",
    "feature_matrix_train['BCUT2D_LOGPHI'] = descripted_X_train"
   ]
  },
  {
   "cell_type": "code",
   "execution_count": 153,
   "id": "e02f7467",
   "metadata": {},
   "outputs": [],
   "source": [
    "# descriptor 5: BCUT2D_MRHI\n",
    "descripted_X_train = []\n",
    "for molecule in X_train:\n",
    "    mol = Chem.MolFromSmiles(molecule)\n",
    "    desc_value = rdkit.Chem.Descriptors.BCUT2D_MRHI(mol)\n",
    "    descripted_X_train.append(desc_value)\n",
    "feature_matrix_train['BCUT2D_MRHI'] = descripted_X_train"
   ]
  },
  {
   "cell_type": "code",
   "execution_count": 154,
   "id": "c680537e",
   "metadata": {},
   "outputs": [],
   "source": [
    "# descriptor 6: AvgIpc\n",
    "descripted_X_train = []\n",
    "for molecule in X_train:\n",
    "    mol = Chem.MolFromSmiles(molecule)\n",
    "    desc_value = rdkit.Chem.Descriptors.AvgIpc(mol)\n",
    "    descripted_X_train.append(desc_value)\n",
    "feature_matrix_train['AvgIpc'] = descripted_X_train"
   ]
  },
  {
   "cell_type": "code",
   "execution_count": 155,
   "id": "876432fa",
   "metadata": {},
   "outputs": [],
   "source": [
    "# descriptor 7: BertzCT\n",
    "descripted_X_train = []\n",
    "for molecule in X_train:\n",
    "    mol = Chem.MolFromSmiles(molecule)\n",
    "    desc_value = rdkit.Chem.Descriptors.BertzCT(mol)\n",
    "    descripted_X_train.append(desc_value)\n",
    "feature_matrix_train['BertzCT'] = descripted_X_train"
   ]
  },
  {
   "cell_type": "code",
   "execution_count": 156,
   "id": "934d7c4e",
   "metadata": {},
   "outputs": [],
   "source": [
    "# descriptor 8: SMR_VSA10\n",
    "descripted_X_train = []\n",
    "for molecule in X_train:\n",
    "    mol = Chem.MolFromSmiles(molecule)\n",
    "    desc_value = rdkit.Chem.Descriptors.SMR_VSA10(mol)\n",
    "    descripted_X_train.append(desc_value)\n",
    "feature_matrix_train['SMR_VSA10'] = descripted_X_train"
   ]
  },
  {
   "cell_type": "code",
   "execution_count": 157,
   "id": "8891d47d",
   "metadata": {},
   "outputs": [],
   "source": [
    "# descriptor 9: SlogP_VSA12\n",
    "descripted_X_train = []\n",
    "for molecule in X_train:\n",
    "    mol = Chem.MolFromSmiles(molecule)\n",
    "    desc_value = rdkit.Chem.Descriptors.SlogP_VSA12(mol)\n",
    "    descripted_X_train.append(desc_value)\n",
    "feature_matrix_train['SlogP_VSA12'] = descripted_X_train"
   ]
  },
  {
   "cell_type": "code",
   "execution_count": 158,
   "id": "f8f4edcb",
   "metadata": {},
   "outputs": [],
   "source": [
    "# descriptor 10: NumHAcceptors\n",
    "descripted_X_train = []\n",
    "for molecule in X_train:\n",
    "    mol = Chem.MolFromSmiles(molecule)\n",
    "    desc_value = rdkit.Chem.Descriptors.NumHAcceptors(mol)\n",
    "    descripted_X_train.append(desc_value)\n",
    "feature_matrix_train['NumHAcceptors'] = descripted_X_train"
   ]
  },
  {
   "cell_type": "code",
   "execution_count": 159,
   "id": "7cc5d3b3",
   "metadata": {},
   "outputs": [],
   "source": [
    "# descriptor 11: NumHeteroatoms\n",
    "descripted_X_train = []\n",
    "for molecule in X_train:\n",
    "    mol = Chem.MolFromSmiles(molecule)\n",
    "    desc_value = rdkit.Chem.Descriptors.NumHeteroatoms(mol)\n",
    "    descripted_X_train.append(desc_value)\n",
    "feature_matrix_train['NumHeteroatoms'] = descripted_X_train"
   ]
  },
  {
   "cell_type": "code",
   "execution_count": 160,
   "id": "6af7c40a",
   "metadata": {},
   "outputs": [],
   "source": [
    "# descriptor 12: RingCount\n",
    "descripted_X_train = []\n",
    "for molecule in X_train:\n",
    "    mol = Chem.MolFromSmiles(molecule)\n",
    "    desc_value = rdkit.Chem.Descriptors.RingCount(mol)\n",
    "    descripted_X_train.append(desc_value)\n",
    "feature_matrix_train['RingCount'] = descripted_X_train"
   ]
  },
  {
   "cell_type": "code",
   "execution_count": 161,
   "id": "99ac5cb4",
   "metadata": {},
   "outputs": [],
   "source": [
    "# descriptor 13: fr_C_S\n",
    "descripted_X_train = []\n",
    "for molecule in X_train:\n",
    "    mol = Chem.MolFromSmiles(molecule)\n",
    "    desc_value = rdkit.Chem.Descriptors.fr_C_S(mol)\n",
    "    descripted_X_train.append(desc_value)\n",
    "feature_matrix_train['fr_C_S'] = descripted_X_train"
   ]
  },
  {
   "cell_type": "code",
   "execution_count": 162,
   "id": "b27614ed",
   "metadata": {},
   "outputs": [
    {
     "name": "stdout",
     "output_type": "stream",
     "text": [
      "          qed    MolWt  BCUT2D_CHGHI  BCUT2D_LOGPHI  BCUT2D_MRHI    AvgIpc  \\\n",
      "0    0.804802  360.512      2.144539       2.198011     8.219117  2.607066   \n",
      "1    0.739011  378.354      2.307944       2.303568     5.929467  3.029838   \n",
      "2    0.510775  279.256      2.537620       2.380171     5.808733  2.962216   \n",
      "3    0.398191  551.685      2.335479       2.382859     7.169362  3.621867   \n",
      "4    0.636032  376.467      2.136994       2.240650     7.993735  3.203258   \n",
      "..        ...      ...           ...            ...          ...       ...   \n",
      "795  0.781011  336.391      2.177665       2.334118     5.907510  2.998298   \n",
      "796  0.865507  381.219      2.431029       2.362628     6.412155  2.559370   \n",
      "797  0.708645  350.458      2.471430       2.525889     6.058370  2.508968   \n",
      "798  0.749016  406.338      2.281044       2.269992     8.159306  2.905233   \n",
      "799  0.374489  368.364      2.129657       2.221856     5.905484  2.700972   \n",
      "\n",
      "         BertzCT  SMR_VSA10  SlogP_VSA12  NumHAcceptors  NumHeteroatoms  \\\n",
      "0     688.221920  45.884357    23.979758              7               8   \n",
      "1     982.387456  22.627967     0.000000              5               9   \n",
      "2     686.503363  16.981741     0.000000              9               9   \n",
      "3    1331.988669  27.330110    11.336786              7               9   \n",
      "4     874.536369  34.137409    23.098671              9              10   \n",
      "..           ...        ...          ...            ...             ...   \n",
      "795   912.586008  22.694287     0.000000              4               5   \n",
      "796   939.217338  46.391012    23.201880              5               9   \n",
      "797   800.698942  11.566490     0.000000              3               3   \n",
      "798   874.662176  57.313733    34.963765              4               7   \n",
      "799   910.024654   5.969305     0.000000              6               7   \n",
      "\n",
      "     RingCount  fr_C_S  fr_furan  \n",
      "0            3       1         0  \n",
      "1            3       0         0  \n",
      "2            3       0         0  \n",
      "3            6       0         0  \n",
      "4            3       0         0  \n",
      "..         ...     ...       ...  \n",
      "795          4       0         1  \n",
      "796          3       0         0  \n",
      "797          4       0         0  \n",
      "798          3       0         0  \n",
      "799          3       0         0  \n",
      "\n",
      "[800 rows x 14 columns]\n"
     ]
    }
   ],
   "source": [
    "# descriptor 14: fr_furan\n",
    "descripted_X_train = []\n",
    "for molecule in X_train:\n",
    "    mol = Chem.MolFromSmiles(molecule)\n",
    "    desc_value = rdkit.Chem.Descriptors.fr_furan(mol)\n",
    "    descripted_X_train.append(desc_value)\n",
    "feature_matrix_train['fr_furan'] = descripted_X_train\n",
    "print(feature_matrix_train)"
   ]
  },
  {
   "cell_type": "code",
   "execution_count": 163,
   "id": "d9670d37",
   "metadata": {},
   "outputs": [],
   "source": [
    "# Train a random forest using the feature matrix and the labels.\n",
    "forest = sklearn.ensemble.RandomForestClassifier()\n",
    "predictor = forest.fit(feature_matrix_train, y)"
   ]
  },
  {
   "cell_type": "code",
   "execution_count": 164,
   "id": "0f3c6bf9",
   "metadata": {},
   "outputs": [
    {
     "name": "stdout",
     "output_type": "stream",
     "text": [
      "[0, 1, 0, 0, 0, 1, 0, 0, 0, 1, 0, 0, 0, 0, 0, 0, 0, 0, 0, 0, 0, 0, 0, 0, 0, 1, 0, 0, 0, 1, 0, 0, 1, 1, 0, 1, 1, 0, 1, 0, 0, 0, 0, 0, 0, 1, 1, 0, 0, 0, 1, 0, 0, 0, 1, 1, 0, 0, 1, 0, 1, 0, 0, 0, 1, 0, 0, 0, 1, 0, 0, 0, 1, 0, 0, 0, 1, 1, 0, 0, 0, 0, 0, 0, 0, 0, 0, 1, 1, 0, 0, 0, 0, 0, 0, 0, 0, 0, 1, 0, 1, 0, 1, 0, 0, 0, 0, 1, 0, 0, 1, 0, 0, 1, 0, 1, 0, 0, 0, 1, 0, 0, 0, 1, 0, 0, 0, 0, 0, 0, 0, 1, 1, 0, 0, 1, 1, 1, 0, 0, 0, 1, 0, 0, 0, 0, 0, 0, 0, 1, 0, 0, 0, 0, 0, 0, 1, 1, 1, 0, 1, 0, 0, 0, 0, 0, 1, 0, 1, 0, 0, 0, 0, 0, 0, 1, 0, 1, 0, 0, 1, 1, 0, 0, 0, 1, 0, 0, 0, 0, 0, 1, 1, 1, 1, 1, 0, 0, 0, 0]\n"
     ]
    }
   ],
   "source": [
    "# Store the correct labels for the test set in an array.\n",
    "y_test = Test['ALDH1_inhibition']\n",
    "test_correct_values = []\n",
    "for y in y_test:\n",
    "    test_correct_values.append(y)\n",
    "print(test_correct_values)"
   ]
  },
  {
   "cell_type": "code",
   "execution_count": 165,
   "id": "491fb250",
   "metadata": {},
   "outputs": [],
   "source": [
    "# Create a matrix and add the descriptors for the test set.\n",
    "\n",
    "# descriptor 1: qed\n",
    "feature_matrix_test = pd.DataFrame()\n",
    "X_test = Test['SMILES']\n",
    "descripted_X_test = []\n",
    "for molecule in X_test:\n",
    "    mol = rdkit.Chem.MolFromSmiles(molecule)\n",
    "    desc_value = rdkit.Chem.Descriptors.qed(mol)\n",
    "    descripted_X_test.append(desc_value)\n",
    "feature_matrix_test['qed'] = descripted_X_test"
   ]
  },
  {
   "cell_type": "code",
   "execution_count": 166,
   "id": "b44101d1",
   "metadata": {},
   "outputs": [],
   "source": [
    "# descriptor 2: MolWt\n",
    "descripted_X_test = []\n",
    "for molecule in X_test:\n",
    "    mol = Chem.MolFromSmiles(molecule)\n",
    "    desc_value = rdkit.Chem.Descriptors.MolWt(mol)\n",
    "    descripted_X_test.append(desc_value)\n",
    "feature_matrix_test['MolWt'] = descripted_X_test"
   ]
  },
  {
   "cell_type": "code",
   "execution_count": 167,
   "id": "dfa11438",
   "metadata": {},
   "outputs": [],
   "source": [
    "# descriptor 3: BCUT2D_CHGHI\n",
    "descripted_X_test = []\n",
    "for molecule in X_test:\n",
    "    mol = Chem.MolFromSmiles(molecule)\n",
    "    desc_value = rdkit.Chem.Descriptors.BCUT2D_CHGHI(mol)\n",
    "    descripted_X_test.append(desc_value)\n",
    "feature_matrix_test['BCUT2D_CHGHI'] = descripted_X_test"
   ]
  },
  {
   "cell_type": "code",
   "execution_count": 168,
   "id": "5f852c88",
   "metadata": {},
   "outputs": [],
   "source": [
    "# descriptor 4: BCUT2D_LOGPHI\n",
    "descripted_X_test = []\n",
    "for molecule in X_test:\n",
    "    mol = Chem.MolFromSmiles(molecule)\n",
    "    desc_value = rdkit.Chem.Descriptors.BCUT2D_LOGPHI(mol)\n",
    "    descripted_X_test.append(desc_value)\n",
    "feature_matrix_test['BCUT2D_LOGPHI'] = descripted_X_test"
   ]
  },
  {
   "cell_type": "code",
   "execution_count": 169,
   "id": "f7c0eb72",
   "metadata": {},
   "outputs": [],
   "source": [
    "# descriptor 5: BCUT2D_MRHI\n",
    "descripted_X_test = []\n",
    "for molecule in X_test:\n",
    "    mol = Chem.MolFromSmiles(molecule)\n",
    "    desc_value = rdkit.Chem.Descriptors.BCUT2D_MRHI(mol)\n",
    "    descripted_X_test.append(desc_value)\n",
    "feature_matrix_test['BCUT2D_MRHI'] = descripted_X_test"
   ]
  },
  {
   "cell_type": "code",
   "execution_count": 170,
   "id": "06d6af48",
   "metadata": {},
   "outputs": [],
   "source": [
    "# descriptor 6: AvgIpc\n",
    "descripted_X_test = []\n",
    "for molecule in X_test:\n",
    "    mol = Chem.MolFromSmiles(molecule)\n",
    "    desc_value = rdkit.Chem.Descriptors.AvgIpc(mol)\n",
    "    descripted_X_test.append(desc_value)\n",
    "feature_matrix_test['AvgIpc'] = descripted_X_test"
   ]
  },
  {
   "cell_type": "code",
   "execution_count": 171,
   "id": "37ce3e5b",
   "metadata": {},
   "outputs": [],
   "source": [
    "# descriptor 7: BertzCT\n",
    "descripted_X_test = []\n",
    "for molecule in X_test:\n",
    "    mol = Chem.MolFromSmiles(molecule)\n",
    "    desc_value = rdkit.Chem.Descriptors.BertzCT(mol)\n",
    "    descripted_X_test.append(desc_value)\n",
    "feature_matrix_test['BertzCT'] = descripted_X_test"
   ]
  },
  {
   "cell_type": "code",
   "execution_count": 172,
   "id": "67b30f79",
   "metadata": {},
   "outputs": [],
   "source": [
    "# descriptor 8: SMR_VSA10\n",
    "descripted_X_test = []\n",
    "for molecule in X_test:\n",
    "    mol = Chem.MolFromSmiles(molecule)\n",
    "    desc_value = rdkit.Chem.Descriptors.SMR_VSA10(mol)\n",
    "    descripted_X_test.append(desc_value)\n",
    "feature_matrix_test['SMR_VSA10'] = descripted_X_test"
   ]
  },
  {
   "cell_type": "code",
   "execution_count": 173,
   "id": "1fad74ff",
   "metadata": {},
   "outputs": [],
   "source": [
    "# descriptor 9: SlogP_VSA12\n",
    "descripted_X_test = []\n",
    "for molecule in X_test:\n",
    "    mol = Chem.MolFromSmiles(molecule)\n",
    "    desc_value = rdkit.Chem.Descriptors.SlogP_VSA12(mol)\n",
    "    descripted_X_test.append(desc_value)\n",
    "feature_matrix_test['SlogP_VSA12'] = descripted_X_test"
   ]
  },
  {
   "cell_type": "code",
   "execution_count": 174,
   "id": "6961f975",
   "metadata": {},
   "outputs": [],
   "source": [
    "# descriptor 10: NumHAcceptors\n",
    "descripted_X_test = []\n",
    "for molecule in X_test:\n",
    "    mol = Chem.MolFromSmiles(molecule)\n",
    "    desc_value = rdkit.Chem.Descriptors.NumHAcceptors(mol)\n",
    "    descripted_X_test.append(desc_value)\n",
    "feature_matrix_test['NumHAcceptors'] = descripted_X_test"
   ]
  },
  {
   "cell_type": "code",
   "execution_count": 175,
   "id": "0fc803b3",
   "metadata": {},
   "outputs": [],
   "source": [
    "# descriptor 11: NumHeteroatoms\n",
    "descripted_X_test = []\n",
    "for molecule in X_test:\n",
    "    mol = Chem.MolFromSmiles(molecule)\n",
    "    desc_value = rdkit.Chem.Descriptors.NumHeteroatoms(mol)\n",
    "    descripted_X_test.append(desc_value)\n",
    "feature_matrix_test['NumHeteroatoms'] = descripted_X_test"
   ]
  },
  {
   "cell_type": "code",
   "execution_count": 176,
   "id": "ca345481",
   "metadata": {},
   "outputs": [],
   "source": [
    "# descriptor 12: RingCount\n",
    "descripted_X_test = []\n",
    "for molecule in X_test:\n",
    "    mol = Chem.MolFromSmiles(molecule)\n",
    "    desc_value = rdkit.Chem.Descriptors.RingCount(mol)\n",
    "    descripted_X_test.append(desc_value)\n",
    "feature_matrix_test['RingCount'] = descripted_X_test"
   ]
  },
  {
   "cell_type": "code",
   "execution_count": 177,
   "id": "01144e41",
   "metadata": {},
   "outputs": [],
   "source": [
    "# descriptor 13: fr_C_S\n",
    "descripted_X_test = []\n",
    "for molecule in X_test:\n",
    "    mol = Chem.MolFromSmiles(molecule)\n",
    "    desc_value = rdkit.Chem.Descriptors.fr_C_S(mol)\n",
    "    descripted_X_test.append(desc_value)\n",
    "feature_matrix_test['fr_C_S'] = descripted_X_test"
   ]
  },
  {
   "cell_type": "code",
   "execution_count": 178,
   "id": "96af9c33",
   "metadata": {},
   "outputs": [
    {
     "name": "stdout",
     "output_type": "stream",
     "text": [
      "          qed    MolWt  BCUT2D_CHGHI  BCUT2D_LOGPHI  BCUT2D_MRHI    AvgIpc  \\\n",
      "0    0.852758  300.314      2.319154       2.352625     6.005108  2.571347   \n",
      "1    0.906916  324.764      2.173629       2.356058     6.319974  2.982953   \n",
      "2    0.821385  329.468      2.311283       2.127229     5.345323  3.098071   \n",
      "3    0.941712  313.353      2.231586       2.316179     5.923236  2.546557   \n",
      "4    0.416230  480.596      2.220482       2.279116     5.952635  3.247056   \n",
      "..        ...      ...           ...            ...          ...       ...   \n",
      "195  0.569118  303.325      2.160948       2.188918     5.824920  3.082718   \n",
      "196  0.600885  312.846      2.066853       2.228676     7.978424  2.894885   \n",
      "197  0.491052  388.427      2.183487       2.229892     5.972073  3.042031   \n",
      "198  0.667289  366.373      2.095495       2.180818     6.023692  3.219501   \n",
      "199  0.821652  218.216      2.059022       2.118462     5.996777  2.816901   \n",
      "\n",
      "         BertzCT  SMR_VSA10  SlogP_VSA12  NumHAcceptors  NumHeteroatoms  \\\n",
      "0     717.042036  11.594566     0.000000              5               6   \n",
      "1     682.177125  23.195506    11.600940              5               7   \n",
      "2     626.056842   0.000000     0.000000              4               5   \n",
      "3     713.917815  11.594566     0.000000              4               5   \n",
      "4    1597.668848  28.015142     0.000000              7               8   \n",
      "..           ...        ...          ...            ...             ...   \n",
      "195  1049.467665  10.902925     0.000000              6               6   \n",
      "196   532.642497  23.362825    23.362825              4               6   \n",
      "197  1269.702246  16.686170     0.000000              7               7   \n",
      "198   904.386211  23.189132     0.000000              5               7   \n",
      "199   481.324069   5.907180     0.000000              5               6   \n",
      "\n",
      "     RingCount  fr_C_S  fr_furan  \n",
      "0            3       0         0  \n",
      "1            2       0         0  \n",
      "2            3       0         0  \n",
      "3            3       0         0  \n",
      "4            6       0         0  \n",
      "..         ...     ...       ...  \n",
      "195          4       0         0  \n",
      "196          2       0         0  \n",
      "197          4       0         0  \n",
      "198          3       0         1  \n",
      "199          2       0         0  \n",
      "\n",
      "[200 rows x 14 columns]\n"
     ]
    }
   ],
   "source": [
    "# descriptor 14: fr_furan\n",
    "descripted_X_test = []\n",
    "for molecule in X_test:\n",
    "    mol = Chem.MolFromSmiles(molecule)\n",
    "    desc_value = rdkit.Chem.Descriptors.fr_furan(mol)\n",
    "    descripted_X_test.append(desc_value)\n",
    "feature_matrix_test['fr_furan'] = descripted_X_test\n",
    "print(feature_matrix_test)"
   ]
  },
  {
   "cell_type": "code",
   "execution_count": 179,
   "id": "ad4250ff",
   "metadata": {},
   "outputs": [
    {
     "name": "stdout",
     "output_type": "stream",
     "text": [
      "True positive: 12\n",
      "True negative: 133\n",
      "False positive: 11\n",
      "False negative: 44\n"
     ]
    }
   ],
   "source": [
    "# Apply the random forest to your test matrix and compare the predictions with the correct labels.\n",
    "predictions = forest.predict(feature_matrix_test)\n",
    "TP = 0\n",
    "TN = 0\n",
    "FP = 0\n",
    "FN = 0\n",
    "i = 0\n",
    "for prediction in predictions:\n",
    "    if prediction == 0:\n",
    "        if test_correct_values[i] == 0:\n",
    "            TN += 1\n",
    "            i += 1\n",
    "        elif test_correct_values[i] == 1:\n",
    "            FN += 1\n",
    "            i += 1\n",
    "    elif prediction == 1:\n",
    "        if test_correct_values[i] == 0:\n",
    "            FP += 1\n",
    "            i += 1\n",
    "        elif test_correct_values[i] == 1:\n",
    "            TP += 1\n",
    "            i += 1\n",
    "print('True positive:', TP)\n",
    "print('True negative:', TN)\n",
    "print('False positive:', FP)\n",
    "print('False negative:', FN)"
   ]
  },
  {
   "cell_type": "code",
   "execution_count": 180,
   "id": "5da08145",
   "metadata": {},
   "outputs": [],
   "source": [
    "# Add your TP, TN, FP an FN values to the lists created earlier. Repeat the process 5 times.\n",
    "TP_list.append(TP)\n",
    "TN_list.append(TN)\n",
    "FP_list.append(FP)\n",
    "FN_list.append(FN)"
   ]
  },
  {
   "cell_type": "code",
   "execution_count": 181,
   "id": "27882146",
   "metadata": {},
   "outputs": [
    {
     "name": "stdout",
     "output_type": "stream",
     "text": [
      "[16, 12, 12, 13, 12]\n",
      "[118, 129, 132, 136, 133]\n",
      "[18, 7, 8, 8, 11]\n",
      "[48, 52, 48, 43, 44]\n"
     ]
    }
   ],
   "source": [
    "# Check if there are 5 numbers in each list.\n",
    "print(TP_list)\n",
    "print(TN_list)\n",
    "print(FP_list)\n",
    "print(FN_list)"
   ]
  },
  {
   "cell_type": "code",
   "execution_count": 182,
   "id": "5afc9430",
   "metadata": {},
   "outputs": [
    {
     "name": "stdout",
     "output_type": "stream",
     "text": [
      "13.0 129.6 10.4 47.0\n"
     ]
    }
   ],
   "source": [
    "# After repeating the code above 5 times, compute the average TP, TN, FP and FN values\n",
    "average_TP = sum(TP_list)/5\n",
    "average_TN = sum(TN_list)/5\n",
    "average_FP = sum(FP_list)/5\n",
    "average_FN = sum(FN_list)/5\n",
    "print(average_TP, average_TN, average_FP, average_FN)"
   ]
  },
  {
   "cell_type": "code",
   "execution_count": 183,
   "id": "21490b62",
   "metadata": {},
   "outputs": [
    {
     "name": "stdout",
     "output_type": "stream",
     "text": [
      "average recall score over 5 iterations: 0.21666666666666667\n",
      "average precision score over 5 iterations: 0.5555555555555556\n",
      "average accuracy score over 5 iterations: 0.713\n"
     ]
    }
   ],
   "source": [
    "# Calculate the performance metrics\n",
    "recall_score = average_TP / (average_TP + average_FN)\n",
    "precision_score = average_TP / (average_TP + average_FP)\n",
    "accuracy_score = (average_TP + average_TN) / 200 # TP + TN + FP + FN is always 200.\n",
    "print('average recall score over 5 iterations:', recall_score)\n",
    "print('average precision score over 5 iterations:', precision_score)\n",
    "print('average accuracy score over 5 iterations:', accuracy_score)"
   ]
  },
  {
   "cell_type": "code",
   "execution_count": null,
   "id": "ea466c6d",
   "metadata": {},
   "outputs": [],
   "source": []
  }
 ],
 "metadata": {
  "kernelspec": {
   "display_name": "Python 3 (ipykernel)",
   "language": "python",
   "name": "python3"
  },
  "language_info": {
   "codemirror_mode": {
    "name": "ipython",
    "version": 3
   },
   "file_extension": ".py",
   "mimetype": "text/x-python",
   "name": "python",
   "nbconvert_exporter": "python",
   "pygments_lexer": "ipython3",
   "version": "3.9.13"
  }
 },
 "nbformat": 4,
 "nbformat_minor": 5
}
