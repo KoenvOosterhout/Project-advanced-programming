{
 "cells": [
  {
   "cell_type": "code",
   "execution_count": 153,
   "id": "6f071de5",
   "metadata": {},
   "outputs": [],
   "source": [
    "# Import the required libraries\n",
    "import pandas as pd\n",
    "import numpy as np\n",
    "import csv\n",
    "import sklearn.model_selection\n",
    "import sklearn.ensemble\n",
    "import rdkit.Chem.Descriptors\n",
    "from rdkit import Chem"
   ]
  },
  {
   "cell_type": "code",
   "execution_count": 154,
   "id": "82384d6b",
   "metadata": {},
   "outputs": [],
   "source": [
    "# load the data into a dataframe\n",
    "DataFrame = pd.read_csv('tested_molecules_1.csv')\n",
    "original_df = DataFrame.copy()"
   ]
  },
  {
   "cell_type": "code",
   "execution_count": 155,
   "id": "c7679483",
   "metadata": {},
   "outputs": [],
   "source": [
    "# Split the column\n",
    "original_df[['SMILES', 'ALDH1_inhibition']] = original_df['SMILES,\"ALDH1_inhibition\"'].str.split(',', expand=True)\n",
    "original_df.drop('SMILES,\"ALDH1_inhibition\"', axis=1, inplace=True)\n",
    "\n",
    "original_df['ALDH1_inhibition'] = original_df['ALDH1_inhibition'].str.strip('\"')\n",
    "# Read file for original_df_test\n",
    "original_df_test = pd.read_csv('tested_molecules_2.csv')\n",
    "\n",
    "original_df_test = pd.read_csv('tested_molecules_2.csv')\n",
    "original_df_test[['SMILES', 'ALDH1_inhibition']] = original_df_test['SMILES;ALDH1_inhibition'].str.split(';', expand=True)\n",
    "original_df_test.drop('SMILES;ALDH1_inhibition', axis=1, inplace=True)\n",
    "\n",
    "combined_df = pd.concat([original_df, original_df_test], ignore_index=True)\n",
    "\n",
    "DataFrame = combined_df.copy()"
   ]
  },
  {
   "cell_type": "code",
   "execution_count": 156,
   "id": "b2c0d8b2",
   "metadata": {},
   "outputs": [],
   "source": [
    "# create lists for your true positives, true negatives, false positives and false negatives. Only run before the first iteration.\n",
    "TP_list = []\n",
    "TN_list = []\n",
    "FP_list = []\n",
    "FN_list = []"
   ]
  },
  {
   "cell_type": "code",
   "execution_count": 350,
   "id": "80b83d77",
   "metadata": {},
   "outputs": [
    {
     "name": "stdout",
     "output_type": "stream",
     "text": [
      "1145                  c1ccc2c(Nc3ccncc3)nc(-c3ccoc3)nc2c1\n",
      "205                 CCc1c(C)sc(NC(=O)c2cc(C(C)C)on2)c1C#N\n",
      "721     CCn1c(=O)n(CC(=O)Nc2cc(OC)c(OC)c(OC)c2)c(=O)c2...\n",
      "1330      FC(F)C(F)(F)C(F)(F)C(F)(F)c1cc(-c2ccccc2)[nH]n1\n",
      "201     COC(=O)[C@H]1C[C@@H]1[C@H](NC(=O)c1ccccc1)c1cc...\n",
      "                              ...                        \n",
      "1667                           Nc1c(Cl)nc(-c2ccccc2)nc1Cl\n",
      "994     CCc1c(C)nc2ncnn2c1N1CCCC(C(=O)NCc2ccc3c(c2)OCO...\n",
      "1251                    Fc1ccc(CNn2cnnc2SCc2ccc(F)cc2)cc1\n",
      "646                COC(=O)c1cc2n(n1)CCN(Cc1ccc(F)cc1)C2=O\n",
      "467       CCc1ccc(C2c3[nH]c4ccccc4c3CCN2C(=O)CNC(N)=O)cc1\n",
      "Name: SMILES, Length: 1600, dtype: object\n",
      "1145    0\n",
      "205     1\n",
      "721     0\n",
      "1330    0\n",
      "201     1\n",
      "       ..\n",
      "1667    0\n",
      "994     0\n",
      "1251    0\n",
      "646     0\n",
      "467     0\n",
      "Name: ALDH1_inhibition, Length: 1600, dtype: object\n"
     ]
    }
   ],
   "source": [
    "# Randomly select 20% of the data to be the test set. The other 80% will be the training set.\n",
    "# Devide the training set into the molecules (X) and the labels (y). \n",
    "Train, Test = sklearn.model_selection.train_test_split(DataFrame, test_size = 0.2)\n",
    "X = Train['SMILES']\n",
    "y = Train['ALDH1_inhibition']\n",
    "print(X)\n",
    "print(y)"
   ]
  },
  {
   "cell_type": "code",
   "execution_count": 351,
   "id": "15ea2ef7",
   "metadata": {},
   "outputs": [],
   "source": [
    "# Create a matrix and add the descriptors for the training set.\n",
    "\n",
    "# descriptor ... : MaxEStateIndex\n",
    "\n",
    "feature_matrix_train = pd.DataFrame()\n",
    "X_train = Train['SMILES']\n",
    "descripted_X_train = []\n",
    "for molecule in X_train:\n",
    "    mol = rdkit.Chem.MolFromSmiles(molecule)\n",
    "    desc_value = rdkit.Chem.Descriptors.MaxEStateIndex(mol)\n",
    "    descripted_X_train.append(desc_value)\n",
    "feature_matrix_train['MaxEStateIndex'] = descripted_X_train"
   ]
  },
  {
   "cell_type": "code",
   "execution_count": 352,
   "id": "eedb0632",
   "metadata": {},
   "outputs": [],
   "source": [
    "\n",
    "# descriptor 1: qed\n",
    "feature_matrix_train = pd.DataFrame()\n",
    "X_train = Train['SMILES']\n",
    "descripted_X_train = []\n",
    "for molecule in X_train:\n",
    "    mol = rdkit.Chem.MolFromSmiles(molecule)\n",
    "    desc_value = rdkit.Chem.Descriptors.qed(mol)\n",
    "    descripted_X_train.append(desc_value)\n",
    "feature_matrix_train['qed'] = descripted_X_train"
   ]
  },
  {
   "cell_type": "code",
   "execution_count": 353,
   "id": "955f3a83",
   "metadata": {},
   "outputs": [],
   "source": [
    "# descriptor 2: MolWt\n",
    "descripted_X_train = []\n",
    "for molecule in X_train:\n",
    "    mol = Chem.MolFromSmiles(molecule)\n",
    "    desc_value = rdkit.Chem.Descriptors.MolWt(mol)\n",
    "    descripted_X_train.append(desc_value)\n",
    "feature_matrix_train['MolWt'] = descripted_X_train"
   ]
  },
  {
   "cell_type": "code",
   "execution_count": 354,
   "id": "dc6a07e7",
   "metadata": {},
   "outputs": [],
   "source": [
    "# descriptor 2: MaxPartialCharge\n",
    "descripted_X_train = []\n",
    "for molecule in X_train:\n",
    "    mol = Chem.MolFromSmiles(molecule)\n",
    "    desc_value = rdkit.Chem.Descriptors.MaxPartialCharge(mol)\n",
    "    descripted_X_train.append(desc_value)\n",
    "feature_matrix_train['MaxPartialCharge'] = descripted_X_train"
   ]
  },
  {
   "cell_type": "code",
   "execution_count": 355,
   "id": "1276cd6f",
   "metadata": {},
   "outputs": [],
   "source": [
    "# descriptor 2: MinPartialCharge\n",
    "descripted_X_train = []\n",
    "for molecule in X_train:\n",
    "    mol = Chem.MolFromSmiles(molecule)\n",
    "    desc_value = rdkit.Chem.Descriptors.MinPartialCharge(mol)\n",
    "    descripted_X_train.append(desc_value)\n",
    "feature_matrix_train['MinPartialCharge'] = descripted_X_train"
   ]
  },
  {
   "cell_type": "code",
   "execution_count": 356,
   "id": "16ba77f8",
   "metadata": {},
   "outputs": [],
   "source": [
    "# descriptor 3: BCUT2D_CHGHI\n",
    "descripted_X_train = []\n",
    "for molecule in X_train:\n",
    "    mol = Chem.MolFromSmiles(molecule)\n",
    "    desc_value = rdkit.Chem.Descriptors.BCUT2D_CHGHI(mol)\n",
    "    descripted_X_train.append(desc_value)\n",
    "feature_matrix_train['BCUT2D_CHGHI'] = descripted_X_train"
   ]
  },
  {
   "cell_type": "code",
   "execution_count": 357,
   "id": "41a81da1",
   "metadata": {},
   "outputs": [],
   "source": [
    "# descriptor 3: BCUT2D_CHGLO\n",
    "descripted_X_train = []\n",
    "for molecule in X_train:\n",
    "    mol = Chem.MolFromSmiles(molecule)\n",
    "    desc_value = rdkit.Chem.Descriptors.BCUT2D_CHGLO(mol)\n",
    "    descripted_X_train.append(desc_value)\n",
    "feature_matrix_train['BCUT2D_CHGLO'] = descripted_X_train"
   ]
  },
  {
   "cell_type": "code",
   "execution_count": 358,
   "id": "76faf1f0",
   "metadata": {},
   "outputs": [],
   "source": [
    "# descriptor 4: BCUT2D_LOGPHI\n",
    "descripted_X_train = []\n",
    "for molecule in X_train:\n",
    "    mol = Chem.MolFromSmiles(molecule)\n",
    "    desc_value = rdkit.Chem.Descriptors.BCUT2D_LOGPHI(mol)\n",
    "    descripted_X_train.append(desc_value)\n",
    "feature_matrix_train['BCUT2D_LOGPHI'] = descripted_X_train"
   ]
  },
  {
   "cell_type": "code",
   "execution_count": 359,
   "id": "e02f7467",
   "metadata": {},
   "outputs": [],
   "source": [
    "# descriptor 5: BCUT2D_MRHI\n",
    "descripted_X_train = []\n",
    "for molecule in X_train:\n",
    "    mol = Chem.MolFromSmiles(molecule)\n",
    "    desc_value = rdkit.Chem.Descriptors.BCUT2D_MRHI(mol)\n",
    "    descripted_X_train.append(desc_value)\n",
    "feature_matrix_train['BCUT2D_MRHI'] = descripted_X_train"
   ]
  },
  {
   "cell_type": "code",
   "execution_count": 360,
   "id": "015d0bf4",
   "metadata": {},
   "outputs": [],
   "source": [
    "# descriptor 5: BalabanJ\n",
    "descripted_X_train = []\n",
    "for molecule in X_train:\n",
    "    mol = Chem.MolFromSmiles(molecule)\n",
    "    desc_value = rdkit.Chem.Descriptors.BalabanJ(mol)\n",
    "    descripted_X_train.append(desc_value)\n",
    "feature_matrix_train['BalabanJ'] = descripted_X_train"
   ]
  },
  {
   "cell_type": "markdown",
   "id": "6fc564e2",
   "metadata": {},
   "source": [
    "# descriptor 6: AvgIpc\n",
    "descripted_X_train = []\n",
    "for molecule in X_train:\n",
    "    mol = Chem.MolFromSmiles(molecule)\n",
    "    desc_value = rdkit.Chem.Descriptors.AvgIpc(mol)\n",
    "    descripted_X_train.append(desc_value)\n",
    "feature_matrix_train['AvgIpc'] = descripted_X_train"
   ]
  },
  {
   "cell_type": "code",
   "execution_count": 361,
   "id": "876432fa",
   "metadata": {},
   "outputs": [],
   "source": [
    "# descriptor 7: BertzCT\n",
    "descripted_X_train = []\n",
    "for molecule in X_train:\n",
    "    mol = Chem.MolFromSmiles(molecule)\n",
    "    desc_value = rdkit.Chem.Descriptors.BertzCT(mol)\n",
    "    descripted_X_train.append(desc_value)\n",
    "feature_matrix_train['BertzCT'] = descripted_X_train"
   ]
  },
  {
   "cell_type": "code",
   "execution_count": 362,
   "id": "3742f6ef",
   "metadata": {},
   "outputs": [],
   "source": [
    "# descriptor 7: Kappa2\n",
    "descripted_X_train = []\n",
    "for molecule in X_train:\n",
    "    mol = Chem.MolFromSmiles(molecule)\n",
    "    desc_value = rdkit.Chem.Descriptors.Kappa2(mol)\n",
    "    descripted_X_train.append(desc_value)\n",
    "feature_matrix_train['Kappa2'] = descripted_X_train"
   ]
  },
  {
   "cell_type": "code",
   "execution_count": 363,
   "id": "06ddcd40",
   "metadata": {},
   "outputs": [],
   "source": [
    "# descriptor 7: PEOE_VSA7\n",
    "descripted_X_train = []\n",
    "for molecule in X_train:\n",
    "    mol = Chem.MolFromSmiles(molecule)\n",
    "    desc_value = rdkit.Chem.Descriptors.PEOE_VSA7(mol)\n",
    "    descripted_X_train.append(desc_value)\n",
    "feature_matrix_train['PEOE_VSA7'] = descripted_X_train"
   ]
  },
  {
   "cell_type": "code",
   "execution_count": 364,
   "id": "ca9b3999",
   "metadata": {},
   "outputs": [],
   "source": [
    "# descriptor 8: SMR_VSA1\n",
    "descripted_X_train = []\n",
    "for molecule in X_train:\n",
    "    mol = Chem.MolFromSmiles(molecule)\n",
    "    desc_value = rdkit.Chem.Descriptors.SMR_VSA1(mol)\n",
    "    descripted_X_train.append(desc_value)\n",
    "feature_matrix_train['SMR_VSA1'] = descripted_X_train"
   ]
  },
  {
   "cell_type": "code",
   "execution_count": 365,
   "id": "934d7c4e",
   "metadata": {},
   "outputs": [],
   "source": [
    "# descriptor 8: SMR_VSA10\n",
    "descripted_X_train = []\n",
    "for molecule in X_train:\n",
    "    mol = Chem.MolFromSmiles(molecule)\n",
    "    desc_value = rdkit.Chem.Descriptors.SMR_VSA10(mol)\n",
    "    descripted_X_train.append(desc_value)\n",
    "feature_matrix_train['SMR_VSA10'] = descripted_X_train"
   ]
  },
  {
   "cell_type": "markdown",
   "id": "a5aa293a",
   "metadata": {},
   "source": [
    "# descriptor 9: SlogP_VSA12\n",
    "descripted_X_train = []\n",
    "for molecule in X_train:\n",
    "    mol = Chem.MolFromSmiles(molecule)\n",
    "    desc_value = rdkit.Chem.Descriptors.SlogP_VSA12(mol)\n",
    "    descripted_X_train.append(desc_value)\n",
    "feature_matrix_train['SlogP_VSA12'] = descripted_X_train"
   ]
  },
  {
   "cell_type": "markdown",
   "id": "98748fb8",
   "metadata": {},
   "source": [
    "# descriptor 10: NumHAcceptors\n",
    "descripted_X_train = []\n",
    "for molecule in X_train:\n",
    "    mol = Chem.MolFromSmiles(molecule)\n",
    "    desc_value = rdkit.Chem.Descriptors.NumHAcceptors(mol)\n",
    "    descripted_X_train.append(desc_value)\n",
    "feature_matrix_train['NumHAcceptors'] = descripted_X_train"
   ]
  },
  {
   "cell_type": "markdown",
   "id": "3d280310",
   "metadata": {},
   "source": [
    "# descriptor 11: NumHeteroatoms\n",
    "descripted_X_train = []\n",
    "for molecule in X_train:\n",
    "    mol = Chem.MolFromSmiles(molecule)\n",
    "    desc_value = rdkit.Chem.Descriptors.NumHeteroatoms(mol)\n",
    "    descripted_X_train.append(desc_value)\n",
    "feature_matrix_train['NumHeteroatoms'] = descripted_X_train"
   ]
  },
  {
   "cell_type": "markdown",
   "id": "f733d272",
   "metadata": {},
   "source": [
    "# descriptor 12: RingCount\n",
    "descripted_X_train = []\n",
    "for molecule in X_train:\n",
    "    mol = Chem.MolFromSmiles(molecule)\n",
    "    desc_value = rdkit.Chem.Descriptors.RingCount(mol)\n",
    "    descripted_X_train.append(desc_value)\n",
    "feature_matrix_train['RingCount'] = descripted_X_train"
   ]
  },
  {
   "cell_type": "markdown",
   "id": "8836e8c6",
   "metadata": {},
   "source": [
    "# descriptor 13: fr_C_S\n",
    "descripted_X_train = []\n",
    "for molecule in X_train:\n",
    "    mol = Chem.MolFromSmiles(molecule)\n",
    "    desc_value = rdkit.Chem.Descriptors.fr_C_S(mol)\n",
    "    descripted_X_train.append(desc_value)\n",
    "feature_matrix_train['fr_C_S'] = descripted_X_train"
   ]
  },
  {
   "cell_type": "markdown",
   "id": "78d70ee6",
   "metadata": {},
   "source": [
    "# descriptor 14: fr_furan\n",
    "descripted_X_train = []\n",
    "for molecule in X_train:\n",
    "    mol = Chem.MolFromSmiles(molecule)\n",
    "    desc_value = rdkit.Chem.Descriptors.fr_furan(mol)\n",
    "    descripted_X_train.append(desc_value)\n",
    "feature_matrix_train['fr_furan'] = descripted_X_train\n",
    "print(feature_matrix_train)"
   ]
  },
  {
   "cell_type": "code",
   "execution_count": 366,
   "id": "1d18009b",
   "metadata": {},
   "outputs": [],
   "source": [
    "# descriptor 14: SlogP_VSA5\n",
    "descripted_X_train = []\n",
    "for molecule in X_train:\n",
    "    mol = Chem.MolFromSmiles(molecule)\n",
    "    desc_value = rdkit.Chem.Descriptors.SlogP_VSA5(mol)\n",
    "    descripted_X_train.append(desc_value)\n",
    "feature_matrix_train['SlogP_VSA5'] = descripted_X_train"
   ]
  },
  {
   "cell_type": "code",
   "execution_count": 367,
   "id": "ceb61ed4",
   "metadata": {},
   "outputs": [],
   "source": [
    "# descriptor 14: VSA_EState8\n",
    "descripted_X_train = []\n",
    "for molecule in X_train:\n",
    "    mol = Chem.MolFromSmiles(molecule)\n",
    "    desc_value = rdkit.Chem.Descriptors.VSA_EState8(mol)\n",
    "    descripted_X_train.append(desc_value)\n",
    "feature_matrix_train['VSA_EState8'] = descripted_X_train"
   ]
  },
  {
   "cell_type": "code",
   "execution_count": 368,
   "id": "4543e148",
   "metadata": {},
   "outputs": [
    {
     "name": "stdout",
     "output_type": "stream",
     "text": [
      "           qed    MolWt  MaxPartialCharge  MinPartialCharge  BCUT2D_CHGHI  \\\n",
      "0     0.616338  288.310          0.164893         -0.471841      2.097960   \n",
      "1     0.929918  303.387          0.277989         -0.360331      2.192704   \n",
      "2     0.634475  413.430          0.331449         -0.492634      2.170867   \n",
      "3     0.782552  344.205          0.383402         -0.277352      2.761534   \n",
      "4     0.863972  309.365          0.308539         -0.468783      2.490747   \n",
      "...        ...      ...               ...               ...           ...   \n",
      "1595  0.779102  240.093          0.162212         -0.393720      2.086315   \n",
      "1596  0.673979  422.489          0.253803         -0.453595      2.289563   \n",
      "1597  0.700648  332.379          0.209513         -0.318117      2.055172   \n",
      "1598  0.805422  303.293          0.358086         -0.464240      2.276132   \n",
      "1599  0.653330  376.460          0.312110         -0.356148      2.338417   \n",
      "\n",
      "      BCUT2D_CHGLO  BCUT2D_LOGPHI  BCUT2D_MRHI  BalabanJ      BertzCT  \\\n",
      "0        -2.096766       2.266233     5.916362  1.877439   904.516138   \n",
      "1        -1.998857       2.326167     7.162632  2.253229   707.062545   \n",
      "2        -2.151955       2.393917     5.913012  1.970247  1186.562865   \n",
      "3        -2.305912       2.524986     5.587775  2.425709   665.623860   \n",
      "4        -2.192586       2.476642     5.941108  1.795968   684.275618   \n",
      "...            ...            ...          ...       ...          ...   \n",
      "1595     -2.033953       2.264013     6.369626  2.558721   462.276216   \n",
      "1596     -2.345175       2.324607     5.793438  1.309255  1127.876884   \n",
      "1597     -2.092103       2.197681     7.979325  1.580287   692.511230   \n",
      "1598     -2.269902       2.168130     5.961415  1.799810   724.133945   \n",
      "1599     -2.360677       2.379751     5.875468  1.782213  1022.697719   \n",
      "\n",
      "        Kappa2  PEOE_VSA7   SMR_VSA1  SMR_VSA10  SlogP_VSA5  VSA_EState8  \\\n",
      "0     5.290028  30.331835   4.417151  22.408174    0.000000     0.000000   \n",
      "1     6.101845  18.908010   9.317632  22.245048   58.941880     7.874288   \n",
      "2     8.726437  19.056471  19.005126  22.497491    6.923737     1.741985   \n",
      "3     5.498939  11.629819  35.123320   0.000000    5.693928     0.000000   \n",
      "4     6.648733  30.034913  14.325937  11.876485   28.384103     0.000000   \n",
      "...        ...        ...        ...        ...         ...          ...   \n",
      "1595  4.044863   0.000000   0.000000  28.889266    0.000000     0.000000   \n",
      "1596  8.051062  43.882388  14.268263  17.502696   36.586211     6.381183   \n",
      "1597  7.234929  35.392371   8.780830  11.761885   11.126903     0.530187   \n",
      "1598  5.590551  17.696186  18.716352  11.876485   26.540382     1.363706   \n",
      "1599  7.384410  35.598365   9.589074  22.841219   35.349860     2.610616   \n",
      "\n",
      "      MolLogP  \n",
      "0     4.02840  \n",
      "1     3.85430  \n",
      "2     1.84760  \n",
      "3     4.70420  \n",
      "4     2.96680  \n",
      "...       ...  \n",
      "1595  3.03260  \n",
      "1596  2.25662  \n",
      "1597  3.59230  \n",
      "1598  1.46480  \n",
      "1599  2.87270  \n",
      "\n",
      "[1600 rows x 17 columns]\n"
     ]
    }
   ],
   "source": [
    "# descriptor 14: MolLogP\n",
    "descripted_X_train = []\n",
    "for molecule in X_train:\n",
    "    mol = Chem.MolFromSmiles(molecule)\n",
    "    desc_value = rdkit.Chem.Descriptors.MolLogP(mol)\n",
    "    descripted_X_train.append(desc_value)\n",
    "feature_matrix_train['MolLogP'] = descripted_X_train\n",
    "print(feature_matrix_train)"
   ]
  },
  {
   "cell_type": "code",
   "execution_count": 369,
   "id": "d9670d37",
   "metadata": {},
   "outputs": [],
   "source": [
    "# Train a random forest using the feature matrix and the labels.\n",
    "forest = sklearn.ensemble.RandomForestClassifier()\n",
    "predictor = forest.fit(feature_matrix_train, y)"
   ]
  },
  {
   "cell_type": "code",
   "execution_count": 370,
   "id": "0f3c6bf9",
   "metadata": {},
   "outputs": [
    {
     "name": "stdout",
     "output_type": "stream",
     "text": [
      "['0', '1', '0', '1', '1', '0', '0', '0', '0', '0', '0', '1', '0', '1', '1', '1', '0', '1', '0', '0', '1', '0', '1', '0', '0', '1', '1', '0', '0', '0', '0', '0', '0', '1', '1', '0', '0', '0', '0', '0', '0', '0', '0', '0', '0', '0', '0', '0', '0', '0', '0', '0', '0', '0', '0', '0', '0', '1', '0', '1', '0', '0', '0', '1', '0', '1', '1', '0', '0', '1', '1', '1', '0', '1', '0', '1', '0', '0', '1', '0', '0', '0', '1', '1', '1', '0', '1', '0', '0', '0', '1', '0', '1', '0', '0', '0', '0', '1', '1', '1', '1', '0', '0', '1', '0', '0', '0', '0', '0', '1', '0', '0', '0', '1', '0', '0', '0', '0', '0', '0', '0', '1', '1', '0', '0', '1', '0', '0', '0', '1', '0', '0', '0', '1', '1', '0', '1', '0', '1', '0', '0', '0', '1', '1', '1', '0', '0', '1', '1', '0', '1', '0', '0', '0', '0', '0', '0', '0', '1', '0', '0', '0', '1', '0', '0', '1', '0', '0', '0', '1', '0', '1', '0', '0', '0', '0', '0', '0', '1', '1', '1', '1', '1', '0', '0', '0', '1', '0', '0', '0', '0', '0', '0', '0', '0', '1', '0', '0', '0', '0', '0', '0', '1', '0', '1', '0', '0', '0', '0', '0', '0', '0', '0', '0', '0', '0', '0', '1', '0', '0', '0', '0', '0', '0', '0', '0', '1', '1', '0', '0', '0', '0', '0', '0', '1', '0', '1', '0', '0', '0', '1', '1', '1', '1', '0', '0', '0', '0', '0', '1', '0', '1', '1', '0', '1', '0', '0', '0', '1', '1', '0', '1', '0', '0', '0', '1', '0', '1', '0', '0', '0', '0', '1', '0', '0', '1', '0', '0', '0', '0', '0', '0', '1', '0', '1', '0', '0', '0', '0', '0', '1', '0', '0', '0', '0', '0', '0', '0', '0', '0', '0', '0', '0', '0', '0', '0', '1', '0', '0', '0', '0', '0', '1', '0', '1', '0', '0', '0', '0', '0', '0', '0', '1', '1', '1', '1', '0', '0', '0', '0', '0', '1', '0', '0', '0', '0', '0', '0', '0', '1', '0', '1', '0', '0', '0', '0', '1', '1', '0', '0', '1', '0', '0', '0', '1', '1', '1', '0', '1', '0', '1', '1', '1', '0', '0', '1', '1', '0', '1', '1', '0', '0', '1', '0', '0', '0', '0', '1', '1', '0', '0', '0', '0', '0', '0', '0', '0', '0', '1', '0', '0', '0', '1', '0', '0', '1', '0', '0', '1', '1']\n"
     ]
    }
   ],
   "source": [
    "# Store the correct labels for the test set in an array.\n",
    "y_test = Test['ALDH1_inhibition']\n",
    "test_correct_values = []\n",
    "for y in y_test:\n",
    "    test_correct_values.append(y)\n",
    "print(test_correct_values)"
   ]
  },
  {
   "cell_type": "code",
   "execution_count": 371,
   "id": "96708375",
   "metadata": {},
   "outputs": [],
   "source": [
    "# Create a matrix and add the descriptors for the test set.\n",
    "\n",
    "# descriptor ... : MaxEStateIndex\n",
    "\n",
    "feature_matrix_test = pd.DataFrame()\n",
    "X_test = Test['SMILES']\n",
    "descripted_X_test = []\n",
    "for molecule in X_test:\n",
    "    mol = rdkit.Chem.MolFromSmiles(molecule)\n",
    "    desc_value = rdkit.Chem.Descriptors.MaxEStateIndex(mol)\n",
    "    descripted_X_test.append(desc_value)\n",
    "feature_matrix_test['MaxEStateIndex'] = descripted_X_test"
   ]
  },
  {
   "cell_type": "code",
   "execution_count": 372,
   "id": "491fb250",
   "metadata": {},
   "outputs": [],
   "source": [
    "# Create a matrix and add the descriptors for the test set.\n",
    "\n",
    "# descriptor 1: qed\n",
    "feature_matrix_test = pd.DataFrame()\n",
    "X_test = Test['SMILES']\n",
    "descripted_X_test = []\n",
    "for molecule in X_test:\n",
    "    mol = rdkit.Chem.MolFromSmiles(molecule)\n",
    "    desc_value = rdkit.Chem.Descriptors.qed(mol)\n",
    "    descripted_X_test.append(desc_value)\n",
    "feature_matrix_test['qed'] = descripted_X_test"
   ]
  },
  {
   "cell_type": "code",
   "execution_count": 373,
   "id": "b44101d1",
   "metadata": {},
   "outputs": [],
   "source": [
    "# descriptor 2: MolWt\n",
    "descripted_X_test = []\n",
    "for molecule in X_test:\n",
    "    mol = Chem.MolFromSmiles(molecule)\n",
    "    desc_value = rdkit.Chem.Descriptors.MolWt(mol)\n",
    "    descripted_X_test.append(desc_value)\n",
    "feature_matrix_test['MolWt'] = descripted_X_test"
   ]
  },
  {
   "cell_type": "code",
   "execution_count": 374,
   "id": "f0fa7d36",
   "metadata": {},
   "outputs": [],
   "source": [
    "# descriptor 2: MaxPartialCharge\n",
    "descripted_X_test = []\n",
    "for molecule in X_test:\n",
    "    mol = Chem.MolFromSmiles(molecule)\n",
    "    desc_value = rdkit.Chem.Descriptors.MaxPartialCharge(mol)\n",
    "    descripted_X_test.append(desc_value)\n",
    "feature_matrix_test['MaxPartialCharge'] = descripted_X_test"
   ]
  },
  {
   "cell_type": "code",
   "execution_count": 375,
   "id": "17cf3a39",
   "metadata": {},
   "outputs": [],
   "source": [
    "# descriptor 2: MinPartialCharge\n",
    "descripted_X_test = []\n",
    "for molecule in X_test:\n",
    "    mol = Chem.MolFromSmiles(molecule)\n",
    "    desc_value = rdkit.Chem.Descriptors.MinPartialCharge(mol)\n",
    "    descripted_X_test.append(desc_value)\n",
    "feature_matrix_test['MinPartialCharge'] = descripted_X_test"
   ]
  },
  {
   "cell_type": "code",
   "execution_count": 376,
   "id": "dfa11438",
   "metadata": {},
   "outputs": [],
   "source": [
    "# descriptor 3: BCUT2D_CHGHI\n",
    "descripted_X_test = []\n",
    "for molecule in X_test:\n",
    "    mol = Chem.MolFromSmiles(molecule)\n",
    "    desc_value = rdkit.Chem.Descriptors.BCUT2D_CHGHI(mol)\n",
    "    descripted_X_test.append(desc_value)\n",
    "feature_matrix_test['BCUT2D_CHGHI'] = descripted_X_test"
   ]
  },
  {
   "cell_type": "code",
   "execution_count": 377,
   "id": "15c804cd",
   "metadata": {},
   "outputs": [],
   "source": [
    "# descriptor 3: BCUT2D_CHGLO\n",
    "descripted_X_test = []\n",
    "for molecule in X_test:\n",
    "    mol = Chem.MolFromSmiles(molecule)\n",
    "    desc_value = rdkit.Chem.Descriptors.BCUT2D_CHGLO(mol)\n",
    "    descripted_X_test.append(desc_value)\n",
    "feature_matrix_test['BCUT2D_CHGLO'] = descripted_X_test"
   ]
  },
  {
   "cell_type": "code",
   "execution_count": 378,
   "id": "5f852c88",
   "metadata": {},
   "outputs": [],
   "source": [
    "# descriptor 4: BCUT2D_LOGPHI\n",
    "descripted_X_test = []\n",
    "for molecule in X_test:\n",
    "    mol = Chem.MolFromSmiles(molecule)\n",
    "    desc_value = rdkit.Chem.Descriptors.BCUT2D_LOGPHI(mol)\n",
    "    descripted_X_test.append(desc_value)\n",
    "feature_matrix_test['BCUT2D_LOGPHI'] = descripted_X_test"
   ]
  },
  {
   "cell_type": "code",
   "execution_count": 379,
   "id": "f7c0eb72",
   "metadata": {},
   "outputs": [],
   "source": [
    "# descriptor 5: BCUT2D_MRHI\n",
    "descripted_X_test = []\n",
    "for molecule in X_test:\n",
    "    mol = Chem.MolFromSmiles(molecule)\n",
    "    desc_value = rdkit.Chem.Descriptors.BCUT2D_MRHI(mol)\n",
    "    descripted_X_test.append(desc_value)\n",
    "feature_matrix_test['BCUT2D_MRHI'] = descripted_X_test"
   ]
  },
  {
   "cell_type": "code",
   "execution_count": 380,
   "id": "5dd17078",
   "metadata": {},
   "outputs": [],
   "source": [
    "# descriptor 5: BalabanJ\n",
    "descripted_X_test = []\n",
    "for molecule in X_test:\n",
    "    mol = Chem.MolFromSmiles(molecule)\n",
    "    desc_value = rdkit.Chem.Descriptors.BalabanJ(mol)\n",
    "    descripted_X_test.append(desc_value)\n",
    "feature_matrix_test['BalabanJ'] = descripted_X_test"
   ]
  },
  {
   "cell_type": "markdown",
   "id": "508240f3",
   "metadata": {},
   "source": [
    "# descriptor 6: AvgIpc\n",
    "descripted_X_test = []\n",
    "for molecule in X_test:\n",
    "    mol = Chem.MolFromSmiles(molecule)\n",
    "    desc_value = rdkit.Chem.Descriptors.AvgIpc(mol)\n",
    "    descripted_X_test.append(desc_value)\n",
    "feature_matrix_test['AvgIpc'] = descripted_X_test"
   ]
  },
  {
   "cell_type": "code",
   "execution_count": 381,
   "id": "37ce3e5b",
   "metadata": {},
   "outputs": [],
   "source": [
    "# descriptor 7: BertzCT\n",
    "descripted_X_test = []\n",
    "for molecule in X_test:\n",
    "    mol = Chem.MolFromSmiles(molecule)\n",
    "    desc_value = rdkit.Chem.Descriptors.BertzCT(mol)\n",
    "    descripted_X_test.append(desc_value)\n",
    "feature_matrix_test['BertzCT'] = descripted_X_test"
   ]
  },
  {
   "cell_type": "code",
   "execution_count": 382,
   "id": "06f23d2c",
   "metadata": {},
   "outputs": [],
   "source": [
    "# descriptor 7: Kappa2\n",
    "descripted_X_test = []\n",
    "for molecule in X_test:\n",
    "    mol = Chem.MolFromSmiles(molecule)\n",
    "    desc_value = rdkit.Chem.Descriptors.Kappa2(mol)\n",
    "    descripted_X_test.append(desc_value)\n",
    "feature_matrix_test['Kappa2'] = descripted_X_test"
   ]
  },
  {
   "cell_type": "code",
   "execution_count": 383,
   "id": "78a05ffa",
   "metadata": {},
   "outputs": [],
   "source": [
    "# descriptor 7: PEOE_VSA7\n",
    "descripted_X_test = []\n",
    "for molecule in X_test:\n",
    "    mol = Chem.MolFromSmiles(molecule)\n",
    "    desc_value = rdkit.Chem.Descriptors.PEOE_VSA7(mol)\n",
    "    descripted_X_test.append(desc_value)\n",
    "feature_matrix_test['PEOE_VSA7'] = descripted_X_test"
   ]
  },
  {
   "cell_type": "code",
   "execution_count": 384,
   "id": "67b30f79",
   "metadata": {},
   "outputs": [],
   "source": [
    "# descriptor 8: SMR_VSA1\n",
    "descripted_X_test = []\n",
    "for molecule in X_test:\n",
    "    mol = Chem.MolFromSmiles(molecule)\n",
    "    desc_value = rdkit.Chem.Descriptors.SMR_VSA1(mol)\n",
    "    descripted_X_test.append(desc_value)\n",
    "feature_matrix_test['SMR_VSA1'] = descripted_X_test"
   ]
  },
  {
   "cell_type": "code",
   "execution_count": 385,
   "id": "1269e81c",
   "metadata": {},
   "outputs": [],
   "source": [
    "# descriptor 8: SMR_VSA10\n",
    "descripted_X_test = []\n",
    "for molecule in X_test:\n",
    "    mol = Chem.MolFromSmiles(molecule)\n",
    "    desc_value = rdkit.Chem.Descriptors.SMR_VSA10(mol)\n",
    "    descripted_X_test.append(desc_value)\n",
    "feature_matrix_test['SMR_VSA10'] = descripted_X_test"
   ]
  },
  {
   "cell_type": "markdown",
   "id": "f88b15b5",
   "metadata": {},
   "source": [
    "# descriptor 9: SlogP_VSA12\n",
    "descripted_X_test = []\n",
    "for molecule in X_test:\n",
    "    mol = Chem.MolFromSmiles(molecule)\n",
    "    desc_value = rdkit.Chem.Descriptors.SlogP_VSA12(mol)\n",
    "    descripted_X_test.append(desc_value)\n",
    "feature_matrix_test['SlogP_VSA12'] = descripted_X_test"
   ]
  },
  {
   "cell_type": "markdown",
   "id": "1877d88d",
   "metadata": {},
   "source": [
    "# descriptor 10: NumHAcceptors\n",
    "descripted_X_test = []\n",
    "for molecule in X_test:\n",
    "    mol = Chem.MolFromSmiles(molecule)\n",
    "    desc_value = rdkit.Chem.Descriptors.NumHAcceptors(mol)\n",
    "    descripted_X_test.append(desc_value)\n",
    "feature_matrix_test['NumHAcceptors'] = descripted_X_test"
   ]
  },
  {
   "cell_type": "markdown",
   "id": "9621a231",
   "metadata": {},
   "source": [
    "# descriptor 11: NumHeteroatoms\n",
    "descripted_X_test = []\n",
    "for molecule in X_test:\n",
    "    mol = Chem.MolFromSmiles(molecule)\n",
    "    desc_value = rdkit.Chem.Descriptors.NumHeteroatoms(mol)\n",
    "    descripted_X_test.append(desc_value)\n",
    "feature_matrix_test['NumHeteroatoms'] = descripted_X_test"
   ]
  },
  {
   "cell_type": "markdown",
   "id": "68191f5e",
   "metadata": {},
   "source": [
    "# descriptor 12: RingCount\n",
    "descripted_X_test = []\n",
    "for molecule in X_test:\n",
    "    mol = Chem.MolFromSmiles(molecule)\n",
    "    desc_value = rdkit.Chem.Descriptors.RingCount(mol)\n",
    "    descripted_X_test.append(desc_value)\n",
    "feature_matrix_test['RingCount'] = descripted_X_test"
   ]
  },
  {
   "cell_type": "markdown",
   "id": "d942c414",
   "metadata": {},
   "source": [
    "# descriptor 13: fr_C_S\n",
    "descripted_X_test = []\n",
    "for molecule in X_test:\n",
    "    mol = Chem.MolFromSmiles(molecule)\n",
    "    desc_value = rdkit.Chem.Descriptors.fr_C_S(mol)\n",
    "    descripted_X_test.append(desc_value)\n",
    "feature_matrix_test['fr_C_S'] = descripted_X_test"
   ]
  },
  {
   "cell_type": "markdown",
   "id": "369851df",
   "metadata": {},
   "source": [
    "# descriptor 14: fr_furan\n",
    "descripted_X_test = []\n",
    "for molecule in X_test:\n",
    "    mol = Chem.MolFromSmiles(molecule)\n",
    "    desc_value = rdkit.Chem.Descriptors.fr_furan(mol)\n",
    "    descripted_X_test.append(desc_value)\n",
    "feature_matrix_test['fr_furan'] = descripted_X_test\n",
    "print(feature_matrix_test)"
   ]
  },
  {
   "cell_type": "code",
   "execution_count": 386,
   "id": "7bcbcecb",
   "metadata": {},
   "outputs": [],
   "source": [
    "# descriptor 14: SlogP_VSA5\n",
    "descripted_X_test = []\n",
    "for molecule in X_test:\n",
    "    mol = Chem.MolFromSmiles(molecule)\n",
    "    desc_value = rdkit.Chem.Descriptors.SlogP_VSA5(mol)\n",
    "    descripted_X_test.append(desc_value)\n",
    "feature_matrix_test['SlogP_VSA5'] = descripted_X_test"
   ]
  },
  {
   "cell_type": "code",
   "execution_count": 387,
   "id": "39b5b72f",
   "metadata": {},
   "outputs": [],
   "source": [
    "# descriptor 14: VSA_EState8\n",
    "descripted_X_test = []\n",
    "for molecule in X_test:\n",
    "    mol = Chem.MolFromSmiles(molecule)\n",
    "    desc_value = rdkit.Chem.Descriptors.VSA_EState8(mol)\n",
    "    descripted_X_test.append(desc_value)\n",
    "feature_matrix_test['VSA_EState8'] = descripted_X_test"
   ]
  },
  {
   "cell_type": "code",
   "execution_count": 388,
   "id": "b3637b42",
   "metadata": {},
   "outputs": [
    {
     "name": "stdout",
     "output_type": "stream",
     "text": [
      "          qed    MolWt  MaxPartialCharge  MinPartialCharge  BCUT2D_CHGHI  \\\n",
      "0    0.780940  290.326          0.231922         -0.423472      2.126457   \n",
      "1    0.615716  374.467          0.321220         -0.504254      2.373385   \n",
      "2    0.638403  337.441          0.341930         -0.495813      2.184515   \n",
      "3    0.631480  337.377          0.349807         -0.549826      2.302886   \n",
      "4    0.636570  358.512          0.306092         -0.321739      2.339190   \n",
      "..        ...      ...               ...               ...           ...   \n",
      "395  0.511384  384.527          0.242623         -0.331110      2.292007   \n",
      "396  0.772246  265.342          0.253127         -0.348094      2.106467   \n",
      "397  0.828073  287.383          0.336197         -0.422683      2.193667   \n",
      "398  0.619848  261.325          0.292176         -0.371467      2.236901   \n",
      "399  0.807695  368.388          0.247923         -0.545464      2.171832   \n",
      "\n",
      "     BCUT2D_CHGLO  BCUT2D_LOGPHI  BCUT2D_MRHI  BalabanJ     BertzCT    Kappa2  \\\n",
      "0       -2.017940       2.192383     5.455782  1.729198  775.423554  6.547579   \n",
      "1       -2.059725       2.325866     8.180145  1.942996  860.027956  7.538921   \n",
      "2       -2.221384       2.254906     7.982147  1.872068  555.524391  8.815416   \n",
      "3       -2.272642       2.284406     7.172701  2.108473  652.292468  7.363431   \n",
      "4       -2.208534       2.290709     7.960452  1.957799  837.953696  6.826144   \n",
      "..            ...            ...          ...       ...         ...       ...   \n",
      "395     -2.196370       2.280622     7.887466  2.097745  756.643375  8.112563   \n",
      "396     -2.071785       2.149249     7.993350  2.204084  592.376252  4.931130   \n",
      "397     -2.293883       2.221397     5.838209  1.994039  712.537268  5.620306   \n",
      "398     -2.220697       2.348298     5.704075  1.956881  477.579463  5.071120   \n",
      "399     -2.370471       2.220402     6.016189  1.545012  826.555371  8.353432   \n",
      "\n",
      "     PEOE_VSA7   SMR_VSA1  SMR_VSA10  SlogP_VSA5  VSA_EState8  MolLogP  \n",
      "0    17.193270   4.417151   5.884182   22.711555     0.530248  3.14418  \n",
      "1    35.534091  19.630332  45.381081    5.563451     4.109043  1.72790  \n",
      "2    37.296514  19.062800  23.638370   42.462097    -0.261144  3.02280  \n",
      "3    26.689118  24.227002  34.314135   35.130993     3.596152  0.89902  \n",
      "4    49.410911   9.786942  40.727793   28.969628     5.902407  2.28834  \n",
      "..         ...        ...        ...         ...          ...      ...  \n",
      "395  49.679440  13.212334  38.948167   32.252569     6.262698  1.75312  \n",
      "396  19.913841   4.794537  23.446718   11.387856     3.874846  0.92144  \n",
      "397  38.088416   9.317061  10.969244   16.690354     9.522489  0.74014  \n",
      "398  37.816021   4.923311  17.062159   25.683286     4.003064  2.79520  \n",
      "399  54.606957  19.086017  28.938644    0.000000     3.324543  1.39690  \n",
      "\n",
      "[400 rows x 17 columns]\n"
     ]
    }
   ],
   "source": [
    "# descriptor 14: MolLogP\n",
    "descripted_X_test = []\n",
    "for molecule in X_test:\n",
    "    mol = Chem.MolFromSmiles(molecule)\n",
    "    desc_value = rdkit.Chem.Descriptors.MolLogP(mol)\n",
    "    descripted_X_test.append(desc_value)\n",
    "feature_matrix_test['MolLogP'] = descripted_X_test\n",
    "print(feature_matrix_test)"
   ]
  },
  {
   "cell_type": "code",
   "execution_count": 389,
   "id": "ad4250ff",
   "metadata": {},
   "outputs": [
    {
     "name": "stdout",
     "output_type": "stream",
     "text": [
      "['0' '1' '1' '1' '1' '0' '0' '0' '0' '0' '0' '1' '0' '0' '1' '1' '0' '0'\n",
      " '0' '0' '1' '0' '0' '0' '0' '0' '0' '0' '0' '0' '0' '1' '0' '1' '0' '0'\n",
      " '0' '0' '0' '0' '0' '0' '1' '0' '1' '0' '0' '0' '0' '0' '0' '0' '0' '0'\n",
      " '1' '0' '0' '1' '0' '0' '0' '0' '0' '0' '0' '1' '1' '1' '0' '1' '0' '0'\n",
      " '0' '0' '0' '0' '1' '0' '1' '0' '0' '0' '1' '1' '1' '0' '1' '0' '0' '0'\n",
      " '1' '0' '1' '0' '1' '0' '0' '0' '1' '1' '1' '0' '0' '0' '0' '0' '0' '0'\n",
      " '0' '1' '0' '0' '0' '0' '0' '0' '0' '0' '0' '0' '0' '1' '0' '1' '0' '1'\n",
      " '0' '0' '1' '1' '0' '0' '0' '1' '1' '0' '1' '0' '1' '1' '1' '0' '1' '1'\n",
      " '1' '0' '0' '0' '0' '0' '0' '0' '0' '0' '0' '0' '0' '1' '0' '0' '0' '0'\n",
      " '1' '1' '0' '0' '1' '0' '1' '0' '1' '0' '0' '0' '0' '0' '0' '0' '1' '0'\n",
      " '1' '1' '0' '0' '0' '0' '1' '0' '0' '0' '0' '0' '1' '0' '1' '1' '0' '0'\n",
      " '0' '0' '0' '0' '1' '0' '1' '0' '0' '0' '0' '0' '1' '1' '0' '0' '0' '0'\n",
      " '0' '0' '0' '0' '0' '0' '0' '0' '0' '0' '1' '1' '0' '0' '0' '1' '0' '1'\n",
      " '0' '0' '1' '0' '0' '0' '1' '1' '1' '1' '0' '0' '0' '0' '1' '0' '0' '1'\n",
      " '0' '0' '1' '0' '1' '0' '1' '0' '0' '1' '0' '0' '0' '1' '0' '0' '0' '0'\n",
      " '1' '0' '1' '0' '0' '0' '0' '0' '0' '0' '0' '0' '1' '1' '1' '0' '0' '0'\n",
      " '0' '0' '1' '0' '0' '0' '0' '1' '0' '0' '0' '0' '0' '0' '0' '1' '0' '0'\n",
      " '1' '0' '0' '0' '1' '0' '0' '0' '0' '0' '0' '0' '0' '0' '0' '0' '1' '1'\n",
      " '0' '1' '0' '0' '0' '0' '0' '0' '0' '0' '0' '1' '0' '1' '0' '0' '0' '0'\n",
      " '0' '0' '0' '0' '0' '0' '0' '0' '1' '0' '0' '1' '0' '1' '0' '1' '0' '0'\n",
      " '1' '0' '0' '1' '1' '0' '1' '0' '1' '0' '0' '0' '0' '0' '0' '0' '0' '0'\n",
      " '1' '0' '0' '0' '0' '0' '0' '1' '0' '0' '1' '0' '0' '1' '0' '0' '0' '1'\n",
      " '0' '0' '0' '1']\n",
      "True positive: 70\n",
      "True negative: 241\n",
      "False positive: 38\n",
      "False negative: 51\n"
     ]
    }
   ],
   "source": [
    "# Apply the random forest to your test matrix and compare the predictions with the correct labels.\n",
    "predictions = forest.predict(feature_matrix_test)\n",
    "print(predictions)\n",
    "TP = 0\n",
    "TN = 0\n",
    "FP = 0\n",
    "FN = 0\n",
    "i = 0\n",
    "\n",
    "for prediction in predictions:\n",
    "    if prediction == '0':\n",
    "        if test_correct_values[i] == '0':\n",
    "            TN += 1\n",
    "            i += 1\n",
    "        elif test_correct_values[i] == '1':\n",
    "            FN += 1\n",
    "            i += 1\n",
    "    elif prediction == '1':\n",
    "        if test_correct_values[i] == '0':\n",
    "            FP += 1\n",
    "            i += 1\n",
    "        elif test_correct_values[i] == '1':\n",
    "            TP += 1\n",
    "            i += 1\n",
    "print('True positive:', TP)\n",
    "print('True negative:', TN)\n",
    "print('False positive:', FP)\n",
    "print('False negative:', FN)"
   ]
  },
  {
   "cell_type": "code",
   "execution_count": 390,
   "id": "5da08145",
   "metadata": {},
   "outputs": [],
   "source": [
    "# Add your TP, TN, FP an FN values to the lists created earlier. Repeat the process 5 times.\n",
    "\n",
    "TP_list.append(TP)\n",
    "TN_list.append(TN)\n",
    "FP_list.append(FP)\n",
    "FN_list.append(FN)"
   ]
  },
  {
   "cell_type": "code",
   "execution_count": 391,
   "id": "27882146",
   "metadata": {},
   "outputs": [
    {
     "name": "stdout",
     "output_type": "stream",
     "text": [
      "[54, 68, 70, 71, 70]\n",
      "[260, 236, 232, 247, 241]\n",
      "[23, 38, 44, 27, 38]\n",
      "[63, 58, 54, 55, 51]\n"
     ]
    }
   ],
   "source": [
    "# Check if there are 5 numbers in each list.\n",
    "print(TP_list)\n",
    "print(TN_list)\n",
    "print(FP_list)\n",
    "print(FN_list)"
   ]
  },
  {
   "cell_type": "code",
   "execution_count": 392,
   "id": "5afc9430",
   "metadata": {},
   "outputs": [
    {
     "name": "stdout",
     "output_type": "stream",
     "text": [
      "66.6 243.2 34.0 56.2\n"
     ]
    }
   ],
   "source": [
    "# After repeating the code above 5 times, compute the average TP, TN, FP and FN values\n",
    "average_TP = sum(TP_list)/5 \n",
    "average_TN = sum(TN_list)/5\n",
    "average_FP = sum(FP_list)/5\n",
    "average_FN = sum(FN_list)/5\n",
    "print(average_TP, average_TN, average_FP, average_FN)"
   ]
  },
  {
   "cell_type": "code",
   "execution_count": 394,
   "id": "21490b62",
   "metadata": {},
   "outputs": [
    {
     "name": "stdout",
     "output_type": "stream",
     "text": [
      "average recall score over 5 iterations: 0.5423452768729642\n",
      "average precision score over 5 iterations: 0.6620278330019881\n",
      "average accuracy score over 5 iterations: 0.7744999999999999\n"
     ]
    }
   ],
   "source": [
    "# Calculate the performance metrics\n",
    "recall_score = average_TP / (average_TP + average_FN)\n",
    "precision_score = average_TP / (average_TP + average_FP)\n",
    "accuracy_score = (average_TP + average_TN) / 400 # TP + TN + FP + FN is always 200. === 400\n",
    "print('average recall score over 5 iterations:', recall_score)\n",
    "print('average precision score over 5 iterations:', precision_score)\n",
    "print('average accuracy score over 5 iterations:', accuracy_score)"
   ]
  },
  {
   "cell_type": "code",
   "execution_count": null,
   "id": "ea466c6d",
   "metadata": {},
   "outputs": [],
   "source": []
  }
 ],
 "metadata": {
  "kernelspec": {
   "display_name": "Python 3 (ipykernel)",
   "language": "python",
   "name": "python3"
  },
  "language_info": {
   "codemirror_mode": {
    "name": "ipython",
    "version": 3
   },
   "file_extension": ".py",
   "mimetype": "text/x-python",
   "name": "python",
   "nbconvert_exporter": "python",
   "pygments_lexer": "ipython3",
   "version": "3.9.13"
  }
 },
 "nbformat": 4,
 "nbformat_minor": 5
}
