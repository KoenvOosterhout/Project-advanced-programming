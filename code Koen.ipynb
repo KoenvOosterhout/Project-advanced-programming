{
 "cells": [
  {
   "cell_type": "code",
   "execution_count": 1,
   "id": "3728ea4f",
   "metadata": {},
   "outputs": [],
   "source": [
    "# Import the required libraries\n",
    "import pandas as pd\n",
    "import numpy as np\n",
    "import csv\n",
    "import sklearn.model_selection\n",
    "import sklearn.ensemble\n",
    "import rdkit.Chem.Descriptors\n",
    "from rdkit import Chem"
   ]
  },
  {
   "cell_type": "code",
   "execution_count": 2,
   "id": "8a0e7048",
   "metadata": {},
   "outputs": [],
   "source": [
    "# load the data into a dataframe\n",
    "DataFrame = pd.read_csv('tested_molecules-1.csv')"
   ]
  },
  {
   "cell_type": "code",
   "execution_count": 3,
   "id": "1a7abd72",
   "metadata": {},
   "outputs": [
    {
     "name": "stdout",
     "output_type": "stream",
     "text": [
      "887       CCN(c1cccc(C)c1)S(=O)(=O)c1ccc2c(c1)CCN2C(C)=O\n",
      "172      CC(C)c1ccc(/C=N/NC(=O)C(=O)NCCC[NH+]2CCOCC2)cc1\n",
      "75     CC(C)OC(=O)C[C@]12CN3C[NH+](C1)C[C@@](CC(=O)OC...\n",
      "647                   N#Cc1ccccc1Sc1ccccc1C(=O)Nc1ccccc1\n",
      "493                       CCC(C)(C)NC(=O)Nc1cc(Cl)ccc1OC\n",
      "                             ...                        \n",
      "830                    O=C(Nc1ccccc1N1CCCCC1)c1cccc(F)c1\n",
      "332                             Cc1nc(N)nc(COc2ccccc2)n1\n",
      "410                          CC1(C)CN(c2cccc(C#N)c2)C1=O\n",
      "0      COc1ccccc1CC(NC(C)=O)C(=O)NC1CCN(c2nnnn2-c2ccc...\n",
      "223    Cn1c(=O)n(C)c2cc(NS(=O)(=O)c3ccc(C(C)(C)C)cc3)...\n",
      "Name: SMILES, Length: 800, dtype: object\n",
      "887    0\n",
      "172    1\n",
      "75     1\n",
      "647    0\n",
      "493    0\n",
      "      ..\n",
      "830    0\n",
      "332    0\n",
      "410    0\n",
      "0      1\n",
      "223    1\n",
      "Name: ALDH1_inhibition, Length: 800, dtype: int64\n"
     ]
    }
   ],
   "source": [
    "# Randomly select 20% of the data to be the test set. The other 80% will be the training set.\n",
    "# Devide the training set into the molecules (X) and the labels (y). \n",
    "Train, Test = sklearn.model_selection.train_test_split(DataFrame, test_size = 0.2)\n",
    "X = Train['SMILES']\n",
    "y = Train['ALDH1_inhibition']\n",
    "print(X)\n",
    "print(y)"
   ]
  },
  {
   "cell_type": "code",
   "execution_count": 4,
   "id": "35df8e74",
   "metadata": {},
   "outputs": [
    {
     "name": "stdout",
     "output_type": "stream",
     "text": [
      "     MaxAbsPartialCharge  MinAbsPartialCharge\n",
      "0               0.312060             0.263818\n",
      "1               0.369753             0.328837\n",
      "2               0.462925             0.306844\n",
      "3               0.321963             0.256310\n",
      "4               0.494577             0.319256\n",
      "..                   ...                  ...\n",
      "795             0.369860             0.255323\n",
      "796             0.485614             0.223136\n",
      "797             0.310804             0.233977\n",
      "798             0.496477             0.249868\n",
      "799             0.328070             0.294998\n",
      "\n",
      "[800 rows x 2 columns]\n"
     ]
    }
   ],
   "source": [
    "# Create a matrix and add the descriptors for the training set.\n",
    "feature_matrix_train = pd.DataFrame()\n",
    "descripted_X = []\n",
    "for molecule in X:\n",
    "    mol = rdkit.Chem.MolFromSmiles(molecule)\n",
    "    desc_value = rdkit.Chem.Descriptors.MaxAbsPartialCharge(mol)\n",
    "    descripted_X.append(desc_value)\n",
    "feature_matrix_train['MaxAbsPartialCharge'] = descripted_X\n",
    "\n",
    "descripted_X = []\n",
    "for molecule in X:\n",
    "    mol = Chem.MolFromSmiles(molecule)\n",
    "    desc_value = rdkit.Chem.Descriptors.MinAbsPartialCharge(mol)\n",
    "    descripted_X.append(desc_value)\n",
    "feature_matrix_train['MinAbsPartialCharge'] = descripted_X\n",
    "print(feature_matrix_train)"
   ]
  },
  {
   "cell_type": "code",
   "execution_count": 6,
   "id": "79b2be84",
   "metadata": {},
   "outputs": [],
   "source": [
    "# Train a random forest using the feature matrix and the labels.\n",
    "forest = sklearn.ensemble.RandomForestClassifier()\n",
    "predictor = forest.fit(feature_matrix_train, y)"
   ]
  },
  {
   "cell_type": "code",
   "execution_count": 7,
   "id": "d050f67c",
   "metadata": {},
   "outputs": [
    {
     "name": "stdout",
     "output_type": "stream",
     "text": [
      "[0, 1, 0, 1, 1, 0, 0, 1, 0, 0, 0, 1, 0, 0, 0, 0, 1, 0, 1, 0, 1, 1, 0, 0, 0, 0, 0, 1, 1, 0, 1, 1, 0, 0, 0, 0, 0, 0, 0, 1, 0, 1, 0, 0, 0, 1, 0, 0, 0, 0, 0, 1, 0, 0, 0, 0, 1, 1, 0, 1, 0, 0, 0, 1, 0, 1, 0, 0, 1, 0, 1, 0, 1, 1, 0, 1, 0, 0, 0, 0, 0, 0, 1, 1, 0, 0, 0, 1, 1, 1, 0, 0, 0, 0, 1, 1, 0, 1, 0, 0, 1, 0, 0, 0, 0, 0, 0, 1, 1, 0, 0, 0, 1, 0, 0, 0, 1, 0, 0, 0, 0, 0, 1, 0, 1, 1, 0, 0, 1, 0, 0, 0, 0, 0, 0, 1, 1, 0, 0, 0, 0, 0, 0, 1, 1, 0, 0, 0, 1, 0, 1, 1, 1, 0, 0, 0, 0, 1, 1, 0, 0, 0, 0, 0, 1, 1, 1, 0, 0, 1, 1, 1, 0, 0, 1, 0, 1, 0, 1, 0, 1, 0, 0, 0, 1, 0, 0, 1, 0, 0, 0, 0, 1, 0, 0, 0, 1, 0, 0, 0]\n"
     ]
    }
   ],
   "source": [
    "# Store the correct labels for the test set in an array.\n",
    "y_test = Test['ALDH1_inhibition']\n",
    "test_correct_values = []\n",
    "for y in y_test:\n",
    "    test_correct_values.append(y)\n",
    "print(test_correct_values)"
   ]
  },
  {
   "cell_type": "code",
   "execution_count": 8,
   "id": "de56a079",
   "metadata": {},
   "outputs": [
    {
     "name": "stdout",
     "output_type": "stream",
     "text": [
      "     MaxAbsPartialCharge  MinAbsPartialCharge\n",
      "0               0.507967             0.130266\n",
      "1               0.397811             0.323515\n",
      "2               0.507966             0.281549\n",
      "3               0.293174             0.265672\n",
      "4               0.742162             0.415988\n",
      "..                   ...                  ...\n",
      "195             0.316213             0.144016\n",
      "196             0.507243             0.454165\n",
      "197             0.345008             0.321447\n",
      "198             0.488917             0.162102\n",
      "199             0.454828             0.289185\n",
      "\n",
      "[200 rows x 2 columns]\n"
     ]
    }
   ],
   "source": [
    "# Create a matrix and add the descriptors for the test set.\n",
    "feature_matrix_test = pd.DataFrame()\n",
    "X_test = Test['SMILES']\n",
    "descripted_X_test = []\n",
    "for molecule in X_test:\n",
    "    mol = rdkit.Chem.MolFromSmiles(molecule)\n",
    "    desc_value = rdkit.Chem.Descriptors.MaxAbsPartialCharge(mol)\n",
    "    descripted_X_test.append(desc_value)\n",
    "feature_matrix_test['MaxAbsPartialCharge'] = descripted_X_test\n",
    "\n",
    "descripted_X_test = []\n",
    "for molecule in X_test:\n",
    "    mol = Chem.MolFromSmiles(molecule)\n",
    "    desc_value = rdkit.Chem.Descriptors.MinAbsPartialCharge(mol)\n",
    "    descripted_X_test.append(desc_value)\n",
    "feature_matrix_test['MinAbsPartialCharge'] = descripted_X_test\n",
    "print(feature_matrix_test)"
   ]
  },
  {
   "cell_type": "code",
   "execution_count": 11,
   "id": "a89912c9",
   "metadata": {},
   "outputs": [
    {
     "name": "stdout",
     "output_type": "stream",
     "text": [
      "[0 0 0 0 0 0 0 0 0 0 0 0 0 0 0 0 0 0 1 0 0 0 1 1 0 0 0 0 0 0 0 0 0 0 0 1 0\n",
      " 0 0 0 0 0 1 1 0 0 1 0 1 0 0 0 1 1 0 1 0 1 0 0 0 1 0 0 0 0 0 0 0 0 0 0 0 0\n",
      " 0 1 0 0 0 0 1 0 1 0 0 0 1 1 0 0 0 0 0 0 0 1 1 1 0 0 0 1 0 0 0 1 0 0 0 0 0\n",
      " 0 0 0 1 0 0 0 0 0 0 0 0 0 0 1 1 0 1 0 0 0 0 0 0 1 1 0 0 0 0 0 0 0 0 0 0 0\n",
      " 0 0 1 0 0 0 0 1 0 1 0 0 0 0 1 0 0 0 0 0 0 0 0 0 0 0 0 0 0 0 0 0 0 0 0 1 1\n",
      " 1 0 0 1 0 0 0 1 1 0 0 0 1 0 0]\n",
      "[0, 1, 0, 1, 1, 0, 0, 1, 0, 0, 0, 1, 0, 0, 0, 0, 1, 0, 1, 0, 1, 1, 0, 0, 0, 0, 0, 1, 1, 0, 1, 1, 0, 0, 0, 0, 0, 0, 0, 1, 0, 1, 0, 0, 0, 1, 0, 0, 0, 0, 0, 1, 0, 0, 0, 0, 1, 1, 0, 1, 0, 0, 0, 1, 0, 1, 0, 0, 1, 0, 1, 0, 1, 1, 0, 1, 0, 0, 0, 0, 0, 0, 1, 1, 0, 0, 0, 1, 1, 1, 0, 0, 0, 0, 1, 1, 0, 1, 0, 0, 1, 0, 0, 0, 0, 0, 0, 1, 1, 0, 0, 0, 1, 0, 0, 0, 1, 0, 0, 0, 0, 0, 1, 0, 1, 1, 0, 0, 1, 0, 0, 0, 0, 0, 0, 1, 1, 0, 0, 0, 0, 0, 0, 1, 1, 0, 0, 0, 1, 0, 1, 1, 1, 0, 0, 0, 0, 1, 1, 0, 0, 0, 0, 0, 1, 1, 1, 0, 0, 1, 1, 1, 0, 0, 1, 0, 1, 0, 1, 0, 1, 0, 0, 0, 1, 0, 0, 1, 0, 0, 0, 0, 1, 0, 0, 0, 1, 0, 0, 0]\n",
      "True positive: 15\n",
      "True negative: 107\n",
      "False positive: 25\n",
      "False negative: 53\n"
     ]
    }
   ],
   "source": [
    "# Apply the random forest to your test matrix and compare the predictions with the correct labels.\n",
    "predictions = forest.predict(feature_matrix_test)\n",
    "TP = 0\n",
    "TN = 0\n",
    "FP = 0\n",
    "FN = 0\n",
    "i = 0\n",
    "for prediction in predictions:\n",
    "    if prediction == 0:\n",
    "        if test_correct_values[i] == 0:\n",
    "            TN += 1\n",
    "            i += 1\n",
    "        elif test_correct_values[i] == 1:\n",
    "            FN += 1\n",
    "            i += 1\n",
    "    elif prediction == 1:\n",
    "        if test_correct_values[i] == 0:\n",
    "            FP += 1\n",
    "            i += 1\n",
    "        elif test_correct_values[i] == 1:\n",
    "            TP += 1\n",
    "            i += 1\n",
    "print('True positive:', TP)\n",
    "print('True negative:', TN)\n",
    "print('False positive:', FP)\n",
    "print('False negative:', FN)"
   ]
  },
  {
   "cell_type": "code",
   "execution_count": 42,
   "id": "72eb177f",
   "metadata": {},
   "outputs": [
    {
     "name": "stdout",
     "output_type": "stream",
     "text": [
      "run 1:\n",
      "True positive: 13\n",
      "True negative: 118\n",
      "False positive: 23\n",
      "False negative: 46\n"
     ]
    }
   ],
   "source": [
    "# run after first iteration\n",
    "print('run 1:')\n",
    "print('True positive:', TP)\n",
    "print('True negative:', TN)\n",
    "print('False positive:', FP)\n",
    "print('False negative:', FN)"
   ]
  },
  {
   "cell_type": "code",
   "execution_count": 51,
   "id": "11e90714",
   "metadata": {},
   "outputs": [
    {
     "name": "stdout",
     "output_type": "stream",
     "text": [
      "run 2:\n",
      "True positive: 17\n",
      "True negative: 103\n",
      "False positive: 39\n",
      "False negative: 41\n"
     ]
    }
   ],
   "source": [
    "# run after second iteration\n",
    "print('run 2:')\n",
    "print('True positive:', TP)\n",
    "print('True negative:', TN)\n",
    "print('False positive:', FP)\n",
    "print('False negative:', FN)"
   ]
  },
  {
   "cell_type": "code",
   "execution_count": null,
   "id": "358e2db8",
   "metadata": {},
   "outputs": [],
   "source": [
    "# run after third iteration\n",
    "print('run 3:')\n",
    "print('True positive:', TP)\n",
    "print('True negative:', TN)\n",
    "print('False positive:', FP)\n",
    "print('False negative:', FN)"
   ]
  },
  {
   "cell_type": "code",
   "execution_count": null,
   "id": "17b8c12a",
   "metadata": {},
   "outputs": [],
   "source": [
    "# run after fourth iteration\n",
    "print('run 4:')\n",
    "print('True positive:', TP)\n",
    "print('True negative:', TN)\n",
    "print('False positive:', FP)\n",
    "print('False negative:', FN)"
   ]
  },
  {
   "cell_type": "code",
   "execution_count": null,
   "id": "86f3b863",
   "metadata": {},
   "outputs": [],
   "source": [
    "# run after fifth iteration\n",
    "print('run 5:')\n",
    "print('True positive:', TP)\n",
    "print('True negative:', TN)\n",
    "print('False positive:', FP)\n",
    "print('False negative:', FN)"
   ]
  }
 ],
 "metadata": {
  "kernelspec": {
   "display_name": "Python 3 (ipykernel)",
   "language": "python",
   "name": "python3"
  },
  "language_info": {
   "codemirror_mode": {
    "name": "ipython",
    "version": 3
   },
   "file_extension": ".py",
   "mimetype": "text/x-python",
   "name": "python",
   "nbconvert_exporter": "python",
   "pygments_lexer": "ipython3",
   "version": "3.9.7"
  }
 },
 "nbformat": 4,
 "nbformat_minor": 5
}
