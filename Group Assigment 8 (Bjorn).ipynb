{
 "cells": [
  {
   "cell_type": "markdown",
   "id": "f5ea5daf",
   "metadata": {},
   "source": [
    "# Group Assignment \n",
    "\n",
    "Analysis of the known SMILES"
   ]
  },
  {
   "cell_type": "code",
   "execution_count": 4,
   "id": "f828e14c",
   "metadata": {},
   "outputs": [],
   "source": [
    "# Import packages \n",
    "import pandas as pd\n",
    "import seaborn as sns\n",
    "import numpy as np\n",
    "import rdkit\n",
    "from rdkit import Chem\n",
    "from rdkit.Chem import AllChem\n",
    "from rdkit.Chem import Descriptors\n",
    "#from rdkit.Chem import Draw\n",
    "#from rdkit.Chem.Draw import IPythonConsole\n",
    "\n",
    "import matplotlib.pyplot as plt\n",
    "from sklearn.preprocessing import MinMaxScaler\n",
    "from sklearn.decomposition import PCA\n",
    "from sklearn import datasets\n",
    "from sklearn.model_selection import train_test_split\n",
    "from sklearn.tree import DecisionTreeClassifier\n",
    "from sklearn.metrics import accuracy_score\n"
   ]
  },
  {
   "cell_type": "markdown",
   "id": "e5b41315",
   "metadata": {},
   "source": [
    "## Preprocessing"
   ]
  },
  {
   "cell_type": "code",
   "execution_count": 2,
   "id": "82241eac",
   "metadata": {
    "scrolled": true
   },
   "outputs": [],
   "source": [
    "# Read file\n",
    "original_df = pd.read_csv('tested_molecules_1.csv')\n",
    "\n",
    "# Split the column\n",
    "original_df[['SMILES', 'ALDH1_inhibition']] = original_df['SMILES,\"ALDH1_inhibition\"'].str.split(',', expand=True)\n",
    "original_df.drop('SMILES,\"ALDH1_inhibition\"', axis=1, inplace=True)\n",
    "\n",
    "original_df['ALDH1_inhibition'] = original_df['ALDH1_inhibition'].str.strip('\"')\n",
    "\n",
    "all_descriptors = [desc[0] for desc in Descriptors.descList]\n",
    "\n",
    "descriptor_data = []\n",
    "for i, row in original_df.iterrows():\n",
    "    mol = Chem.MolFromSmiles(row['SMILES'])\n",
    "    descriptor_values = [getattr(Descriptors, descriptor)(mol) for descriptor in all_descriptors]\n",
    "    descriptor_data.append(descriptor_values)\n",
    "\n",
    "descriptor_df = pd.DataFrame(descriptor_data, columns=all_descriptors)\n",
    "original_df = pd.concat([original_df, descriptor_df], axis=1)\n",
    "\n",
    "df = original_df.copy()\n",
    "\n",
    "# The same needs to be done for the test_data\n",
    "\n",
    "original_df_test = pd.read_csv('tested_molecules_2.csv')\n",
    "\n",
    "original_df_test[['SMILES', 'ALDH1_inhibition']] = original_df_test['SMILES;ALDH1_inhibition'].str.split(';', expand=True)\n",
    "original_df_test.drop('SMILES;ALDH1_inhibition', axis=1, inplace=True)\n",
    "\n",
    "#original_df_test['ALDH1_inhibition'] = original_df['ALDH1_inhibition'].str.strip('\"')\n",
    "X_test_data = original_df_test.copy()\n"
   ]
  },
  {
   "cell_type": "markdown",
   "id": "74d5469d",
   "metadata": {},
   "source": [
    "### Adding descriptors"
   ]
  },
  {
   "cell_type": "code",
   "execution_count": 3,
   "id": "9f95157f",
   "metadata": {},
   "outputs": [],
   "source": [
    "# Get all available descriptors\n",
    "all_descriptors = [desc[0] for desc in Descriptors.descList]\n",
    "\n",
    "# Print all descriptors\n",
    "for descriptor in all_descriptors:\n",
    "    print(descriptor)"
   ]
  },
  {
   "cell_type": "code",
   "execution_count": 4,
   "id": "5ef4eb17",
   "metadata": {},
   "outputs": [],
   "source": [
    "df.head()  # waarom maar 5 rijen?  Pakt wel 209 PCs dus denk dat het goed gaat. "
   ]
  },
  {
   "cell_type": "code",
   "execution_count": 5,
   "id": "a989639d",
   "metadata": {},
   "outputs": [],
   "source": [
    "df_variables = df.drop(columns=[\"SMILES\", \"ALDH1_inhibition\"])\n",
    "df_variables"
   ]
  },
  {
   "cell_type": "markdown",
   "id": "1f36c339",
   "metadata": {},
   "source": [
    "### Find correlation\n",
    "\n",
    "MaxAbsEStateIndex == MaxEStateINdex is removed \n"
   ]
  },
  {
   "cell_type": "code",
   "execution_count": 6,
   "id": "dec2a052",
   "metadata": {},
   "outputs": [],
   "source": [
    "#correlation = df_variables.corr()                            # Calculate correlation\n",
    "\n",
    "### Te veel variabelen om er een mooi figuur van te maken\n",
    "#sns.set (rc = {'figure.figsize':(9, 8)})                     # Set size of figure\n",
    "##sns.heatmap(correlation, cmap=\"Blues\", annot=True)           # Making heatmap\n",
    "#plt.title('Correlation analysis', fontsize=15);   "
   ]
  },
  {
   "cell_type": "code",
   "execution_count": 7,
   "id": "62fa026a",
   "metadata": {},
   "outputs": [],
   "source": [
    "correlation = df_variables.corr()                            # Calculate correlation\n",
    "f = plt.figure(figsize=(19, 15))\n",
    "plt.matshow(correlation, fignum=f.number)          \n",
    "\n",
    "# choose axes range\n",
    "plt.xticks(range(df_variables.select_dtypes(['number']).shape[1]), df.select_dtypes(['number']).columns, fontsize=14, rotation=45)\n",
    "plt.yticks(range(df_variables.select_dtypes(['number']).shape[1]), df.select_dtypes(['number']).columns, fontsize=14)\n",
    "\n",
    "cb = plt.colorbar()  \n",
    "cb.ax.tick_params(labelsize=14)\n",
    "plt.title('Correlation Matrix', fontsize=20);"
   ]
  },
  {
   "cell_type": "code",
   "execution_count": 8,
   "id": "0e15357c",
   "metadata": {},
   "outputs": [],
   "source": [
    "new_df_variables = df_variables.copy()\n",
    "corr_matrix = new_df_variables.corr().abs()\n",
    "corr_matrix\n",
    "mask = np.triu(np.ones(corr_matrix.shape, dtype=bool), k=1)\n",
    "mask\n",
    "\n",
    "# Select upper triangle of correlation matrix using the boolean mask\n",
    "upper = corr_matrix.where(mask)\n",
    "\n",
    "# Find index of columns with correlation greater than 0.95\n",
    "to_drop = [column for column in upper.columns if any(upper[column] > 0.90)]\n",
    "\n",
    "# Drop the columns\n",
    "new_df_variables.drop(columns=to_drop, inplace=True)\n",
    "new_df_variables\n",
    "\n"
   ]
  },
  {
   "cell_type": "code",
   "execution_count": 9,
   "id": "2a24ad75",
   "metadata": {},
   "outputs": [],
   "source": [
    "df_for_stv = new_df_variables.copy()\n",
    "# Calculate the standard deviation for each column\n",
    "std_dev = df_for_stv.std()\n",
    "threshold = 0.0\n",
    "\n",
    "columns_to_drop = std_dev[std_dev < threshold].index\n",
    "\n",
    "# Drop the columns with zero standard deviation from df_variables\n",
    "df_for_stv.drop(columns=columns_to_drop, inplace=True)\n",
    "df_for_stv"
   ]
  },
  {
   "cell_type": "code",
   "execution_count": 10,
   "id": "34b66ff6",
   "metadata": {},
   "outputs": [],
   "source": [
    "from sklearn.feature_selection import SelectKBest, f_classif\n",
    "k = 15\n",
    "selector = SelectKBest(score_func=f_classif, k=k)\n",
    "X_selected = selector.fit_transform(df_for_stv, df[\"ALDH1_inhibition\"])\n",
    "selected_feature_indices = selector.get_support(indices=True)\n",
    "selected_feature_names = df_for_stv.columns[selected_feature_indices]\n",
    "df_selected = df_for_stv[selected_feature_names]\n",
    "\n",
    "df_selected\n",
    "feature_scores = selector.scores_\n",
    "feature_scores_df = pd.DataFrame({'Feature': df_for_stv.columns, 'Score': feature_scores})\n",
    "feature_scores_df = feature_scores_df.sort_values('Score', ascending=False)\n",
    "print(feature_scores_df.head(k))"
   ]
  },
  {
   "cell_type": "code",
   "execution_count": 11,
   "id": "ce92ed50",
   "metadata": {},
   "outputs": [],
   "source": [
    "correlation = df_selected.corr()                            # Calculate correlation\n",
    "f = plt.figure(figsize=(19, 15))\n",
    "plt.matshow(correlation, fignum=f.number)          \n",
    "\n",
    "# choose axes range\n",
    "plt.xticks(range(df_selected.select_dtypes(['number']).shape[1]), df_selected.select_dtypes(['number']).columns, fontsize=14, rotation=45)\n",
    "plt.yticks(range(df_selected.select_dtypes(['number']).shape[1]), df_selected.select_dtypes(['number']).columns, fontsize=14)\n",
    "\n",
    "cb = plt.colorbar()  \n",
    "cb.ax.tick_params(labelsize=14)\n",
    "plt.title('Correlation Matrix', fontsize=20);"
   ]
  },
  {
   "cell_type": "markdown",
   "id": "5a05e9fb",
   "metadata": {},
   "source": [
    "### Check missing values \n"
   ]
  },
  {
   "cell_type": "code",
   "execution_count": 12,
   "id": "2bd78ef1",
   "metadata": {},
   "outputs": [],
   "source": [
    "missing_values = df_selected.isna().sum().sum()     \n",
    "if missing_values > 0: \n",
    "   print('Remove missing values')\n",
    "else: \n",
    "   print('No missing_values')"
   ]
  },
  {
   "cell_type": "markdown",
   "id": "7afc72ca",
   "metadata": {},
   "source": [
    "### Check duplicates"
   ]
  },
  {
   "cell_type": "code",
   "execution_count": 13,
   "id": "a4bb5460",
   "metadata": {},
   "outputs": [],
   "source": [
    "check_duplicate = df_selected.duplicated()\n",
    "if check_duplicate.any():\n",
    "    print(\"Duplicates exist in the DataFrame.\")\n",
    "else:\n",
    "    print(\"All GOOD!\")"
   ]
  },
  {
   "cell_type": "markdown",
   "id": "e69618fe",
   "metadata": {},
   "source": [
    "## Principal Component Analysis (PCA)"
   ]
  },
  {
   "cell_type": "code",
   "execution_count": 14,
   "id": "e89ab750",
   "metadata": {},
   "outputs": [],
   "source": [
    "# Scaling the data \n",
    "df_copied = df_selected.copy()\n",
    "scaler = MinMaxScaler()\n",
    "df_scaled = scaler.fit_transform(df_copied)"
   ]
  },
  {
   "cell_type": "code",
   "execution_count": 15,
   "id": "87f5f4f6",
   "metadata": {},
   "outputs": [],
   "source": [
    "# Create principal components\n",
    "pca = PCA()\n",
    "df_pca = pca.fit_transform(df_scaled)\n",
    "\n",
    "# Convert to dataframe\n",
    "component_names = [f\"PC{i+1}\" for i in range(df_pca.shape[1])]\n",
    "df_pca_converted = pd.DataFrame(df_pca, columns=component_names)\n",
    "\n",
    "df_pca_converted.head()"
   ]
  },
  {
   "cell_type": "code",
   "execution_count": 16,
   "id": "7e306ac0",
   "metadata": {},
   "outputs": [],
   "source": [
    "# Explained variance\n",
    "evr = pca.explained_variance_ratio_\n",
    "print(evr*100)\n",
    "    \n",
    "# Cumaltive Variance\n",
    "cv = np.cumsum(evr)\n",
    "print(cv)                                # NEED 46 Principal components for 90% , 11 for 60% "
   ]
  },
  {
   "cell_type": "code",
   "execution_count": 17,
   "id": "8cd340e5",
   "metadata": {},
   "outputs": [],
   "source": [
    "# Create figure\n",
    "fig, axs = plt.subplots(1, 2)\n",
    "n = pca.n_components_\n",
    "grid = np.arange(1, n + 1)\n",
    "\n",
    "# Explained variance\n",
    "axs[0].bar(grid, evr)\n",
    "axs[0].set(\n",
    "    xlabel=\"Component\", title=\"% Explained Variance\", ylim=(0.0, 1.0)\n",
    ")\n",
    "\n",
    "# Cumulative Variance\n",
    "axs[1].plot(np.r_[0, grid], np.r_[0, cv], \"o-\")\n",
    "axs[1].plot([0, n], [0.9, 0.9], color='k', linestyle='-', linewidth=2)\n",
    "axs[1].set(\n",
    "    xlabel=\"Component\", title=\"% Cumulative Variance\", ylim=(0.0, 1.0)\n",
    ")\n",
    "        \n",
    "# Set up figure\n",
    "fig.set(figwidth=8, dpi=100);"
   ]
  },
  {
   "cell_type": "code",
   "execution_count": 18,
   "id": "d792d6ba",
   "metadata": {},
   "outputs": [],
   "source": [
    "# Summery figure explained and cumulative variance\n",
    "plt.bar(range(1,len(evr)+1), evr, alpha=0.5, align='center', label='Individual explained variance ')    # explained variance\n",
    "plt.step(range(1,len(cv)+1), cv, where='mid',label='Cumulative explained variance ')       # Cumulative explained variance\n",
    "\n",
    "plt.xlabel('Principal components (PCs)')\n",
    "plt.ylabel('variance')\n",
    "plt.title('Expained and cumulative variance for each principal component', fontsize=15)\n",
    "\n",
    "plt.legend(loc='best')\n",
    "plt.tight_layout()\n",
    "plt.show()"
   ]
  },
  {
   "cell_type": "code",
   "execution_count": 19,
   "id": "32ecb463",
   "metadata": {},
   "outputs": [],
   "source": [
    "#X_test = X_test_data['SMILES']\n",
    "selected_descriptors = [desc for desc in all_descriptors if desc in df_selected.columns]\n",
    "descriptor_data = []\n",
    "for i, row in X_test_data.iterrows():\n",
    "    mol = Chem.MolFromSmiles(row['SMILES'])\n",
    "    descriptor_values = [getattr(Descriptors, descriptor)(mol) for descriptor in selected_descriptors]\n",
    "    descriptor_data.append(descriptor_values)\n",
    "\n",
    "descriptor_df = pd.DataFrame(descriptor_data, columns=selected_descriptors)\n",
    "X_test_all_columns = pd.concat([X_test_data, descriptor_df], axis=1)\n",
    "\n",
    "\n",
    "\n",
    "X_test = X_test_all_columns.drop(columns=[\"SMILES\", \"ALDH1_inhibition\"])\n",
    "y_test = X_test_data['ALDH1_inhibition']\n",
    "X_train = df_pca\n",
    "y_train = original_df['ALDH1_inhibition']\n",
    "\n",
    "tree = DecisionTreeClassifier()\n",
    "tree.fit(X_train, y_train)\n",
    "y_pred = tree.predict(X_test)\n",
    "\n",
    "accuracy = accuracy_score(y_test, y_pred)\n",
    "print(\"Accuracy:\", accuracy)"
   ]
  },
  {
   "cell_type": "markdown",
   "id": "bbadb992",
   "metadata": {},
   "source": [
    "### Loadings"
   ]
  },
  {
   "cell_type": "code",
   "execution_count": 20,
   "id": "e0f4897f",
   "metadata": {
    "scrolled": true
   },
   "outputs": [],
   "source": [
    "loadings = pd.DataFrame(\n",
    "   pca.components_.T,                     # transpose the pca matrix \n",
    "   columns=component_names,               # so the columns are the principal components\n",
    "   index=df_selected.columns,                      # and the rows are the original features\n",
    ")\n",
    "loadings      "
   ]
  },
  {
   "cell_type": "code",
   "execution_count": 21,
   "id": "78a3c9a5",
   "metadata": {},
   "outputs": [],
   "source": [
    "def plot_loadings(PC_1, PC_2):\n",
    "    labels = loadings.index\n",
    "    sns.set_style('white')\n",
    "    sns.scatterplot(data=loadings, x=PC_1, y=PC_2, hue=labels, palette = 'Paired')\n",
    "\n",
    "    plt.axhline(y=0, color='gray', linestyle='dotted')    \n",
    "    plt.axvline(x=0, color='gray', linestyle='dotted')\n",
    "    plt.axline((-0.2, -0.2), slope = 1,color ='r', linestyle = 'dotted')\n",
    "\n",
    "    plt.legend(ncol =5, title = 'Variables', loc='center left', bbox_to_anchor=(1.0, 0.5))"
   ]
  },
  {
   "cell_type": "code",
   "execution_count": 22,
   "id": "6a38183d",
   "metadata": {},
   "outputs": [],
   "source": [
    "plot_loadings(PC_1 ='PC1', PC_2= 'PC2')               # IS ZO NIETS ZICHTBAAR< Worden te veel variabelen meegenomen. \n",
    "\n",
    "plt.xlabel('Loadings on PC1 (EV = 45.01 %)')\n",
    "plt.ylabel('Loadings on PC2 (EV = 21.57 %)')\n",
    "plt.title('Loadings principal components 1 and 2', fontsize = 15)"
   ]
  },
  {
   "cell_type": "markdown",
   "id": "fee0a281",
   "metadata": {},
   "source": [
    "### Score plots "
   ]
  },
  {
   "cell_type": "code",
   "execution_count": 23,
   "id": "15df0c86",
   "metadata": {},
   "outputs": [],
   "source": [
    "def plot_scores(label,PC_1, PC_2):\n",
    "    labels = original_df[label]\n",
    "    sns.set_style('white')\n",
    "    sns.scatterplot(x=df_pca[:, PC_1], y=df_pca[:, PC_2], hue=labels, palette= 'bright')\n",
    "\n",
    "    plt.axhline(y=0, color='gray', linestyle='dotted')    \n",
    "    plt.axvline(x=0, color='gray', linestyle='dotted')\n",
    "\n",
    "    plt.legend(loc= 'best', ncol =2, title = label)"
   ]
  },
  {
   "cell_type": "code",
   "execution_count": 24,
   "id": "3e5c3d7e",
   "metadata": {},
   "outputs": [],
   "source": [
    "print(df_pca)"
   ]
  },
  {
   "cell_type": "code",
   "execution_count": 25,
   "id": "0ee1c657",
   "metadata": {},
   "outputs": [],
   "source": [
    "plot_scores(label= 'ALDH1_inhibition', PC_1= 0 , PC_2 = 1)\n",
    "\n",
    "plt.xlabel('Scores on PC1 (EV = 19.79 %)')\n",
    "plt.ylabel('Scores on PC2 (EV = 7.78 %)')\n",
    "plt.title('Scores separated by ALDH1 inhibition', fontsize=15)"
   ]
  },
  {
   "cell_type": "code",
   "execution_count": 26,
   "id": "056b047d",
   "metadata": {},
   "outputs": [],
   "source": [
    "plot_scores(label= 'ALDH1_inhibition', PC_1= 2 , PC_2 = 3)\n",
    "\n",
    "plt.xlabel('Scores on PC3 (EV = 5.95 %)')\n",
    "plt.ylabel('Scores on PC4 (EV = 5.18 %)')\n",
    "plt.title('Scores separated by ALDH1 inhibition', fontsize=15)"
   ]
  },
  {
   "cell_type": "code",
   "execution_count": 27,
   "id": "b6b0f0f5",
   "metadata": {},
   "outputs": [],
   "source": [
    "plot_scores(label= 'ALDH1_inhibition', PC_1= 4 , PC_2 = 5)\n",
    "\n",
    "plt.xlabel('Scores on PC5 (EV = 4.07 %)')\n",
    "plt.ylabel('Scores on PC6 (EV = 3.60 %)')\n",
    "plt.title('Scores separated by ALDH1 inhibition', fontsize=15)"
   ]
  },
  {
   "cell_type": "code",
   "execution_count": 28,
   "id": "7cec62ec",
   "metadata": {},
   "outputs": [],
   "source": [
    "plot_scores(label= 'ALDH1_inhibition', PC_1= 6 , PC_2 = 7)\n",
    "\n",
    "plt.xlabel('Scores on PC7 (EV = 3.31 %)')\n",
    "plt.ylabel('Scores on PC8 (EV = 2.78 %)')\n",
    "plt.title('Scores separated by ALDH1 inhibition', fontsize=15)"
   ]
  },
  {
   "cell_type": "code",
   "execution_count": 29,
   "id": "686990c0",
   "metadata": {},
   "outputs": [],
   "source": [
    "plot_scores(label= 'ALDH1_inhibition', PC_1= 8 , PC_2 = 9)\n",
    "\n",
    "plt.xlabel('Scores on PC9 (EV = 2.55 %)')\n",
    "plt.ylabel('Scores on PC10 (EV = 2.23 %)')\n",
    "plt.title('Scores separated by ALDH1 inhibition', fontsize=15)"
   ]
  },
  {
   "cell_type": "code",
   "execution_count": 30,
   "id": "1138df22",
   "metadata": {},
   "outputs": [],
   "source": [
    "plot_scores(label= 'ALDH1_inhibition', PC_1= 0 , PC_2 = 10)\n",
    "\n",
    "plt.xlabel('Scores on PC1 (EV = 19.79 %)')\n",
    "plt.ylabel('Scores on PC10 (EV = 1.98 %)')\n",
    "plt.title('Scores separated by ALDH1 inhibition', fontsize=15)"
   ]
  },
  {
   "cell_type": "code",
   "execution_count": null,
   "id": "c27d8bdf",
   "metadata": {},
   "outputs": [],
   "source": []
  },
  {
   "cell_type": "code",
   "execution_count": null,
   "id": "db3d2083",
   "metadata": {},
   "outputs": [],
   "source": []
  },
  {
   "cell_type": "code",
   "execution_count": null,
   "id": "f110772b",
   "metadata": {},
   "outputs": [],
   "source": []
  }
 ],
 "metadata": {
  "kernelspec": {
   "display_name": "Python 3 (ipykernel)",
   "language": "python",
   "name": "python3"
  },
  "language_info": {
   "codemirror_mode": {
    "name": "ipython",
    "version": 3
   },
   "file_extension": ".py",
   "mimetype": "text/x-python",
   "name": "python",
   "nbconvert_exporter": "python",
   "pygments_lexer": "ipython3",
   "version": "3.11.4"
  }
 },
 "nbformat": 4,
 "nbformat_minor": 5
}
