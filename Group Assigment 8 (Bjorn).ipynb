{
 "cells": [
  {
   "cell_type": "markdown",
   "id": "f5ea5daf",
   "metadata": {},
   "source": [
    "# Group Assignment       \n",
    " \n",
    "Analysis of the known SMILES"
   ]
  },
  {
   "cell_type": "code",
   "execution_count": 2,
   "id": "356851d8",
   "metadata": {},
   "outputs": [
    {
     "name": "stdout",
     "output_type": "stream",
     "text": [
      "Collecting package metadata (current_repodata.json): ...working... done\n",
      "Solving environment: ...working... unsuccessful initial attempt using frozen solve. Retrying with flexible solve.\n",
      "Solving environment: ...working... unsuccessful attempt using repodata from current_repodata.json, retrying with next repodata source.\n",
      "Collecting package metadata (repodata.json): ...working... done\n",
      "Solving environment: ...working... unsuccessful initial attempt using frozen solve. Retrying with flexible solve.\n",
      "Solving environment: ...working... \n",
      "Found conflicts! Looking for incompatible packages.\n",
      "This can take several minutes.  Press CTRL-C to abort.\n",
      "failed\n",
      "\n",
      "Note: you may need to restart the kernel to use updated packages.\n"
     ]
    },
    {
     "name": "stderr",
     "output_type": "stream",
     "text": [
      "\n",
      "Building graph of deps:   0%|          | 0/4 [00:00<?, ?it/s]\n",
      "Examining @/win-64::__archspec==1=x86_64:   0%|          | 0/4 [00:00<?, ?it/s]\n",
      "Examining @/win-64::__win==0=0:  25%|##5       | 1/4 [00:00<?, ?it/s]          \n",
      "Examining mordred:  50%|#####     | 2/4 [00:00<?, ?it/s]             \n",
      "Examining python=3.9:  75%|#######5  | 3/4 [00:01<00:00,  1.83it/s]\n",
      "Examining python=3.9: 100%|##########| 4/4 [00:01<00:00,  2.44it/s]\n",
      "                                                                   \n",
      "\n",
      "Determining conflicts:   0%|          | 0/4 [00:00<?, ?it/s]\n",
      "Examining conflict for mordred python:   0%|          | 0/4 [00:00<?, ?it/s]\n",
      "                                                                            \n",
      "\n",
      "UnsatisfiableError: The following specifications were found\n",
      "to be incompatible with the existing python installation in your environment:\n",
      "\n",
      "Specifications:\n",
      "\n",
      "  - mordred -> python[version='2.7.*|3.5.*|3.6.*|>=2.7,<2.8.0a0|>=3.5,<3.6.0a0|>=3.6,<3.7.0a0']\n",
      "\n",
      "Your python: python=3.9\n",
      "\n",
      "If python is on the left-most side of the chain, that's the version you've asked for.\n",
      "When python appears to the right, that indicates that the thing on the left is somehow\n",
      "not available for the python version you are constrained to. Note that conda will not\n",
      "change your python version to a different minor version unless you explicitly specify\n",
      "that.\n",
      "\n",
      "\n",
      "\n"
     ]
    }
   ],
   "source": [
    "\n"
   ]
  },
  {
   "cell_type": "code",
   "execution_count": 1,
   "id": "f828e14c",
   "metadata": {},
   "outputs": [
    {
     "ename": "ModuleNotFoundError",
     "evalue": "No module named 'mordred'",
     "output_type": "error",
     "traceback": [
      "\u001b[1;31m---------------------------------------------------------------------------\u001b[0m",
      "\u001b[1;31mModuleNotFoundError\u001b[0m                       Traceback (most recent call last)",
      "Cell \u001b[1;32mIn[1], line 14\u001b[0m\n\u001b[0;32m     11\u001b[0m \u001b[38;5;28;01mfrom\u001b[39;00m \u001b[38;5;21;01mrdkit\u001b[39;00m\u001b[38;5;21;01m.\u001b[39;00m\u001b[38;5;21;01mML\u001b[39;00m\u001b[38;5;21;01m.\u001b[39;00m\u001b[38;5;21;01mDescriptors\u001b[39;00m \u001b[38;5;28;01mimport\u001b[39;00m MoleculeDescriptors\n\u001b[0;32m     12\u001b[0m \u001b[38;5;66;03m#from rdkit.Chem import Draw\u001b[39;00m\n\u001b[0;32m     13\u001b[0m \u001b[38;5;66;03m#from rdkit.Chem.Draw import IPythonConsole\u001b[39;00m\n\u001b[1;32m---> 14\u001b[0m \u001b[38;5;28;01mfrom\u001b[39;00m \u001b[38;5;21;01mmordred\u001b[39;00m \u001b[38;5;28;01mimport\u001b[39;00m Calculator, descriptors\n\u001b[0;32m     17\u001b[0m \u001b[38;5;28;01mimport\u001b[39;00m \u001b[38;5;21;01mmatplotlib\u001b[39;00m\u001b[38;5;21;01m.\u001b[39;00m\u001b[38;5;21;01mpyplot\u001b[39;00m \u001b[38;5;28;01mas\u001b[39;00m \u001b[38;5;21;01mplt\u001b[39;00m\n\u001b[0;32m     18\u001b[0m \u001b[38;5;28;01mfrom\u001b[39;00m \u001b[38;5;21;01msklearn\u001b[39;00m\u001b[38;5;21;01m.\u001b[39;00m\u001b[38;5;21;01mpreprocessing\u001b[39;00m \u001b[38;5;28;01mimport\u001b[39;00m MinMaxScaler\n",
      "\u001b[1;31mModuleNotFoundError\u001b[0m: No module named 'mordred'"
     ]
    }
   ],
   "source": [
    "# Import packages \n",
    "import pandas as pd\n",
    "from pandas.core.apply import frame_apply\n",
    "import seaborn as sns\n",
    "import numpy as np\n",
    "import rdkit\n",
    "from rdkit import Chem\n",
    "from rdkit.Chem import AllChem\n",
    "from rdkit.Chem import Descriptors\n",
    "from rdkit.Chem import rdMolDescriptors\n",
    "from rdkit.ML.Descriptors import MoleculeDescriptors\n",
    "#from rdkit.Chem import Draw\n",
    "#from rdkit.Chem.Draw import IPythonConsole\n",
    "from mordred import Calculator, descriptors\n",
    "\n",
    "\n",
    "import matplotlib.pyplot as plt\n",
    "from sklearn.preprocessing import MinMaxScaler\n",
    "from sklearn.decomposition import PCA\n",
    "from sklearn import datasets\n",
    "from sklearn.model_selection import train_test_split\n",
    "from sklearn.tree import DecisionTreeClassifier\n",
    "from sklearn.metrics import accuracy_score"
   ]
  },
  {
   "cell_type": "markdown",
   "id": "e5b41315",
   "metadata": {},
   "source": [
    "## Preprocessing"
   ]
  },
  {
   "cell_type": "code",
   "execution_count": null,
   "id": "82241eac",
   "metadata": {},
   "outputs": [],
   "source": [
    "# Read file\n",
    "original_df = pd.read_csv('tested_molecules_1.csv')\n",
    "\n",
    "# Split the column\n",
    "original_df[['SMILES', 'ALDH1_inhibition']] = original_df['SMILES,\"ALDH1_inhibition\"'].str.split(',', expand=True)\n",
    "original_df.drop('SMILES,\"ALDH1_inhibition\"', axis=1, inplace=True)\n",
    "\n",
    "original_df['ALDH1_inhibition'] = original_df['ALDH1_inhibition'].str.strip('\"')\n",
    "\n",
    "data_set_new = original_df.copy()\n",
    "\n",
    "descriptor_names = list(rdMolDescriptors.Properties.GetAvailableProperties())\n",
    "\n",
    "get_descriptors = rdMolDescriptors.Properties(descriptor_names)\n",
    "\n",
    "def smi_to_descriptors(smile):\n",
    "    mol = Chem.MolFromSmiles(smile)\n",
    "    descriptors = []\n",
    "    if mol:\n",
    "        descriptors = np.array(get_descriptors.ComputeProperties(mol))\n",
    "    return descriptors\n",
    "\n",
    "original_df['descriptors'] = original_df.SMILES.apply(smi_to_descriptors)\n",
    "\n"
   ]
  },
  {
   "cell_type": "code",
   "execution_count": null,
   "id": "d61b129b",
   "metadata": {},
   "outputs": [],
   "source": [
    "def morgan_fpts(data):\n",
    "    Morgan_fpts = []\n",
    "    for i in data:\n",
    "        mol = Chem.MolFromSmiles(i) \n",
    "        fpts =  AllChem.GetMorganFingerprintAsBitVect(mol,2,2048)\n",
    "        mfpts = np.array(fpts)\n",
    "        Morgan_fpts.append(mfpts)  \n",
    "    return np.array(Morgan_fpts)"
   ]
  },
  {
   "cell_type": "code",
   "execution_count": null,
   "id": "82b90931",
   "metadata": {},
   "outputs": [],
   "source": [
    "Morgan_fpts = morgan_fpts(dataset_new['SMILES'])\n",
    "Morgan_fpts.shape"
   ]
  },
  {
   "cell_type": "code",
   "execution_count": null,
   "id": "c732bb3d",
   "metadata": {},
   "outputs": [],
   "source": [
    "Morgan_fingerprints = pd.DataFrame(Morgan_fpts,columns=['Col_{}'.format(i) for i in range(Morgan_fpts.shape[1])])\n",
    "Morgan_fingerprints"
   ]
  },
  {
   "cell_type": "code",
   "execution_count": null,
   "id": "ea740e55",
   "metadata": {},
   "outputs": [],
   "source": [
    "def All_Mordred_descriptors(data):\n",
    "    calc = Calculator(descriptors, ignore_3D=False)\n",
    "    mols = [Chem.MolFromSmiles(smi) for smi in data]\n",
    "    \n",
    "    # pandas df\n",
    "    df = calc.pandas(mols)\n",
    "    return df\n",
    "\n",
    "mordred_descriptors = All_Mordred_descriptors(dataset_new['SMILES'])"
   ]
  },
  {
   "cell_type": "code",
   "execution_count": null,
   "id": "d878521c",
   "metadata": {},
   "outputs": [],
   "source": [
    "mordred_descriptors.shape"
   ]
  },
  {
   "cell_type": "code",
   "execution_count": null,
   "id": "09bf05c2",
   "metadata": {},
   "outputs": [],
   "source": [
    "mordred_descriptors"
   ]
  },
  {
   "cell_type": "markdown",
   "id": "74d5469d",
   "metadata": {},
   "source": [
    "### Adding descriptors"
   ]
  },
  {
   "cell_type": "markdown",
   "id": "28177e15",
   "metadata": {},
   "source": [
    "# Get all available descriptors\n",
    "all_descriptors = [desc[0] for desc in Descriptors.descList]\n",
    "\n",
    "# Print all descriptors\n",
    "for descriptor in all_descriptors:\n",
    "    print(descriptor)"
   ]
  },
  {
   "cell_type": "code",
   "execution_count": null,
   "id": "5ef4eb17",
   "metadata": {},
   "outputs": [],
   "source": [
    "original_df.head() \n"
   ]
  },
  {
   "cell_type": "code",
   "execution_count": null,
   "id": "b2315fef",
   "metadata": {},
   "outputs": [],
   "source": [
    "print(length(original_df(\"descriptors\")))"
   ]
  },
  {
   "cell_type": "markdown",
   "id": "b37ede54",
   "metadata": {
    "scrolled": true
   },
   "source": [
    "df_variables = df.drop(columns=[\"SMILES\",\"ALDH1_inhibition\"])                 \n",
    "df_variables"
   ]
  },
  {
   "cell_type": "markdown",
   "id": "1f36c339",
   "metadata": {},
   "source": [
    "### Find correlation\n",
    "\n",
    "MaxAbsEStateIndex == MaxEStateINdex is removed \n"
   ]
  },
  {
   "cell_type": "code",
   "execution_count": null,
   "id": "b0e2b19a",
   "metadata": {},
   "outputs": [],
   "source": [
    "df_variables = df.drop(columns=[\"SMILES\"]) \n",
    "df_variables['ALDH1_inhibition'] = pd.to_numeric(df_variables['ALDH1_inhibition'])\n",
    "\n",
    "# Remove values that do not vary \n",
    "df_for_stv_variables = df_variables.copy()\n",
    "\n",
    "# Calculate the standard deviation for each column\n",
    "std_dev = df_for_stv_variables.std()\n",
    "threshold = 0.1\n",
    "\n",
    "columns_to_drop = std_dev[std_dev < threshold].index\n",
    "\n",
    "# Drop the columns with zero standard deviation from df_variables\n",
    "df_for_stv_variables.drop(columns=columns_to_drop, inplace=True)\n",
    "df_for_stv_variables"
   ]
  },
  {
   "cell_type": "code",
   "execution_count": null,
   "id": "e654e1a5",
   "metadata": {},
   "outputs": [],
   "source": [
    "# Correlation calculation\n",
    "correlation_variables = df_for_stv_variables.corr()                            # Calculate correlation\n",
    "correlation_variables"
   ]
  },
  {
   "cell_type": "code",
   "execution_count": null,
   "id": "40379882",
   "metadata": {},
   "outputs": [],
   "source": [
    "# Correlation >0.9 removed.                         # Van 180 naar 146\n",
    "new_df_variables = df_for_stv_variables.copy()\n",
    "corr_matrix = new_df_variables.corr().abs()\n",
    "corr_matrix\n",
    "mask = np.triu(np.ones(corr_matrix.shape, dtype=bool), k=1)\n",
    "mask\n",
    "\n",
    "# Select upper triangle of correlation matrix using the boolean mask\n",
    "upper = corr_matrix.where(mask)\n",
    "\n",
    "# Find index of columns with correlation greater than 0.95\n",
    "to_drop = [column for column in upper.columns if any(upper[column] > 0.90)]\n",
    "\n",
    "# Drop the columns\n",
    "new_df_variables.drop(columns=to_drop, inplace=True)\n",
    "new_df_variables"
   ]
  },
  {
   "cell_type": "code",
   "execution_count": null,
   "id": "9183f8f3",
   "metadata": {},
   "outputs": [],
   "source": [
    " # Sort on correlation with Inhibition.   \n",
    "    \n",
    "first_column = new_df_variables.iloc[:, 0]                           # Select the first column ,is ALDH1_inhibition\n",
    "correlations = new_df_variables.iloc[:, 1:].corrwith(first_column)\n",
    "sorted_correlations = correlations.abs().sort_values(ascending=False)\n",
    "\n",
    "df_filtered = new_df_variables.copy()\n",
    "a = 0\n",
    "for column_name, correlation in sorted_correlations.items():\n",
    "    print(\"Column:\", column_name)\n",
    "    print(\"Absolute Correlation:\", correlation)\n",
    "    print()\n",
    " \n",
    "    if correlation < 0.08:\n",
    "        a = a + 1\n",
    "        df_filtered = df_filtered.drop(columns=[column_name]) \n",
    "\n",
    "\n",
    "print(a)\n",
    "print(sorted_correlations.items())"
   ]
  },
  {
   "cell_type": "code",
   "execution_count": null,
   "id": "11a05d1c",
   "metadata": {},
   "outputs": [],
   "source": [
    "df_filtered"
   ]
  },
  {
   "cell_type": "code",
   "execution_count": null,
   "id": "14f6c1d6",
   "metadata": {},
   "outputs": [],
   "source": [
    "df_filtered = df_filtered.drop(columns=['ALDH1_inhibition']) \n",
    "df_filtered"
   ]
  },
  {
   "cell_type": "code",
   "execution_count": null,
   "id": "50e46e9f",
   "metadata": {},
   "outputs": [],
   "source": [
    "# Calculate correlation and plot figure\n",
    "correlation = df_filtered.corr()                            # Calculate correlation\n",
    "f = plt.figure(figsize=(19, 15))\n",
    "plt.matshow(correlation, fignum=f.number)          \n",
    "\n",
    "# choose axes range\n",
    "#plt.xticks(range(df_filtered.select_dtypes(['number']).shape[1]), df.select_dtypes(['number']).columns, fontsize=14, rotation=45)\n",
    "#plt.yticks(range(df_filtered.select_dtypes(['number']).shape[1]), df.select_dtypes(['number']).columns, fontsize=14)\n",
    "\n",
    "cb = plt.colorbar()  \n",
    "cb.ax.tick_params(labelsize=14)\n",
    "plt.title('Correlation Matrix', fontsize=20);"
   ]
  },
  {
   "cell_type": "markdown",
   "id": "5a05e9fb",
   "metadata": {},
   "source": [
    "### Check missing values \n"
   ]
  },
  {
   "cell_type": "code",
   "execution_count": null,
   "id": "2bd78ef1",
   "metadata": {},
   "outputs": [],
   "source": [
    "df_selected = df_filtered.copy()\n",
    "missing_values = df_selected.isna().sum().sum()     \n",
    "if missing_values > 0: \n",
    "   print('Remove missing values')\n",
    "else: \n",
    "   print('No missing_values')"
   ]
  },
  {
   "cell_type": "markdown",
   "id": "7afc72ca",
   "metadata": {},
   "source": [
    "### Check duplicates"
   ]
  },
  {
   "cell_type": "code",
   "execution_count": null,
   "id": "a4bb5460",
   "metadata": {},
   "outputs": [],
   "source": [
    "check_duplicate = df_selected.duplicated()\n",
    "if check_duplicate.any():\n",
    "    print(\"Duplicates exist in the DataFrame.\")\n",
    "else:\n",
    "    print(\"All GOOD!\")"
   ]
  },
  {
   "cell_type": "markdown",
   "id": "e69618fe",
   "metadata": {},
   "source": [
    "## Principal Component Analysis (PCA)"
   ]
  },
  {
   "cell_type": "code",
   "execution_count": null,
   "id": "e89ab750",
   "metadata": {},
   "outputs": [],
   "source": [
    "# Scaling the data \n",
    "df_copied = df_selected.copy()\n",
    "scaler = MinMaxScaler()\n",
    "df_scaled = scaler.fit_transform(df_copied)"
   ]
  },
  {
   "cell_type": "code",
   "execution_count": null,
   "id": "87f5f4f6",
   "metadata": {},
   "outputs": [],
   "source": [
    "# Create principal components\n",
    "pca = PCA()\n",
    "df_pca = pca.fit_transform(df_scaled)\n",
    "\n",
    "# Convert to dataframe\n",
    "component_names = [f\"PC{i+1}\" for i in range(df_pca.shape[1])]\n",
    "df_pca_converted = pd.DataFrame(df_pca, columns=component_names)\n",
    "\n",
    "df_pca_converted.head()"
   ]
  },
  {
   "cell_type": "code",
   "execution_count": null,
   "id": "7e306ac0",
   "metadata": {},
   "outputs": [],
   "source": [
    "# Explained variance\n",
    "evr = pca.explained_variance_ratio_\n",
    "print(evr*100)\n",
    "    \n",
    "# Cumaltive Variance\n",
    "cv = np.cumsum(evr)\n",
    "print(cv)                                \n",
    "\n",
    "# Need 7 principle components for 90%\n",
    "# Need 2 principle compnents for 60% "
   ]
  },
  {
   "cell_type": "code",
   "execution_count": null,
   "id": "8cd340e5",
   "metadata": {},
   "outputs": [],
   "source": [
    "# Create figure\n",
    "fig, axs = plt.subplots(1, 2)\n",
    "n = pca.n_components_\n",
    "grid = np.arange(1, n + 1)\n",
    "\n",
    "# Explained variance\n",
    "axs[0].bar(grid, evr)\n",
    "axs[0].set(\n",
    "    xlabel=\"Component\", title=\"% Explained Variance\", ylim=(0.0, 1.0)\n",
    ")\n",
    "\n",
    "# Cumulative Variance\n",
    "axs[1].plot(np.r_[0, grid], np.r_[0, cv], \"o-\")\n",
    "axs[1].plot([0, n], [0.9, 0.9], color='k', linestyle='-', linewidth=2)\n",
    "axs[1].set(\n",
    "    xlabel=\"Component\", title=\"% Cumulative Variance\", ylim=(0.0, 1.0)\n",
    ")\n",
    "        \n",
    "# Set up figure\n",
    "fig.set(figwidth=8, dpi=100);"
   ]
  },
  {
   "cell_type": "code",
   "execution_count": null,
   "id": "d792d6ba",
   "metadata": {},
   "outputs": [],
   "source": [
    "# Summery figure explained and cumulative variance\n",
    "plt.bar(range(1,len(evr)+1), evr, alpha=0.5, align='center', label='Individual explained variance ')    # explained variance\n",
    "plt.step(range(1,len(cv)+1), cv, where='mid',label='Cumulative explained variance ')       # Cumulative explained variance\n",
    "\n",
    "plt.xlabel('Principal components (PCs)')\n",
    "plt.ylabel('variance')\n",
    "plt.title('Expained and cumulative variance for each principal component', fontsize=15)\n",
    "\n",
    "plt.legend(loc='best')\n",
    "plt.tight_layout()\n",
    "plt.show()"
   ]
  },
  {
   "cell_type": "markdown",
   "id": "bbadb992",
   "metadata": {},
   "source": [
    "### Loadings"
   ]
  },
  {
   "cell_type": "code",
   "execution_count": null,
   "id": "e0f4897f",
   "metadata": {},
   "outputs": [],
   "source": [
    "loadings = pd.DataFrame(\n",
    "   pca.components_.T,                     # transpose the pca matrix \n",
    "   columns=component_names,               # so the columns are the principal components\n",
    "   index=df_selected.columns,                      # and the rows are the original features\n",
    ")\n",
    "loadings      "
   ]
  },
  {
   "cell_type": "code",
   "execution_count": null,
   "id": "78a3c9a5",
   "metadata": {},
   "outputs": [],
   "source": [
    "def plot_loadings(PC_1, PC_2):\n",
    "    labels = loadings.index\n",
    "    sns.set_style('white')\n",
    "    sns.scatterplot(data=loadings, x=PC_1, y=PC_2, hue=labels, palette = 'Paired')\n",
    "\n",
    "    plt.axhline(y=0, color='gray', linestyle='dotted')    \n",
    "    plt.axvline(x=0, color='gray', linestyle='dotted')\n",
    "    plt.axline((-0.2, -0.2), slope = 1,color ='r', linestyle = 'dotted')\n",
    "\n",
    "    plt.legend(ncol =5, title = 'Variables', loc='center left', bbox_to_anchor=(1.0, 0.5))"
   ]
  },
  {
   "cell_type": "code",
   "execution_count": null,
   "id": "6a38183d",
   "metadata": {},
   "outputs": [],
   "source": [
    "plot_loadings(PC_1 ='PC1', PC_2= 'PC2')               # IS ZO NIETS ZICHTBAAR< Worden te veel variabelen meegenomen. \n",
    "\n",
    "plt.xlabel('Loadings on PC1 (EV = 45.01 %)')\n",
    "plt.ylabel('Loadings on PC2 (EV = 21.57 %)')\n",
    "plt.title('Loadings principal components 1 and 2', fontsize = 15)"
   ]
  },
  {
   "cell_type": "markdown",
   "id": "fee0a281",
   "metadata": {},
   "source": [
    "### Score plots "
   ]
  },
  {
   "cell_type": "code",
   "execution_count": null,
   "id": "15df0c86",
   "metadata": {},
   "outputs": [],
   "source": [
    "def plot_scores(label,PC_1, PC_2):\n",
    "    labels = original_df[label]\n",
    "    sns.set_style('white')\n",
    "    sns.scatterplot(x=df_pca[:, PC_1], y=df_pca[:, PC_2], hue=labels, palette= 'bright')\n",
    "\n",
    "    plt.axhline(y=0, color='gray', linestyle='dotted')    \n",
    "    plt.axvline(x=0, color='gray', linestyle='dotted')\n",
    "\n",
    "    plt.legend(loc= 'best', ncol =2, title = label)"
   ]
  },
  {
   "cell_type": "code",
   "execution_count": null,
   "id": "3e5c3d7e",
   "metadata": {},
   "outputs": [],
   "source": [
    "print(df_pca)"
   ]
  },
  {
   "cell_type": "code",
   "execution_count": null,
   "id": "0ee1c657",
   "metadata": {
    "scrolled": true
   },
   "outputs": [],
   "source": [
    "plot_scores(label= 'ALDH1_inhibition', PC_1= 0 , PC_2 = 1)\n",
    "\n",
    "plt.xlabel('Scores on PC1 (EV =  %)')\n",
    "plt.ylabel('Scores on PC2 (EV =  %)')\n",
    "plt.title('Scores separated by ALDH1 inhibition', fontsize=15)"
   ]
  },
  {
   "cell_type": "code",
   "execution_count": null,
   "id": "056b047d",
   "metadata": {},
   "outputs": [],
   "source": [
    "plot_scores(label= 'ALDH1_inhibition', PC_1= 2 , PC_2 = 3)\n",
    "\n",
    "plt.xlabel('Scores on PC3 (EV =  %)')\n",
    "plt.ylabel('Scores on PC4 (EV =  %)')\n",
    "plt.title('Scores separated by ALDH1 inhibition', fontsize=15)"
   ]
  },
  {
   "cell_type": "code",
   "execution_count": null,
   "id": "b6b0f0f5",
   "metadata": {},
   "outputs": [],
   "source": [
    "plot_scores(label= 'ALDH1_inhibition', PC_1= 4 , PC_2 = 5)\n",
    "\n",
    "plt.xlabel('Scores on PC5 (EV =  %)')\n",
    "plt.ylabel('Scores on PC6 (EV =  %)')\n",
    "plt.title('Scores separated by ALDH1 inhibition', fontsize=15)"
   ]
  },
  {
   "cell_type": "code",
   "execution_count": null,
   "id": "7cec62ec",
   "metadata": {},
   "outputs": [],
   "source": [
    "plot_scores(label= 'ALDH1_inhibition', PC_1= 6 , PC_2 = 7)\n",
    "\n",
    "plt.xlabel('Scores on PC7 (EV = %)')\n",
    "plt.ylabel('Scores on PC8 (EV = %)')\n",
    "plt.title('Scores separated by ALDH1 inhibition', fontsize=15)"
   ]
  },
  {
   "cell_type": "code",
   "execution_count": null,
   "id": "686990c0",
   "metadata": {},
   "outputs": [],
   "source": [
    "plot_scores(label= 'ALDH1_inhibition', PC_1= 8 , PC_2 = 9)\n",
    "\n",
    "plt.xlabel('Scores on PC9 (EV =  %)')\n",
    "plt.ylabel('Scores on PC10 (EV =  %)')\n",
    "plt.title('Scores separated by ALDH1 inhibition', fontsize=15)"
   ]
  },
  {
   "cell_type": "code",
   "execution_count": null,
   "id": "1138df22",
   "metadata": {},
   "outputs": [],
   "source": [
    "plot_scores(label= 'ALDH1_inhibition', PC_1= 0 , PC_2 = 10)\n",
    "\n",
    "plt.xlabel('Scores on PC1 (EV = %)')\n",
    "plt.ylabel('Scores on PC11 (EV =  %)')\n",
    "plt.title('Scores separated by ALDH1 inhibition', fontsize=15)"
   ]
  }
 ],
 "metadata": {
  "kernelspec": {
   "display_name": "Python 3 (ipykernel)",
   "language": "python",
   "name": "python3"
  },
  "language_info": {
   "codemirror_mode": {
    "name": "ipython",
    "version": 3
   },
   "file_extension": ".py",
   "mimetype": "text/x-python",
   "name": "python",
   "nbconvert_exporter": "python",
   "pygments_lexer": "ipython3",
   "version": "3.9.13"
  }
 },
 "nbformat": 4,
 "nbformat_minor": 5
}
