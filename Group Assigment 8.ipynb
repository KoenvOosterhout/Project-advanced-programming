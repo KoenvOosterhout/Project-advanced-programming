{
 "cells": [
  {
   "cell_type": "code",
   "execution_count": 1,
   "id": "82241eac",
   "metadata": {},
   "outputs": [
    {
     "ename": "ImportError",
     "evalue": "DLL load failed while importing rdmolfiles: The specified procedure could not be found.",
     "output_type": "error",
     "traceback": [
      "\u001b[1;31m---------------------------------------------------------------------------\u001b[0m",
      "\u001b[1;31mImportError\u001b[0m                               Traceback (most recent call last)",
      "\u001b[1;32m~\\AppData\\Local\\Temp\\ipykernel_12296\\3664339078.py\u001b[0m in \u001b[0;36m<module>\u001b[1;34m\u001b[0m\n\u001b[0;32m      1\u001b[0m \u001b[1;32mimport\u001b[0m \u001b[0mpandas\u001b[0m \u001b[1;32mas\u001b[0m \u001b[0mpd\u001b[0m\u001b[1;33m\u001b[0m\u001b[1;33m\u001b[0m\u001b[0m\n\u001b[0;32m      2\u001b[0m \u001b[1;32mimport\u001b[0m \u001b[0mrdkit\u001b[0m\u001b[1;33m\u001b[0m\u001b[1;33m\u001b[0m\u001b[0m\n\u001b[1;32m----> 3\u001b[1;33m \u001b[1;32mfrom\u001b[0m \u001b[0mrdkit\u001b[0m \u001b[1;32mimport\u001b[0m \u001b[0mChem\u001b[0m\u001b[1;33m\u001b[0m\u001b[1;33m\u001b[0m\u001b[0m\n\u001b[0m\u001b[0;32m      4\u001b[0m \u001b[1;32mfrom\u001b[0m \u001b[0mrdkit\u001b[0m\u001b[1;33m.\u001b[0m\u001b[0mChem\u001b[0m \u001b[1;32mimport\u001b[0m \u001b[0mAllChem\u001b[0m\u001b[1;33m\u001b[0m\u001b[1;33m\u001b[0m\u001b[0m\n\u001b[0;32m      5\u001b[0m \u001b[1;32mfrom\u001b[0m \u001b[0mrdkit\u001b[0m\u001b[1;33m.\u001b[0m\u001b[0mChem\u001b[0m \u001b[1;32mimport\u001b[0m \u001b[0mDescriptors\u001b[0m\u001b[1;33m\u001b[0m\u001b[1;33m\u001b[0m\u001b[0m\n",
      "\u001b[1;32m~\\.conda\\envs\\rdkit_env\\lib\\site-packages\\rdkit\\Chem\\__init__.py\u001b[0m in \u001b[0;36m<module>\u001b[1;34m\u001b[0m\n\u001b[0;32m     21\u001b[0m \u001b[0m_HasSubstructMatchStr\u001b[0m \u001b[1;33m=\u001b[0m \u001b[0mrdchem\u001b[0m\u001b[1;33m.\u001b[0m\u001b[0m_HasSubstructMatchStr\u001b[0m\u001b[1;33m\u001b[0m\u001b[1;33m\u001b[0m\u001b[0m\n\u001b[0;32m     22\u001b[0m \u001b[1;32mfrom\u001b[0m \u001b[0mrdkit\u001b[0m\u001b[1;33m.\u001b[0m\u001b[0mChem\u001b[0m\u001b[1;33m.\u001b[0m\u001b[0mrdchem\u001b[0m \u001b[1;32mimport\u001b[0m \u001b[1;33m*\u001b[0m\u001b[1;33m\u001b[0m\u001b[1;33m\u001b[0m\u001b[0m\n\u001b[1;32m---> 23\u001b[1;33m \u001b[1;32mfrom\u001b[0m \u001b[0mrdkit\u001b[0m\u001b[1;33m.\u001b[0m\u001b[0mChem\u001b[0m\u001b[1;33m.\u001b[0m\u001b[0mrdmolfiles\u001b[0m \u001b[1;32mimport\u001b[0m \u001b[1;33m*\u001b[0m\u001b[1;33m\u001b[0m\u001b[1;33m\u001b[0m\u001b[0m\n\u001b[0m\u001b[0;32m     24\u001b[0m \u001b[1;32mfrom\u001b[0m \u001b[0mrdkit\u001b[0m\u001b[1;33m.\u001b[0m\u001b[0mChem\u001b[0m\u001b[1;33m.\u001b[0m\u001b[0mrdmolops\u001b[0m \u001b[1;32mimport\u001b[0m \u001b[1;33m*\u001b[0m\u001b[1;33m\u001b[0m\u001b[1;33m\u001b[0m\u001b[0m\n\u001b[0;32m     25\u001b[0m \u001b[1;32mfrom\u001b[0m \u001b[0mrdkit\u001b[0m\u001b[1;33m.\u001b[0m\u001b[0mChem\u001b[0m\u001b[1;33m.\u001b[0m\u001b[0mrdCIPLabeler\u001b[0m \u001b[1;32mimport\u001b[0m \u001b[1;33m*\u001b[0m\u001b[1;33m\u001b[0m\u001b[1;33m\u001b[0m\u001b[0m\n",
      "\u001b[1;31mImportError\u001b[0m: DLL load failed while importing rdmolfiles: The specified procedure could not be found."
     ]
    }
   ],
   "source": [
    "import pandas as pd\n",
    "import rdkit\n",
    "from rdkit import Chem\n",
    "from rdkit.Chem import AllChem\n",
    "from rdkit.Chem import Descriptors\n",
    "from rdkit.Chem import Draw\n",
    "#from rdkit.Chem.Draw import IPythonConsole\n",
    "\n",
    "original_df = pd.read_csv('tested_molecules-1.csv')\n",
    "\n",
    "# Split the column\n",
    "original_df[['SMILES', 'ALDH1_inhibition']] = original_df['SMILES,\"ALDH1_inhibition\"'].str.split(',', expand=True)\n",
    "original_df.drop('SMILES,\"ALDH1_inhibition\"', axis=1, inplace=True)\n",
    "\n",
    "original_df['ALDH1_inhibition'] = original_df['ALDH1_inhibition'].str.strip('\"')\n",
    "\n",
    "all_descriptors = [desc[0] for desc in Descriptors.descList]\n",
    "\n",
    "descriptor_data = []\n",
    "for i, row in original_df.iterrows():\n",
    "    mol = Chem.MolFromSmiles(row['SMILES'])\n",
    "    descriptor_values = [getattr(Descriptors, descriptor)(mol) for descriptor in all_descriptors]\n",
    "    descriptor_data.append(descriptor_values)\n",
    "\n",
    "descriptor_df = pd.DataFrame(descriptor_data, columns=all_descriptors)\n",
    "original_df = pd.concat([original_df, descriptor_df], axis=1)\n",
    "\n",
    "df = original_df.copy()\n",
    "df.set_index([\"SMILES\"], inplace = True)\n",
    "    \n",
    "    \n",
    "    \n",
    "#Molecular Weight (MolWt)\n",
    "#Exact and Approximate LogP (MolLogP, MolMR)\n",
    "#Topological Polar Surface Area (TPSA)\n",
    "#Number of H-Bond Donors and Acceptors (NumHDonors, NumHAcceptors)\n",
    "#Rotatable Bonds (NumRotatableBonds)\n",
    "#Number of Aromatic Rings (NumAromaticRings)\n",
    "#Number of Heavy Atoms (NumHeavyAtoms)\n",
    "#Number of Heteroatoms (NumHeteroatoms)\n",
    "#Number of Rings (NumRings)\n",
    "#Number of Chiral Centers (NumChiralCenters)\n",
    "#Fraction of Sp3 Hybridized Carbons (FractionCSP3)\n",
    "#Molecular Complexity Indices (MolLogS, FpDensityMorgan1, FpDensityMorgan2)\n"
   ]
  },
  {
   "cell_type": "code",
   "execution_count": null,
   "id": "a002c06a",
   "metadata": {},
   "outputs": [],
   "source": [
    "# Get all available descriptors\n",
    "all_descriptors = [desc[0] for desc in Descriptors.descList]\n",
    "\n",
    "# Print all descriptors\n",
    "for descriptor in all_descriptors:\n",
    "    print(descriptor)"
   ]
  },
  {
   "cell_type": "code",
   "execution_count": null,
   "id": "0e93a96a",
   "metadata": {},
   "outputs": [],
   "source": [
    "df.head()"
   ]
  },
  {
   "cell_type": "code",
   "execution_count": null,
   "id": "2bd78ef1",
   "metadata": {},
   "outputs": [],
   "source": [
    "print(original_df.isna().sum())\n",
    "print(original_df.isnull().values.any())"
   ]
  },
  {
   "cell_type": "code",
   "execution_count": null,
   "id": "a4bb5460",
   "metadata": {},
   "outputs": [],
   "source": [
    "check_duplicate = original_df.duplicated()\n",
    "if check_duplicate.any():\n",
    "    print(\"Duplicates exist in the DataFrame.\")\n",
    "else:\n",
    "    print(\"All GOOD!\")"
   ]
  },
  {
   "cell_type": "code",
   "execution_count": null,
   "id": "8cd340e5",
   "metadata": {},
   "outputs": [],
   "source": [
    "import pandas as pd\n",
    "import matplotlib.pyplot as plt\n",
    "\n",
    "from sklearn.preprocessing import MinMaxScaler\n",
    "X = df.copy()\n",
    "scaler = MinMaxScaler()\n",
    "X_scaled = scaler.fit_transform(X)\n",
    "\n",
    "from sklearn.decomposition import PCA\n",
    "\n",
    "# Create principal components\n",
    "pca = PCA()\n",
    "X_pca = pca.fit_transform(X_scaled)\n",
    "\n",
    "# Convert to dataframe\n",
    "component_names = [f\"PC{i+1}\" for i in range(X_pca.shape[1])]\n",
    "X_pca = pd.DataFrame(X_pca, columns=component_names)\n",
    "\n",
    "# Create figure\n",
    "fig, axs = plt.subplots(1, 2)\n",
    "n = pca.n_components_\n",
    "grid = np.arange(1, n + 1)\n",
    "# Explained variance\n",
    "evr = pca.explained_variance_ratio_\n",
    "axs[0].bar(grid, evr)\n",
    "axs[0].set(\n",
    "    xlabel=\"Component\", title=\"% Explained Variance\", ylim=(0.0, 1.0)\n",
    ")\n",
    "\n",
    "# Cumulative Variance\n",
    "cv = np.cumsum(evr)\n",
    "axs[1].plot(np.r_[0, grid], np.r_[0, cv], \"o-\")\n",
    "axs[1].plot([0, n], [0.9, 0.9], color='k', linestyle='-', linewidth=2)\n",
    "axs[1].set(\n",
    "    xlabel=\"Component\", title=\"% Cumulative Variance\", ylim=(0.0, 1.0)\n",
    ")\n",
    "# Set up figure\n",
    "fig.set(figwidth=8, dpi=100);"
   ]
  },
  {
   "cell_type": "code",
   "execution_count": null,
   "id": "c5b2a649",
   "metadata": {},
   "outputs": [],
   "source": [
    "try:\n",
    "    import matplotlib.pyplot\n",
    "    print(\"Library is installed.\")\n",
    "except ImportError:\n",
    "    print(\"Library is not installed.\")"
   ]
  },
  {
   "cell_type": "code",
   "execution_count": 3,
   "id": "9ca788f9",
   "metadata": {},
   "outputs": [
    {
     "name": "stdout",
     "output_type": "stream",
     "text": [
      "2022.03.5\n"
     ]
    }
   ],
   "source": [
    "import rdkit\n",
    "print(rdkit.__version__)"
   ]
  },
  {
   "cell_type": "code",
   "execution_count": null,
   "id": "40a2f3b4",
   "metadata": {},
   "outputs": [],
   "source": []
  }
 ],
 "metadata": {
  "kernelspec": {
   "display_name": "Python 3 (ipykernel)",
   "language": "python",
   "name": "python3"
  },
  "language_info": {
   "codemirror_mode": {
    "name": "ipython",
    "version": 3
   },
   "file_extension": ".py",
   "mimetype": "text/x-python",
   "name": "python",
   "nbconvert_exporter": "python",
   "pygments_lexer": "ipython3",
   "version": "3.8.16"
  }
 },
 "nbformat": 4,
 "nbformat_minor": 5
}
